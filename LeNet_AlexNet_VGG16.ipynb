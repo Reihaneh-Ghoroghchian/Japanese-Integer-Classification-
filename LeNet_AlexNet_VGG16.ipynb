{
  "nbformat": 4,
  "nbformat_minor": 0,
  "metadata": {
    "colab": {
      "provenance": [],
      "collapsed_sections": [
        "dOG88-L813U3"
      ]
    },
    "kernelspec": {
      "name": "python3",
      "display_name": "Python 3"
    },
    "language_info": {
      "name": "python"
    },
    "accelerator": "GPU",
    "gpuClass": "standard"
  },
  "cells": [
    {
      "cell_type": "markdown",
      "source": [
        "# Mini Project 3"
      ],
      "metadata": {
        "id": "MyrrM1yimY5x"
      }
    },
    {
      "cell_type": "code",
      "source": [
        "import pickle\n",
        "import matplotlib.pyplot as plt\n",
        "import numpy as np\n",
        "from torchvision import transforms\n",
        "from torch.utils.data import Dataset\n",
        "from torch.utils.data import DataLoader, TensorDataset\n",
        "from PIL import Image\n",
        "import torch\n",
        "import torchvision\n",
        "import torch.nn as nn\n",
        "import torch.nn.functional as F\n",
        "import torch.optim as optim\n",
        "from sklearn.utils import shuffle\n",
        "from torch.utils.data.dataloader import DataLoader\n",
        "from torch.utils.data import random_split"
      ],
      "metadata": {
        "id": "2EHx8gGdxF88"
      },
      "execution_count": null,
      "outputs": []
    },
    {
      "cell_type": "code",
      "source": [
        "from google.colab import drive\n",
        "drive.mount('/content/gdrive', force_remount=True)"
      ],
      "metadata": {
        "colab": {
          "base_uri": "https://localhost:8080/"
        },
        "id": "0amGwzuaxSe9",
        "outputId": "cfb9c0f0-5b1d-4034-96b4-cd84f30a8d26"
      },
      "execution_count": null,
      "outputs": [
        {
          "output_type": "stream",
          "name": "stdout",
          "text": [
            "Mounted at /content/gdrive\n"
          ]
        }
      ]
    },
    {
      "cell_type": "code",
      "source": [
        "%cd /content/gdrive/MyDrive/MiniProject3/dataset/"
      ],
      "metadata": {
        "id": "WI_8Dygrxp3A",
        "colab": {
          "base_uri": "https://localhost:8080/"
        },
        "outputId": "9440d6e2-ee97-4855-cf69-8d9451168f2d"
      },
      "execution_count": null,
      "outputs": [
        {
          "output_type": "stream",
          "name": "stdout",
          "text": [
            "/content/gdrive/MyDrive/MiniProject3/dataset\n"
          ]
        }
      ]
    },
    {
      "cell_type": "code",
      "source": [
        "!pwd"
      ],
      "metadata": {
        "colab": {
          "base_uri": "https://localhost:8080/"
        },
        "id": "NE0y8txRx7ld",
        "outputId": "793db055-7e2a-41f7-bad0-13ae323210a3"
      },
      "execution_count": null,
      "outputs": [
        {
          "output_type": "stream",
          "name": "stdout",
          "text": [
            "/content/gdrive/MyDrive/MiniProject3/dataset\n"
          ]
        }
      ]
    },
    {
      "cell_type": "markdown",
      "source": [
        "1.Loading the data:"
      ],
      "metadata": {
        "id": "huw_0yjpw_4W"
      }
    },
    {
      "cell_type": "code",
      "source": [
        "datas = pickle.load( open( 'Train.pkl', 'rb' ))\n",
        "targets = np.genfromtxt('Train_labels.csv', delimiter=',')[1:]\n",
        "\n",
        "data_test = pickle.load( open('Test.pkl', 'rb' ))"
      ],
      "metadata": {
        "id": "ZltEGxYsuxJ9"
      },
      "execution_count": null,
      "outputs": []
    },
    {
      "cell_type": "markdown",
      "source": [
        "data example"
      ],
      "metadata": {
        "id": "u7OQsm5Quszb"
      }
    },
    {
      "cell_type": "code",
      "source": [
        "plt.imshow(datas[1234][0], cmap='gray', interpolation=\"bicubic\")\n",
        "plt.show()\n",
        "print(\"Class\",int(targets[1234][1]))"
      ],
      "metadata": {
        "colab": {
          "base_uri": "https://localhost:8080/",
          "height": 282
        },
        "id": "hJNa6vD4u6ck",
        "outputId": "2ef58449-1545-4ff6-8531-3b2748fccc3c"
      },
      "execution_count": null,
      "outputs": [
        {
          "output_type": "display_data",
          "data": {
            "text/plain": [
              "<Figure size 432x288 with 1 Axes>"
            ],
            "image/png": "[encoded data removed]"
          },
          "metadata": {
            "needs_background": "light"
          }
        },
        {
          "output_type": "stream",
          "name": "stdout",
          "text": [
            "Class 4\n"
          ]
        }
      ]
    },
    {
      "cell_type": "markdown",
      "source": [
        "Data dimentions"
      ],
      "metadata": {
        "id": "F9qfjSPava94"
      }
    },
    {
      "cell_type": "code",
      "source": [
        "print(\"Total number of Samples: \", len(datas))\n",
        "print(\"Dimentions of each image: \", datas[1234][0].shape)"
      ],
      "metadata": {
        "colab": {
          "base_uri": "https://localhost:8080/"
        },
        "id": "DqcoROE3vcm9",
        "outputId": "123008bf-f744-4dc4-b685-2712937f8774"
      },
      "execution_count": null,
      "outputs": [
        {
          "output_type": "stream",
          "name": "stdout",
          "text": [
            "Total number of Samples:  60000\n",
            "Dimentions of each image:  (28, 28)\n"
          ]
        }
      ]
    },
    {
      "cell_type": "code",
      "source": [
        "print(np.argwhere(np.isnan(datas)))\n",
        "print(np.argwhere(np.isnan(targets)))"
      ],
      "metadata": {
        "colab": {
          "base_uri": "https://localhost:8080/"
        },
        "id": "sSZifnn0vwCX",
        "outputId": "c8de0dab-0e38-44ca-87a0-6c8151eb80fb"
      },
      "execution_count": null,
      "outputs": [
        {
          "output_type": "stream",
          "name": "stdout",
          "text": [
            "[]\n",
            "[]\n"
          ]
        }
      ]
    },
    {
      "cell_type": "markdown",
      "source": [
        "There are no missing values in the training data or targets"
      ],
      "metadata": {
        "id": "s6IakzKYvzV7"
      }
    },
    {
      "cell_type": "markdown",
      "source": [
        "Data loaders"
      ],
      "metadata": {
        "id": "uNCMKYS5wvJH"
      }
    },
    {
      "cell_type": "code",
      "source": [
        "targets=targets.astype(int)\n",
        "datas = torch.from_numpy(datas[:])\n",
        "targets = torch.from_numpy(targets[:,1])\n",
        "\n",
        "\n",
        "random_seed = 1\n",
        "torch.backends.cudnn.enabled = False\n",
        "torch.manual_seed(random_seed)\n",
        "\n",
        "dataset = TensorDataset(datas,targets)\n",
        "print(f\"Length of Data : {len(dataset)}\")\n",
        "\n",
        "data_test = torch.from_numpy(data_test[:])\n"
      ],
      "metadata": {
        "colab": {
          "base_uri": "https://localhost:8080/"
        },
        "id": "JMqFjmFAwxgA",
        "outputId": "bf5c729c-d1ca-4b95-9980-05bf16ea4752"
      },
      "execution_count": null,
      "outputs": [
        {
          "output_type": "stream",
          "name": "stdout",
          "text": [
            "Length of Data : 60000\n"
          ]
        }
      ]
    },
    {
      "cell_type": "markdown",
      "source": [
        "whole data"
      ],
      "metadata": {
        "id": "z0ybXFtbw93k"
      }
    },
    {
      "cell_type": "code",
      "source": [
        "all_data_batch_size=256\n",
        "all_dataloader = DataLoader(dataset, all_data_batch_size, shuffle = True )"
      ],
      "metadata": {
        "id": "G8z84Oj1w9Lu"
      },
      "execution_count": null,
      "outputs": []
    },
    {
      "cell_type": "markdown",
      "source": [
        "validation"
      ],
      "metadata": {
        "id": "OjapbIdfxAuQ"
      }
    },
    {
      "cell_type": "code",
      "source": [
        "batch_size_train = 256\n",
        "batch_size_test = 1000\n",
        "validatoin_size = 0.1\n",
        "\n",
        "\n",
        "val_size = int(validatoin_size *len(datas))\n",
        "train_size = len(dataset) - val_size\n",
        "\n",
        "train_data,val_data = random_split(dataset,[train_size,val_size])\n",
        "print(f\"Length of Train Data : {len(train_data)}\")\n",
        "print(f\"Length of Validation Data : {len(val_data)}\")\n",
        "\n",
        "train_loader = DataLoader(train_data, batch_size_train, shuffle = True )\n",
        "test_loader = DataLoader(val_data, batch_size_test)\n"
      ],
      "metadata": {
        "colab": {
          "base_uri": "https://localhost:8080/"
        },
        "id": "L4FcQ0hTxB9x",
        "outputId": "40d21666-974f-440a-f65e-460e7299353d"
      },
      "execution_count": null,
      "outputs": [
        {
          "output_type": "stream",
          "name": "stdout",
          "text": [
            "Length of Train Data : 54000\n",
            "Length of Validation Data : 6000\n"
          ]
        }
      ]
    },
    {
      "cell_type": "code",
      "source": [
        "train_accuracy=[]"
      ],
      "metadata": {
        "id": "8y78ZjkU4Xzj"
      },
      "execution_count": null,
      "outputs": []
    },
    {
      "cell_type": "code",
      "source": [
        "def train(epoch, network, data_loader, optimizer, criterion, log_interval, train_losses, train_counter):\n",
        "  network.train()\n",
        "  correct = 0\n",
        "  for batch_idx, (data, target) in enumerate(data_loader):\n",
        "    data = data.to('cuda')\n",
        "    target = target.to('cuda')\n",
        "    optimizer.zero_grad()\n",
        "    output = network(data)\n",
        "    pred = output.data.max(1, keepdim=True)[1]\n",
        "    correct += pred.eq(target.data.view_as(pred)).sum()\n",
        "\n",
        "    loss = criterion(output, target)\n",
        "    loss.backward()\n",
        "    optimizer.step()\n",
        "    if batch_idx % log_interval == 0:\n",
        "      '''print('Train Epoch: {} [{}/{} ({:.0f}%)]\\tLoss: {:.6f}'.format(\n",
        "        epoch, batch_idx * len(data), len(data_loader.dataset),\n",
        "        100. * batch_idx / len(data_loader), loss.item()))'''\n",
        "      train_losses.append(loss.item())\n",
        "      train_counter.append(\n",
        "        (batch_idx*64) + ((epoch-1)*len(data_loader.dataset)))\n",
        "  print('\\nTrain Epoch: {} Avg. loss: {:.4f}, Accuracy: {}/{} ({:.0f}%)\\n'.format(\n",
        "  epoch, loss, correct, len(data_loader.dataset),\n",
        "  100. * correct / len(data_loader.dataset)))\n",
        "  acc = ( correct) / len(data_loader.dataset)\n",
        "  train_accuracy.append(acc.cpu().numpy())\n"
      ],
      "metadata": {
        "id": "UZ5wIGJUxzZx"
      },
      "execution_count": null,
      "outputs": []
    },
    {
      "cell_type": "code",
      "source": [
        "test_accuracy=[]"
      ],
      "metadata": {
        "id": "eNZ6xnw4jf59"
      },
      "execution_count": null,
      "outputs": []
    },
    {
      "cell_type": "code",
      "source": [
        "def test(network, test_loader, criterion, test_losses):\n",
        "  network.eval()\n",
        "  test_loss = 0\n",
        "  correct = 0\n",
        "  with torch.no_grad():\n",
        "    for data, target in test_loader:\n",
        "      data = data.to('cuda')\n",
        "      target = target.to('cuda')\n",
        "      output = network(data)\n",
        "      test_loss += F.nll_loss(output, target, size_average=False).item()\n",
        "      pred = output.data.max(1, keepdim=True)[1]\n",
        "      correct += pred.eq(target.data.view_as(pred)).sum()\n",
        "  test_loss /= len(test_loader.dataset)\n",
        "  test_losses.append(test_loss)\n",
        "  print('\\nTest set: Avg. loss: {:.4f}, Accuracy: {}/{} ({:.0f}%)\\n'.format(\n",
        "    test_loss, correct, len(test_loader.dataset),\n",
        "    100. * correct / len(test_loader.dataset)))\n",
        "  acc = ( correct) / len(test_loader.dataset)\n",
        "  test_accuracy.append(acc.cpu().numpy())"
      ],
      "metadata": {
        "id": "GSp0N8OSytva"
      },
      "execution_count": null,
      "outputs": []
    },
    {
      "cell_type": "code",
      "source": [
        "def validation(n_epochs, network, train_loader, test_loader, optimizer, criterion, log_interval):\n",
        "  train_losses = []\n",
        "  train_counter = []\n",
        "  test_losses = []\n",
        "  test_counter = [i*len(train_loader.dataset) for i in range(n_epochs + 1)]\n",
        "  test(network, test_loader, criterion, test_losses)\n",
        "  for epoch in range(1, n_epochs + 1):\n",
        "    train(epoch, network, train_loader, optimizer, criterion, log_interval, train_losses, train_counter)\n",
        "    test(network, test_loader, criterion, test_losses)\n",
        "  return train_losses, test_losses\n"
      ],
      "metadata": {
        "id": "Qqm80-uQzLqR"
      },
      "execution_count": null,
      "outputs": []
    },
    {
      "cell_type": "code",
      "source": [
        "def prediction(n_epochs, network, alldataloader,data_test, optimizer, criterion, log_interval):\n",
        "  train_losses = []\n",
        "  train_counter = []\n",
        "\n",
        "  for epoch in range(1, n_epochs + 1):\n",
        "    train(epoch, network, alldataloader, optimizer, criterion, log_interval, train_losses, train_counter)\n",
        "    print(\"epoch\",epoch+1)\n",
        "  network.eval()\n",
        "  with torch.no_grad():\n",
        "      output = network(data_test.to('cuda'))\n",
        "      pred = output.data.max(1, keepdim=True)[1]\n",
        "\n",
        "  np_pred=pred.cpu().numpy().ravel()\n",
        "  np.savetxt(\"results.csv\", np.transpose(np.stack((np.arange(len(np_pred)),np_pred))), fmt=\"%s\", delimiter=',', header=\"id,class\")\n",
        "  return train_losses\n"
      ],
      "metadata": {
        "id": "TOJH64rw_hek"
      },
      "execution_count": null,
      "outputs": []
    },
    {
      "cell_type": "markdown",
      "source": [
        "# Different network structures"
      ],
      "metadata": {
        "id": "CI08MQGawOXP"
      }
    },
    {
      "cell_type": "markdown",
      "source": [
        "# LeNet5"
      ],
      "metadata": {
        "id": "fDvpWL6s44Cl"
      }
    },
    {
      "cell_type": "markdown",
      "source": [
        "Need to transform images from 28 28 to 32 32"
      ],
      "metadata": {
        "id": "YE8v1UMi6l2E"
      }
    },
    {
      "cell_type": "code",
      "source": [
        "class LeNet5(nn.Module):\n",
        "    def __init__(self, num_classes=10):\n",
        "        super(LeNet5, self).__init__()\n",
        "        self.layer1 = nn.Sequential(\n",
        "            nn.Conv2d(1, 6, kernel_size=5, stride=1, padding=0),\n",
        "            nn.BatchNorm2d(6),\n",
        "            nn.ReLU(),\n",
        "            nn.MaxPool2d(kernel_size = 2, stride = 2))\n",
        "        self.layer2 = nn.Sequential(\n",
        "            nn.Conv2d(6, 16, kernel_size=5, stride=1, padding=0),\n",
        "            nn.BatchNorm2d(16),\n",
        "            nn.ReLU(),\n",
        "            nn.MaxPool2d(kernel_size = 2, stride = 2))\n",
        "        self.fc = nn.Linear(400, 120)\n",
        "        self.relu = nn.ReLU()\n",
        "        self.fc1 = nn.Linear(120, 84)\n",
        "        self.relu1 = nn.ReLU()\n",
        "        self.fc2 = nn.Linear(84, num_classes)\n",
        "\n",
        "    def forward(self, x):\n",
        "        out = self.layer1(x)\n",
        "        out = self.layer2(out)\n",
        "        out = out.reshape(out.size(0), -1)\n",
        "        out = self.fc(out)\n",
        "        out = self.relu(out)\n",
        "        out = self.fc1(out)\n",
        "        out = self.relu1(out)\n",
        "        out = self.fc2(out)\n",
        "        return F.log_softmax(out)"
      ],
      "metadata": {
        "id": "XGImc9KA40-W"
      },
      "execution_count": null,
      "outputs": []
    },
    {
      "cell_type": "code",
      "source": [
        "transform = transforms.Resize((32,32))\n",
        "data_test_32 = transform(data_test)\n",
        "dataset_32 = TensorDataset(transform(datas),targets)\n",
        "print(f\"Length of Data : {len(dataset_32)}\")\n",
        "\n",
        "\n",
        "all_data_batch_size=256\n",
        "\n",
        "all_dataloader_32 = DataLoader(dataset_32, all_data_batch_size, shuffle = True )\n",
        "batch_size_train = 256\n",
        "batch_size_test = 1000\n",
        "validatoin_size = 0.1\n",
        "\n",
        "\n",
        "val_size = int(validatoin_size *len(datas))\n",
        "train_size = len(dataset_32) - val_size\n",
        "\n",
        "train_data_32,val_data_32 = random_split(dataset_32,[train_size,val_size])\n",
        "print(f\"Length of Train Data : {len(train_data_32)}\")\n",
        "print(f\"Length of Validation Data : {len(val_data_32)}\")\n",
        "\n",
        "train_loader_32 = DataLoader(train_data_32, batch_size_train, shuffle = True )\n",
        "test_loader_32 = DataLoader(val_data_32, batch_size_test)"
      ],
      "metadata": {
        "id": "5QWzuBpy6mMr",
        "colab": {
          "base_uri": "https://localhost:8080/"
        },
        "outputId": "ca10bb45-0b9f-4f7a-a60a-1c61d81d86a8"
      },
      "execution_count": null,
      "outputs": [
        {
          "output_type": "stream",
          "name": "stdout",
          "text": [
            "Length of Data : 60000\n",
            "Length of Train Data : 54000\n",
            "Length of Validation Data : 6000\n"
          ]
        }
      ]
    },
    {
      "cell_type": "code",
      "source": [
        "n_epochs = 100\n",
        "learning_rate = 0.005\n",
        "momentum = 0.5\n",
        "log_interval = 500\n"
      ],
      "metadata": {
        "id": "o_UYg3zuFE7f"
      },
      "execution_count": null,
      "outputs": []
    },
    {
      "cell_type": "code",
      "source": [
        "network = LeNet5().to('cuda')\n",
        "optimizer = optim.SGD(network.parameters(), lr=learning_rate, momentum=momentum)\n",
        "criterion=F.nll_loss\n",
        "\n",
        "train_losses, test_losses = validation(n_epochs, network, train_loader_32, test_loader_32, optimizer, criterion, log_interval)"
      ],
      "metadata": {
        "id": "1Pt4Ztjl5AN1",
        "colab": {
          "base_uri": "https://localhost:8080/"
        },
        "outputId": "f2d734fa-e433-475f-8c63-65ce5da0eb4f"
      },
      "execution_count": null,
      "outputs": [
        {
          "output_type": "stream",
          "name": "stderr",
          "text": [
            "<ipython-input-39-f1afb150b881>:29: UserWarning: Implicit dimension choice for log_softmax has been deprecated. Change the call to include dim=X as an argument.\n",
            "  return F.log_softmax(out)\n"
          ]
        },
        {
          "output_type": "stream",
          "name": "stdout",
          "text": [
            "\n",
            "Test set: Avg. loss: 2.3041, Accuracy: 583/6000 (10%)\n",
            "\n",
            "\n",
            "Train Epoch: 1 Avg. loss: 2.2760, Accuracy: 7241/54000 (13%)\n",
            "\n",
            "\n",
            "Test set: Avg. loss: 2.2807, Accuracy: 977/6000 (16%)\n",
            "\n",
            "\n",
            "Train Epoch: 2 Avg. loss: 2.2181, Accuracy: 11991/54000 (22%)\n",
            "\n",
            "\n",
            "Test set: Avg. loss: 2.2212, Accuracy: 1499/6000 (25%)\n",
            "\n",
            "\n",
            "Train Epoch: 3 Avg. loss: 2.0716, Accuracy: 15462/54000 (29%)\n",
            "\n",
            "\n",
            "Test set: Avg. loss: 2.0626, Accuracy: 1770/6000 (30%)\n",
            "\n",
            "\n",
            "Train Epoch: 4 Avg. loss: 1.8236, Accuracy: 17958/54000 (33%)\n",
            "\n",
            "\n",
            "Test set: Avg. loss: 1.9017, Accuracy: 2163/6000 (36%)\n",
            "\n",
            "\n",
            "Train Epoch: 5 Avg. loss: 1.7522, Accuracy: 21057/54000 (39%)\n",
            "\n",
            "\n",
            "Test set: Avg. loss: 1.7496, Accuracy: 2397/6000 (40%)\n",
            "\n",
            "\n",
            "Train Epoch: 6 Avg. loss: 1.6424, Accuracy: 24080/54000 (45%)\n",
            "\n",
            "\n",
            "Test set: Avg. loss: 1.5865, Accuracy: 2711/6000 (45%)\n",
            "\n",
            "\n",
            "Train Epoch: 7 Avg. loss: 1.3903, Accuracy: 26661/54000 (49%)\n",
            "\n",
            "\n",
            "Test set: Avg. loss: 1.4451, Accuracy: 3049/6000 (51%)\n",
            "\n",
            "\n",
            "Train Epoch: 8 Avg. loss: 1.3071, Accuracy: 28753/54000 (53%)\n",
            "\n",
            "\n",
            "Test set: Avg. loss: 1.3442, Accuracy: 3282/6000 (55%)\n",
            "\n",
            "\n",
            "Train Epoch: 9 Avg. loss: 1.1762, Accuracy: 30562/54000 (57%)\n",
            "\n",
            "\n",
            "Test set: Avg. loss: 1.2721, Accuracy: 3415/6000 (57%)\n",
            "\n",
            "\n",
            "Train Epoch: 10 Avg. loss: 1.1195, Accuracy: 32297/54000 (60%)\n",
            "\n",
            "\n",
            "Test set: Avg. loss: 1.1952, Accuracy: 3577/6000 (60%)\n",
            "\n",
            "\n",
            "Train Epoch: 11 Avg. loss: 1.0424, Accuracy: 33778/54000 (63%)\n",
            "\n",
            "\n",
            "Test set: Avg. loss: 1.1519, Accuracy: 3679/6000 (61%)\n",
            "\n",
            "\n",
            "Train Epoch: 12 Avg. loss: 1.1020, Accuracy: 34815/54000 (64%)\n",
            "\n",
            "\n",
            "Test set: Avg. loss: 1.0954, Accuracy: 3816/6000 (64%)\n",
            "\n",
            "\n",
            "Train Epoch: 13 Avg. loss: 1.0799, Accuracy: 35734/54000 (66%)\n",
            "\n",
            "\n",
            "Test set: Avg. loss: 1.0460, Accuracy: 3905/6000 (65%)\n",
            "\n",
            "\n",
            "Train Epoch: 14 Avg. loss: 1.1149, Accuracy: 36384/54000 (67%)\n",
            "\n",
            "\n",
            "Test set: Avg. loss: 1.0307, Accuracy: 3947/6000 (66%)\n",
            "\n",
            "\n",
            "Train Epoch: 15 Avg. loss: 0.8528, Accuracy: 37308/54000 (69%)\n",
            "\n",
            "\n",
            "Test set: Avg. loss: 0.9764, Accuracy: 4087/6000 (68%)\n",
            "\n",
            "\n",
            "Train Epoch: 16 Avg. loss: 0.8805, Accuracy: 37999/54000 (70%)\n",
            "\n",
            "\n",
            "Test set: Avg. loss: 0.9788, Accuracy: 4021/6000 (67%)\n",
            "\n",
            "\n",
            "Train Epoch: 17 Avg. loss: 0.8729, Accuracy: 38519/54000 (71%)\n",
            "\n",
            "\n",
            "Test set: Avg. loss: 0.9009, Accuracy: 4275/6000 (71%)\n",
            "\n",
            "\n",
            "Train Epoch: 18 Avg. loss: 0.8143, Accuracy: 39022/54000 (72%)\n",
            "\n",
            "\n",
            "Test set: Avg. loss: 0.8984, Accuracy: 4239/6000 (71%)\n",
            "\n",
            "\n",
            "Train Epoch: 19 Avg. loss: 0.7673, Accuracy: 39588/54000 (73%)\n",
            "\n",
            "\n",
            "Test set: Avg. loss: 0.9405, Accuracy: 4178/6000 (70%)\n",
            "\n",
            "\n",
            "Train Epoch: 20 Avg. loss: 0.7074, Accuracy: 39915/54000 (74%)\n",
            "\n",
            "\n",
            "Test set: Avg. loss: 0.8569, Accuracy: 4319/6000 (72%)\n",
            "\n",
            "\n",
            "Train Epoch: 21 Avg. loss: 0.7847, Accuracy: 40341/54000 (75%)\n",
            "\n",
            "\n",
            "Test set: Avg. loss: 0.9247, Accuracy: 4193/6000 (70%)\n",
            "\n",
            "\n",
            "Train Epoch: 22 Avg. loss: 0.6588, Accuracy: 40654/54000 (75%)\n",
            "\n",
            "\n",
            "Test set: Avg. loss: 0.8794, Accuracy: 4302/6000 (72%)\n",
            "\n",
            "\n",
            "Train Epoch: 23 Avg. loss: 0.8094, Accuracy: 40891/54000 (76%)\n",
            "\n",
            "\n",
            "Test set: Avg. loss: 0.9024, Accuracy: 4276/6000 (71%)\n",
            "\n",
            "\n",
            "Train Epoch: 24 Avg. loss: 0.7979, Accuracy: 41355/54000 (77%)\n",
            "\n",
            "\n",
            "Test set: Avg. loss: 0.8260, Accuracy: 4406/6000 (73%)\n",
            "\n",
            "\n",
            "Train Epoch: 25 Avg. loss: 0.6323, Accuracy: 41646/54000 (77%)\n",
            "\n",
            "\n",
            "Test set: Avg. loss: 0.7660, Accuracy: 4518/6000 (75%)\n",
            "\n",
            "\n",
            "Train Epoch: 26 Avg. loss: 0.6459, Accuracy: 41889/54000 (78%)\n",
            "\n",
            "\n",
            "Test set: Avg. loss: 0.8205, Accuracy: 4426/6000 (74%)\n",
            "\n",
            "\n",
            "Train Epoch: 27 Avg. loss: 0.6784, Accuracy: 42173/54000 (78%)\n",
            "\n",
            "\n",
            "Test set: Avg. loss: 0.7708, Accuracy: 4549/6000 (76%)\n",
            "\n",
            "\n",
            "Train Epoch: 28 Avg. loss: 0.6642, Accuracy: 42376/54000 (78%)\n",
            "\n",
            "\n",
            "Test set: Avg. loss: 0.7508, Accuracy: 4547/6000 (76%)\n",
            "\n",
            "\n",
            "Train Epoch: 29 Avg. loss: 0.6220, Accuracy: 42607/54000 (79%)\n",
            "\n",
            "\n",
            "Test set: Avg. loss: 0.7881, Accuracy: 4519/6000 (75%)\n",
            "\n",
            "\n",
            "Train Epoch: 30 Avg. loss: 0.6737, Accuracy: 42840/54000 (79%)\n",
            "\n",
            "\n",
            "Test set: Avg. loss: 0.7511, Accuracy: 4562/6000 (76%)\n",
            "\n",
            "\n",
            "Train Epoch: 31 Avg. loss: 0.5980, Accuracy: 43066/54000 (80%)\n",
            "\n",
            "\n",
            "Test set: Avg. loss: 0.7033, Accuracy: 4637/6000 (77%)\n",
            "\n",
            "\n",
            "Train Epoch: 32 Avg. loss: 0.6242, Accuracy: 43149/54000 (80%)\n",
            "\n",
            "\n",
            "Test set: Avg. loss: 0.7064, Accuracy: 4663/6000 (78%)\n",
            "\n",
            "\n",
            "Train Epoch: 33 Avg. loss: 0.5485, Accuracy: 43330/54000 (80%)\n",
            "\n",
            "\n",
            "Test set: Avg. loss: 0.6802, Accuracy: 4695/6000 (78%)\n",
            "\n",
            "\n",
            "Train Epoch: 34 Avg. loss: 0.4771, Accuracy: 43569/54000 (81%)\n",
            "\n",
            "\n",
            "Test set: Avg. loss: 0.7263, Accuracy: 4592/6000 (77%)\n",
            "\n",
            "\n",
            "Train Epoch: 35 Avg. loss: 0.5478, Accuracy: 43622/54000 (81%)\n",
            "\n",
            "\n",
            "Test set: Avg. loss: 0.7728, Accuracy: 4530/6000 (76%)\n",
            "\n",
            "\n",
            "Train Epoch: 36 Avg. loss: 0.6180, Accuracy: 43764/54000 (81%)\n",
            "\n",
            "\n",
            "Test set: Avg. loss: 0.7170, Accuracy: 4656/6000 (78%)\n",
            "\n",
            "\n",
            "Train Epoch: 37 Avg. loss: 0.5764, Accuracy: 44096/54000 (82%)\n",
            "\n",
            "\n",
            "Test set: Avg. loss: 0.7016, Accuracy: 4643/6000 (77%)\n",
            "\n",
            "\n",
            "Train Epoch: 38 Avg. loss: 0.4865, Accuracy: 44161/54000 (82%)\n",
            "\n",
            "\n",
            "Test set: Avg. loss: 0.6518, Accuracy: 4767/6000 (79%)\n",
            "\n",
            "\n",
            "Train Epoch: 39 Avg. loss: 0.4234, Accuracy: 44159/54000 (82%)\n",
            "\n",
            "\n",
            "Test set: Avg. loss: 0.6506, Accuracy: 4759/6000 (79%)\n",
            "\n",
            "\n",
            "Train Epoch: 40 Avg. loss: 0.5383, Accuracy: 44365/54000 (82%)\n",
            "\n",
            "\n",
            "Test set: Avg. loss: 0.6487, Accuracy: 4758/6000 (79%)\n",
            "\n",
            "\n",
            "Train Epoch: 41 Avg. loss: 0.5474, Accuracy: 44457/54000 (82%)\n",
            "\n",
            "\n",
            "Test set: Avg. loss: 0.6773, Accuracy: 4715/6000 (79%)\n",
            "\n",
            "\n",
            "Train Epoch: 42 Avg. loss: 0.6027, Accuracy: 44558/54000 (83%)\n",
            "\n",
            "\n",
            "Test set: Avg. loss: 0.6336, Accuracy: 4786/6000 (80%)\n",
            "\n",
            "\n",
            "Train Epoch: 43 Avg. loss: 0.6149, Accuracy: 44637/54000 (83%)\n",
            "\n",
            "\n",
            "Test set: Avg. loss: 0.6254, Accuracy: 4822/6000 (80%)\n",
            "\n",
            "\n",
            "Train Epoch: 44 Avg. loss: 0.6498, Accuracy: 44688/54000 (83%)\n",
            "\n",
            "\n",
            "Test set: Avg. loss: 0.7310, Accuracy: 4573/6000 (76%)\n",
            "\n",
            "\n",
            "Train Epoch: 45 Avg. loss: 0.5533, Accuracy: 44851/54000 (83%)\n",
            "\n",
            "\n",
            "Test set: Avg. loss: 0.6626, Accuracy: 4744/6000 (79%)\n",
            "\n",
            "\n",
            "Train Epoch: 46 Avg. loss: 0.4973, Accuracy: 45050/54000 (83%)\n",
            "\n",
            "\n",
            "Test set: Avg. loss: 0.6173, Accuracy: 4821/6000 (80%)\n",
            "\n",
            "\n",
            "Train Epoch: 47 Avg. loss: 0.3698, Accuracy: 45009/54000 (83%)\n",
            "\n",
            "\n",
            "Test set: Avg. loss: 0.6698, Accuracy: 4721/6000 (79%)\n",
            "\n",
            "\n",
            "Train Epoch: 48 Avg. loss: 0.5219, Accuracy: 45225/54000 (84%)\n",
            "\n",
            "\n",
            "Test set: Avg. loss: 0.6080, Accuracy: 4839/6000 (81%)\n",
            "\n",
            "\n",
            "Train Epoch: 49 Avg. loss: 0.4328, Accuracy: 45274/54000 (84%)\n",
            "\n",
            "\n",
            "Test set: Avg. loss: 0.6471, Accuracy: 4770/6000 (80%)\n",
            "\n",
            "\n",
            "Train Epoch: 50 Avg. loss: 0.4375, Accuracy: 45247/54000 (84%)\n",
            "\n",
            "\n",
            "Test set: Avg. loss: 0.6346, Accuracy: 4800/6000 (80%)\n",
            "\n",
            "\n",
            "Train Epoch: 51 Avg. loss: 0.4851, Accuracy: 45411/54000 (84%)\n",
            "\n",
            "\n",
            "Test set: Avg. loss: 0.5986, Accuracy: 4873/6000 (81%)\n",
            "\n",
            "\n",
            "Train Epoch: 52 Avg. loss: 0.5060, Accuracy: 45470/54000 (84%)\n",
            "\n",
            "\n",
            "Test set: Avg. loss: 0.5996, Accuracy: 4845/6000 (81%)\n",
            "\n",
            "\n",
            "Train Epoch: 53 Avg. loss: 0.4391, Accuracy: 45593/54000 (84%)\n",
            "\n",
            "\n",
            "Test set: Avg. loss: 0.5931, Accuracy: 4862/6000 (81%)\n",
            "\n",
            "\n",
            "Train Epoch: 54 Avg. loss: 0.4755, Accuracy: 45640/54000 (85%)\n",
            "\n",
            "\n",
            "Test set: Avg. loss: 0.5899, Accuracy: 4883/6000 (81%)\n",
            "\n",
            "\n",
            "Train Epoch: 55 Avg. loss: 0.4824, Accuracy: 45732/54000 (85%)\n",
            "\n",
            "\n",
            "Test set: Avg. loss: 0.6610, Accuracy: 4770/6000 (80%)\n",
            "\n",
            "\n",
            "Train Epoch: 56 Avg. loss: 0.5502, Accuracy: 45818/54000 (85%)\n",
            "\n",
            "\n",
            "Test set: Avg. loss: 0.6694, Accuracy: 4715/6000 (79%)\n",
            "\n",
            "\n",
            "Train Epoch: 57 Avg. loss: 0.4618, Accuracy: 45854/54000 (85%)\n",
            "\n",
            "\n",
            "Test set: Avg. loss: 0.6189, Accuracy: 4841/6000 (81%)\n",
            "\n",
            "\n",
            "Train Epoch: 58 Avg. loss: 0.5348, Accuracy: 46058/54000 (85%)\n",
            "\n",
            "\n",
            "Test set: Avg. loss: 0.5946, Accuracy: 4871/6000 (81%)\n",
            "\n",
            "\n",
            "Train Epoch: 59 Avg. loss: 0.4957, Accuracy: 45984/54000 (85%)\n",
            "\n",
            "\n",
            "Test set: Avg. loss: 0.5863, Accuracy: 4888/6000 (81%)\n",
            "\n",
            "\n",
            "Train Epoch: 60 Avg. loss: 0.5099, Accuracy: 46109/54000 (85%)\n",
            "\n",
            "\n",
            "Test set: Avg. loss: 0.6114, Accuracy: 4832/6000 (81%)\n",
            "\n",
            "\n",
            "Train Epoch: 61 Avg. loss: 0.4509, Accuracy: 46116/54000 (85%)\n",
            "\n",
            "\n",
            "Test set: Avg. loss: 0.5778, Accuracy: 4905/6000 (82%)\n",
            "\n",
            "\n",
            "Train Epoch: 62 Avg. loss: 0.4312, Accuracy: 46164/54000 (85%)\n",
            "\n",
            "\n",
            "Test set: Avg. loss: 0.5729, Accuracy: 4928/6000 (82%)\n",
            "\n",
            "\n",
            "Train Epoch: 63 Avg. loss: 0.5048, Accuracy: 46240/54000 (86%)\n",
            "\n",
            "\n",
            "Test set: Avg. loss: 0.5816, Accuracy: 4927/6000 (82%)\n",
            "\n",
            "\n",
            "Train Epoch: 64 Avg. loss: 0.4023, Accuracy: 46324/54000 (86%)\n",
            "\n",
            "\n",
            "Test set: Avg. loss: 0.6063, Accuracy: 4842/6000 (81%)\n",
            "\n",
            "\n",
            "Train Epoch: 65 Avg. loss: 0.4793, Accuracy: 46512/54000 (86%)\n",
            "\n",
            "\n",
            "Test set: Avg. loss: 0.5621, Accuracy: 4945/6000 (82%)\n",
            "\n",
            "\n",
            "Train Epoch: 66 Avg. loss: 0.3378, Accuracy: 46431/54000 (86%)\n",
            "\n",
            "\n",
            "Test set: Avg. loss: 0.5794, Accuracy: 4896/6000 (82%)\n",
            "\n",
            "\n",
            "Train Epoch: 67 Avg. loss: 0.3657, Accuracy: 46506/54000 (86%)\n",
            "\n",
            "\n",
            "Test set: Avg. loss: 0.5704, Accuracy: 4905/6000 (82%)\n",
            "\n",
            "\n",
            "Train Epoch: 68 Avg. loss: 0.3880, Accuracy: 46543/54000 (86%)\n",
            "\n",
            "\n",
            "Test set: Avg. loss: 0.5626, Accuracy: 4944/6000 (82%)\n",
            "\n",
            "\n",
            "Train Epoch: 69 Avg. loss: 0.4013, Accuracy: 46618/54000 (86%)\n",
            "\n",
            "\n",
            "Test set: Avg. loss: 0.5653, Accuracy: 4946/6000 (82%)\n",
            "\n",
            "\n",
            "Train Epoch: 70 Avg. loss: 0.3811, Accuracy: 46621/54000 (86%)\n",
            "\n",
            "\n",
            "Test set: Avg. loss: 0.5524, Accuracy: 4954/6000 (83%)\n",
            "\n",
            "\n",
            "Train Epoch: 71 Avg. loss: 0.4374, Accuracy: 46664/54000 (86%)\n",
            "\n",
            "\n",
            "Test set: Avg. loss: 0.5748, Accuracy: 4902/6000 (82%)\n",
            "\n",
            "\n",
            "Train Epoch: 72 Avg. loss: 0.4269, Accuracy: 46725/54000 (87%)\n",
            "\n",
            "\n",
            "Test set: Avg. loss: 0.5866, Accuracy: 4898/6000 (82%)\n",
            "\n",
            "\n",
            "Train Epoch: 73 Avg. loss: 0.3629, Accuracy: 46826/54000 (87%)\n",
            "\n",
            "\n",
            "Test set: Avg. loss: 0.5804, Accuracy: 4887/6000 (81%)\n",
            "\n",
            "\n",
            "Train Epoch: 74 Avg. loss: 0.5290, Accuracy: 46807/54000 (87%)\n",
            "\n",
            "\n",
            "Test set: Avg. loss: 0.5766, Accuracy: 4914/6000 (82%)\n",
            "\n",
            "\n",
            "Train Epoch: 75 Avg. loss: 0.4410, Accuracy: 46965/54000 (87%)\n",
            "\n",
            "\n",
            "Test set: Avg. loss: 0.5686, Accuracy: 4939/6000 (82%)\n",
            "\n",
            "\n",
            "Train Epoch: 76 Avg. loss: 0.3700, Accuracy: 46939/54000 (87%)\n",
            "\n",
            "\n",
            "Test set: Avg. loss: 0.5576, Accuracy: 4951/6000 (83%)\n",
            "\n",
            "\n",
            "Train Epoch: 77 Avg. loss: 0.3730, Accuracy: 46999/54000 (87%)\n",
            "\n",
            "\n",
            "Test set: Avg. loss: 0.5559, Accuracy: 4975/6000 (83%)\n",
            "\n",
            "\n",
            "Train Epoch: 78 Avg. loss: 0.4291, Accuracy: 47056/54000 (87%)\n",
            "\n",
            "\n",
            "Test set: Avg. loss: 0.5760, Accuracy: 4953/6000 (83%)\n",
            "\n",
            "\n",
            "Train Epoch: 79 Avg. loss: 0.3625, Accuracy: 47157/54000 (87%)\n",
            "\n",
            "\n",
            "Test set: Avg. loss: 0.5343, Accuracy: 5000/6000 (83%)\n",
            "\n",
            "\n",
            "Train Epoch: 80 Avg. loss: 0.4519, Accuracy: 47096/54000 (87%)\n",
            "\n",
            "\n",
            "Test set: Avg. loss: 0.5505, Accuracy: 4988/6000 (83%)\n",
            "\n",
            "\n",
            "Train Epoch: 81 Avg. loss: 0.3311, Accuracy: 47249/54000 (87%)\n",
            "\n",
            "\n",
            "Test set: Avg. loss: 0.6078, Accuracy: 4845/6000 (81%)\n",
            "\n",
            "\n",
            "Train Epoch: 82 Avg. loss: 0.4399, Accuracy: 47244/54000 (87%)\n",
            "\n",
            "\n",
            "Test set: Avg. loss: 0.5431, Accuracy: 4983/6000 (83%)\n",
            "\n",
            "\n",
            "Train Epoch: 83 Avg. loss: 0.5041, Accuracy: 47329/54000 (88%)\n",
            "\n",
            "\n",
            "Test set: Avg. loss: 0.5848, Accuracy: 4923/6000 (82%)\n",
            "\n",
            "\n",
            "Train Epoch: 84 Avg. loss: 0.4178, Accuracy: 47413/54000 (88%)\n",
            "\n",
            "\n",
            "Test set: Avg. loss: 0.5519, Accuracy: 4968/6000 (83%)\n",
            "\n",
            "\n",
            "Train Epoch: 85 Avg. loss: 0.4043, Accuracy: 47406/54000 (88%)\n",
            "\n",
            "\n",
            "Test set: Avg. loss: 0.5525, Accuracy: 4974/6000 (83%)\n",
            "\n",
            "\n",
            "Train Epoch: 86 Avg. loss: 0.3396, Accuracy: 47530/54000 (88%)\n",
            "\n",
            "\n",
            "Test set: Avg. loss: 0.5519, Accuracy: 4961/6000 (83%)\n",
            "\n",
            "\n",
            "Train Epoch: 87 Avg. loss: 0.4088, Accuracy: 47533/54000 (88%)\n",
            "\n",
            "\n",
            "Test set: Avg. loss: 0.5649, Accuracy: 4936/6000 (82%)\n",
            "\n",
            "\n",
            "Train Epoch: 88 Avg. loss: 0.3812, Accuracy: 47571/54000 (88%)\n",
            "\n",
            "\n",
            "Test set: Avg. loss: 0.5649, Accuracy: 4955/6000 (83%)\n",
            "\n",
            "\n",
            "Train Epoch: 89 Avg. loss: 0.3943, Accuracy: 47601/54000 (88%)\n",
            "\n",
            "\n",
            "Test set: Avg. loss: 0.5382, Accuracy: 5003/6000 (83%)\n",
            "\n",
            "\n",
            "Train Epoch: 90 Avg. loss: 0.3685, Accuracy: 47610/54000 (88%)\n",
            "\n",
            "\n",
            "Test set: Avg. loss: 0.5461, Accuracy: 4998/6000 (83%)\n",
            "\n",
            "\n",
            "Train Epoch: 91 Avg. loss: 0.4348, Accuracy: 47707/54000 (88%)\n",
            "\n",
            "\n",
            "Test set: Avg. loss: 0.5746, Accuracy: 4932/6000 (82%)\n",
            "\n",
            "\n",
            "Train Epoch: 92 Avg. loss: 0.4124, Accuracy: 47711/54000 (88%)\n",
            "\n",
            "\n",
            "Test set: Avg. loss: 0.5281, Accuracy: 5020/6000 (84%)\n",
            "\n",
            "\n",
            "Train Epoch: 93 Avg. loss: 0.4038, Accuracy: 47715/54000 (88%)\n",
            "\n",
            "\n",
            "Test set: Avg. loss: 0.5292, Accuracy: 5026/6000 (84%)\n",
            "\n",
            "\n",
            "Train Epoch: 94 Avg. loss: 0.2855, Accuracy: 47820/54000 (89%)\n",
            "\n",
            "\n",
            "Test set: Avg. loss: 0.5244, Accuracy: 5042/6000 (84%)\n",
            "\n",
            "\n",
            "Train Epoch: 95 Avg. loss: 0.3244, Accuracy: 47865/54000 (89%)\n",
            "\n",
            "\n",
            "Test set: Avg. loss: 0.5275, Accuracy: 5027/6000 (84%)\n",
            "\n",
            "\n",
            "Train Epoch: 96 Avg. loss: 0.3248, Accuracy: 47804/54000 (89%)\n",
            "\n",
            "\n",
            "Test set: Avg. loss: 0.5470, Accuracy: 4986/6000 (83%)\n",
            "\n",
            "\n",
            "Train Epoch: 97 Avg. loss: 0.3488, Accuracy: 47930/54000 (89%)\n",
            "\n",
            "\n",
            "Test set: Avg. loss: 0.5255, Accuracy: 5045/6000 (84%)\n",
            "\n",
            "\n",
            "Train Epoch: 98 Avg. loss: 0.3672, Accuracy: 47976/54000 (89%)\n",
            "\n",
            "\n",
            "Test set: Avg. loss: 0.5378, Accuracy: 5011/6000 (84%)\n",
            "\n",
            "\n",
            "Train Epoch: 99 Avg. loss: 0.3638, Accuracy: 47990/54000 (89%)\n",
            "\n",
            "\n",
            "Test set: Avg. loss: 0.5167, Accuracy: 5044/6000 (84%)\n",
            "\n",
            "\n",
            "Train Epoch: 100 Avg. loss: 0.4240, Accuracy: 47998/54000 (89%)\n",
            "\n",
            "\n",
            "Test set: Avg. loss: 0.5440, Accuracy: 5009/6000 (83%)\n",
            "\n"
          ]
        }
      ]
    },
    {
      "cell_type": "code",
      "source": [
        "plt.plot(train_losses)\n",
        "plt.title(\"Train Losses\")\n",
        "plt.show()"
      ],
      "metadata": {
        "colab": {
          "base_uri": "https://localhost:8080/",
          "height": 281
        },
        "id": "sZ2-V3H5kNsZ",
        "outputId": "f984eedb-769c-4e43-8298-24e2efe56cba"
      },
      "execution_count": null,
      "outputs": [
        {
          "output_type": "display_data",
          "data": {
            "text/plain": [
              "<Figure size 432x288 with 1 Axes>"
            ],
            "image/png": "[encoded data removed]"
          },
          "metadata": {
            "needs_background": "light"
          }
        }
      ]
    },
    {
      "cell_type": "code",
      "source": [
        "plt.plot(train_accuracy)\n",
        "plt.title(\"Train Accuracy\")\n",
        "plt.show()"
      ],
      "metadata": {
        "colab": {
          "base_uri": "https://localhost:8080/",
          "height": 281
        },
        "id": "zxRya2G57SQk",
        "outputId": "3951f21d-29dd-4fbe-85b0-d3e3724584cb"
      },
      "execution_count": null,
      "outputs": [
        {
          "output_type": "display_data",
          "data": {
            "text/plain": [
              "<Figure size 432x288 with 1 Axes>"
            ],
            "image/png": "[encoded data removed]"
          },
          "metadata": {
            "needs_background": "light"
          }
        }
      ]
    },
    {
      "cell_type": "code",
      "source": [
        "plt.plot(test_losses,color='red')\n",
        "plt.title(\"Validation Losses\")\n",
        "plt.show()"
      ],
      "metadata": {
        "colab": {
          "base_uri": "https://localhost:8080/",
          "height": 281
        },
        "id": "Xx6c3ef7koP4",
        "outputId": "80d3f0dd-43f1-4a31-cef1-44d603a6d434"
      },
      "execution_count": null,
      "outputs": [
        {
          "output_type": "display_data",
          "data": {
            "text/plain": [
              "<Figure size 432x288 with 1 Axes>"
            ],
            "image/png": "[encoded data removed]"
          },
          "metadata": {
            "needs_background": "light"
          }
        }
      ]
    },
    {
      "cell_type": "code",
      "source": [
        "plt.plot(test_accuracy, color='gold')\n",
        "plt.title(\"Validation Accuracy\")\n",
        "plt.show()"
      ],
      "metadata": {
        "colab": {
          "base_uri": "https://localhost:8080/",
          "height": 281
        },
        "id": "tNIvof8Mkr9o",
        "outputId": "f1a3b64f-3cd0-468b-d9d9-d68d0df8c796"
      },
      "execution_count": null,
      "outputs": [
        {
          "output_type": "display_data",
          "data": {
            "text/plain": [
              "<Figure size 432x288 with 1 Axes>"
            ],
            "image/png": "[encoded data removed]"
          },
          "metadata": {
            "needs_background": "light"
          }
        }
      ]
    },
    {
      "cell_type": "markdown",
      "source": [
        "epoch 100: 84%"
      ],
      "metadata": {
        "id": "d9LCLLncBvNc"
      }
    },
    {
      "cell_type": "code",
      "source": [
        "network = LeNet5().to('cuda')\n",
        "optimizer = optim.SGD(network.parameters(), lr=learning_rate, momentum=momentum)\n",
        "criterion=F.nll_loss\n",
        "\n",
        "prediction(n_epochs, network, all_dataloader_32, data_test_32, optimizer, criterion, log_interval)"
      ],
      "metadata": {
        "id": "U960-UoK_R4A",
        "colab": {
          "base_uri": "https://localhost:8080/"
        },
        "outputId": "12f37a5c-ca72-49de-cd31-e9390c942d01"
      },
      "execution_count": null,
      "outputs": [
        {
          "output_type": "stream",
          "name": "stderr",
          "text": [
            "<ipython-input-17-f1afb150b881>:29: UserWarning: Implicit dimension choice for log_softmax has been deprecated. Change the call to include dim=X as an argument.\n",
            "  return F.log_softmax(out)\n"
          ]
        },
        {
          "output_type": "stream",
          "name": "stdout",
          "text": [
            "Train Epoch: 1 [0/60000 (0%)]\tLoss: 2.307100\n",
            "epoch 2\n",
            "Train Epoch: 2 [0/60000 (0%)]\tLoss: 2.275859\n",
            "epoch 3\n",
            "Train Epoch: 3 [0/60000 (0%)]\tLoss: 2.092959\n",
            "epoch 4\n",
            "Train Epoch: 4 [0/60000 (0%)]\tLoss: 1.963698\n",
            "epoch 5\n",
            "Train Epoch: 5 [0/60000 (0%)]\tLoss: 1.827205\n",
            "epoch 6\n",
            "Train Epoch: 6 [0/60000 (0%)]\tLoss: 1.650403\n",
            "epoch 7\n",
            "Train Epoch: 7 [0/60000 (0%)]\tLoss: 1.418053\n",
            "epoch 8\n",
            "Train Epoch: 8 [0/60000 (0%)]\tLoss: 1.421024\n",
            "epoch 9\n",
            "Train Epoch: 9 [0/60000 (0%)]\tLoss: 1.209720\n",
            "epoch 10\n",
            "Train Epoch: 10 [0/60000 (0%)]\tLoss: 1.138409\n",
            "epoch 11\n",
            "Train Epoch: 11 [0/60000 (0%)]\tLoss: 1.087882\n",
            "epoch 12\n",
            "Train Epoch: 12 [0/60000 (0%)]\tLoss: 1.090449\n",
            "epoch 13\n",
            "Train Epoch: 13 [0/60000 (0%)]\tLoss: 0.935467\n",
            "epoch 14\n",
            "Train Epoch: 14 [0/60000 (0%)]\tLoss: 1.119322\n",
            "epoch 15\n",
            "Train Epoch: 15 [0/60000 (0%)]\tLoss: 0.995599\n",
            "epoch 16\n",
            "Train Epoch: 16 [0/60000 (0%)]\tLoss: 0.886309\n",
            "epoch 17\n",
            "Train Epoch: 17 [0/60000 (0%)]\tLoss: 0.832592\n",
            "epoch 18\n",
            "Train Epoch: 18 [0/60000 (0%)]\tLoss: 0.889669\n",
            "epoch 19\n",
            "Train Epoch: 19 [0/60000 (0%)]\tLoss: 0.736958\n",
            "epoch 20\n",
            "Train Epoch: 20 [0/60000 (0%)]\tLoss: 0.922150\n",
            "epoch 21\n",
            "Train Epoch: 21 [0/60000 (0%)]\tLoss: 0.834783\n",
            "epoch 22\n",
            "Train Epoch: 22 [0/60000 (0%)]\tLoss: 0.828986\n",
            "epoch 23\n",
            "Train Epoch: 23 [0/60000 (0%)]\tLoss: 0.679415\n",
            "epoch 24\n",
            "Train Epoch: 24 [0/60000 (0%)]\tLoss: 0.635333\n",
            "epoch 25\n",
            "Train Epoch: 25 [0/60000 (0%)]\tLoss: 0.572170\n",
            "epoch 26\n",
            "Train Epoch: 26 [0/60000 (0%)]\tLoss: 0.561374\n",
            "epoch 27\n",
            "Train Epoch: 27 [0/60000 (0%)]\tLoss: 0.704593\n",
            "epoch 28\n",
            "Train Epoch: 28 [0/60000 (0%)]\tLoss: 0.588240\n",
            "epoch 29\n",
            "Train Epoch: 29 [0/60000 (0%)]\tLoss: 0.682145\n",
            "epoch 30\n",
            "Train Epoch: 30 [0/60000 (0%)]\tLoss: 0.677576\n",
            "epoch 31\n",
            "Train Epoch: 31 [0/60000 (0%)]\tLoss: 0.608663\n",
            "epoch 32\n",
            "Train Epoch: 32 [0/60000 (0%)]\tLoss: 0.592397\n",
            "epoch 33\n",
            "Train Epoch: 33 [0/60000 (0%)]\tLoss: 0.609062\n",
            "epoch 34\n",
            "Train Epoch: 34 [0/60000 (0%)]\tLoss: 0.771507\n",
            "epoch 35\n",
            "Train Epoch: 35 [0/60000 (0%)]\tLoss: 0.741157\n",
            "epoch 36\n",
            "Train Epoch: 36 [0/60000 (0%)]\tLoss: 0.578776\n",
            "epoch 37\n",
            "Train Epoch: 37 [0/60000 (0%)]\tLoss: 0.547248\n",
            "epoch 38\n",
            "Train Epoch: 38 [0/60000 (0%)]\tLoss: 0.595134\n",
            "epoch 39\n",
            "Train Epoch: 39 [0/60000 (0%)]\tLoss: 0.658849\n",
            "epoch 40\n",
            "Train Epoch: 40 [0/60000 (0%)]\tLoss: 0.526992\n",
            "epoch 41\n",
            "Train Epoch: 41 [0/60000 (0%)]\tLoss: 0.584173\n",
            "epoch 42\n",
            "Train Epoch: 42 [0/60000 (0%)]\tLoss: 0.424913\n",
            "epoch 43\n",
            "Train Epoch: 43 [0/60000 (0%)]\tLoss: 0.515796\n",
            "epoch 44\n",
            "Train Epoch: 44 [0/60000 (0%)]\tLoss: 0.587018\n",
            "epoch 45\n",
            "Train Epoch: 45 [0/60000 (0%)]\tLoss: 0.493870\n",
            "epoch 46\n",
            "Train Epoch: 46 [0/60000 (0%)]\tLoss: 0.634191\n",
            "epoch 47\n",
            "Train Epoch: 47 [0/60000 (0%)]\tLoss: 0.546090\n",
            "epoch 48\n",
            "Train Epoch: 48 [0/60000 (0%)]\tLoss: 0.504766\n",
            "epoch 49\n",
            "Train Epoch: 49 [0/60000 (0%)]\tLoss: 0.448217\n",
            "epoch 50\n",
            "Train Epoch: 50 [0/60000 (0%)]\tLoss: 0.482313\n",
            "epoch 51\n",
            "Train Epoch: 51 [0/60000 (0%)]\tLoss: 0.425707\n",
            "epoch 52\n",
            "Train Epoch: 52 [0/60000 (0%)]\tLoss: 0.499074\n",
            "epoch 53\n",
            "Train Epoch: 53 [0/60000 (0%)]\tLoss: 0.401502\n",
            "epoch 54\n",
            "Train Epoch: 54 [0/60000 (0%)]\tLoss: 0.455927\n",
            "epoch 55\n",
            "Train Epoch: 55 [0/60000 (0%)]\tLoss: 0.462475\n",
            "epoch 56\n",
            "Train Epoch: 56 [0/60000 (0%)]\tLoss: 0.423594\n",
            "epoch 57\n",
            "Train Epoch: 57 [0/60000 (0%)]\tLoss: 0.422988\n",
            "epoch 58\n",
            "Train Epoch: 58 [0/60000 (0%)]\tLoss: 0.523332\n",
            "epoch 59\n",
            "Train Epoch: 59 [0/60000 (0%)]\tLoss: 0.441381\n",
            "epoch 60\n",
            "Train Epoch: 60 [0/60000 (0%)]\tLoss: 0.515904\n",
            "epoch 61\n",
            "Train Epoch: 61 [0/60000 (0%)]\tLoss: 0.564547\n",
            "epoch 62\n",
            "Train Epoch: 62 [0/60000 (0%)]\tLoss: 0.547856\n",
            "epoch 63\n",
            "Train Epoch: 63 [0/60000 (0%)]\tLoss: 0.452009\n",
            "epoch 64\n",
            "Train Epoch: 64 [0/60000 (0%)]\tLoss: 0.505340\n",
            "epoch 65\n",
            "Train Epoch: 65 [0/60000 (0%)]\tLoss: 0.573750\n",
            "epoch 66\n",
            "Train Epoch: 66 [0/60000 (0%)]\tLoss: 0.417314\n",
            "epoch 67\n",
            "Train Epoch: 67 [0/60000 (0%)]\tLoss: 0.505313\n",
            "epoch 68\n",
            "Train Epoch: 68 [0/60000 (0%)]\tLoss: 0.429044\n",
            "epoch 69\n",
            "Train Epoch: 69 [0/60000 (0%)]\tLoss: 0.453109\n",
            "epoch 70\n",
            "Train Epoch: 70 [0/60000 (0%)]\tLoss: 0.439455\n",
            "epoch 71\n",
            "Train Epoch: 71 [0/60000 (0%)]\tLoss: 0.408033\n",
            "epoch 72\n",
            "Train Epoch: 72 [0/60000 (0%)]\tLoss: 0.343266\n",
            "epoch 73\n",
            "Train Epoch: 73 [0/60000 (0%)]\tLoss: 0.449198\n",
            "epoch 74\n",
            "Train Epoch: 74 [0/60000 (0%)]\tLoss: 0.364783\n",
            "epoch 75\n",
            "Train Epoch: 75 [0/60000 (0%)]\tLoss: 0.460892\n",
            "epoch 76\n",
            "Train Epoch: 76 [0/60000 (0%)]\tLoss: 0.426309\n",
            "epoch 77\n",
            "Train Epoch: 77 [0/60000 (0%)]\tLoss: 0.257851\n",
            "epoch 78\n",
            "Train Epoch: 78 [0/60000 (0%)]\tLoss: 0.410138\n",
            "epoch 79\n",
            "Train Epoch: 79 [0/60000 (0%)]\tLoss: 0.442653\n",
            "epoch 80\n",
            "Train Epoch: 80 [0/60000 (0%)]\tLoss: 0.399609\n",
            "epoch 81\n",
            "Train Epoch: 81 [0/60000 (0%)]\tLoss: 0.375922\n",
            "epoch 82\n",
            "Train Epoch: 82 [0/60000 (0%)]\tLoss: 0.433742\n",
            "epoch 83\n",
            "Train Epoch: 83 [0/60000 (0%)]\tLoss: 0.336622\n",
            "epoch 84\n",
            "Train Epoch: 84 [0/60000 (0%)]\tLoss: 0.374679\n",
            "epoch 85\n",
            "Train Epoch: 85 [0/60000 (0%)]\tLoss: 0.434168\n",
            "epoch 86\n",
            "Train Epoch: 86 [0/60000 (0%)]\tLoss: 0.316941\n",
            "epoch 87\n",
            "Train Epoch: 87 [0/60000 (0%)]\tLoss: 0.374456\n",
            "epoch 88\n",
            "Train Epoch: 88 [0/60000 (0%)]\tLoss: 0.397294\n",
            "epoch 89\n",
            "Train Epoch: 89 [0/60000 (0%)]\tLoss: 0.452880\n",
            "epoch 90\n",
            "Train Epoch: 90 [0/60000 (0%)]\tLoss: 0.284819\n",
            "epoch 91\n",
            "Train Epoch: 91 [0/60000 (0%)]\tLoss: 0.343483\n",
            "epoch 92\n",
            "Train Epoch: 92 [0/60000 (0%)]\tLoss: 0.441860\n",
            "epoch 93\n",
            "Train Epoch: 93 [0/60000 (0%)]\tLoss: 0.381315\n",
            "epoch 94\n",
            "Train Epoch: 94 [0/60000 (0%)]\tLoss: 0.456844\n",
            "epoch 95\n",
            "Train Epoch: 95 [0/60000 (0%)]\tLoss: 0.370843\n",
            "epoch 96\n",
            "Train Epoch: 96 [0/60000 (0%)]\tLoss: 0.375880\n",
            "epoch 97\n",
            "Train Epoch: 97 [0/60000 (0%)]\tLoss: 0.360578\n",
            "epoch 98\n",
            "Train Epoch: 98 [0/60000 (0%)]\tLoss: 0.430943\n",
            "epoch 99\n",
            "Train Epoch: 99 [0/60000 (0%)]\tLoss: 0.317993\n",
            "epoch 100\n",
            "Train Epoch: 100 [0/60000 (0%)]\tLoss: 0.289913\n",
            "epoch 101\n"
          ]
        },
        {
          "output_type": "execute_result",
          "data": {
            "text/plain": [
              "[2.3071000576019287,\n",
              " 2.2758593559265137,\n",
              " 2.09295916557312,\n",
              " 1.9636982679367065,\n",
              " 1.8272045850753784,\n",
              " 1.650402545928955,\n",
              " 1.4180530309677124,\n",
              " 1.4210237264633179,\n",
              " 1.2097195386886597,\n",
              " 1.138408899307251,\n",
              " 1.0878819227218628,\n",
              " 1.0904489755630493,\n",
              " 0.9354671835899353,\n",
              " 1.1193218231201172,\n",
              " 0.995598554611206,\n",
              " 0.8863085508346558,\n",
              " 0.8325924873352051,\n",
              " 0.8896693587303162,\n",
              " 0.7369577884674072,\n",
              " 0.9221499562263489,\n",
              " 0.8347833752632141,\n",
              " 0.8289861083030701,\n",
              " 0.6794153451919556,\n",
              " 0.635333240032196,\n",
              " 0.5721696615219116,\n",
              " 0.5613741278648376,\n",
              " 0.7045934796333313,\n",
              " 0.5882403254508972,\n",
              " 0.6821450591087341,\n",
              " 0.6775755882263184,\n",
              " 0.6086634993553162,\n",
              " 0.5923974514007568,\n",
              " 0.6090621948242188,\n",
              " 0.7715070843696594,\n",
              " 0.7411574721336365,\n",
              " 0.5787758827209473,\n",
              " 0.5472476482391357,\n",
              " 0.5951343774795532,\n",
              " 0.6588488817214966,\n",
              " 0.5269920229911804,\n",
              " 0.5841732621192932,\n",
              " 0.4249125123023987,\n",
              " 0.5157959461212158,\n",
              " 0.5870184302330017,\n",
              " 0.49386951327323914,\n",
              " 0.6341914534568787,\n",
              " 0.5460895299911499,\n",
              " 0.5047658085823059,\n",
              " 0.4482173025608063,\n",
              " 0.48231279850006104,\n",
              " 0.4257066547870636,\n",
              " 0.49907398223876953,\n",
              " 0.40150168538093567,\n",
              " 0.455926775932312,\n",
              " 0.46247464418411255,\n",
              " 0.4235936105251312,\n",
              " 0.4229877293109894,\n",
              " 0.5233315229415894,\n",
              " 0.4413812458515167,\n",
              " 0.5159038305282593,\n",
              " 0.564547061920166,\n",
              " 0.5478560924530029,\n",
              " 0.4520094096660614,\n",
              " 0.5053403377532959,\n",
              " 0.5737504363059998,\n",
              " 0.417314350605011,\n",
              " 0.5053131580352783,\n",
              " 0.42904379963874817,\n",
              " 0.4531087279319763,\n",
              " 0.43945497274398804,\n",
              " 0.4080332815647125,\n",
              " 0.3432656228542328,\n",
              " 0.4491981565952301,\n",
              " 0.36478281021118164,\n",
              " 0.4608924388885498,\n",
              " 0.426308810710907,\n",
              " 0.2578514516353607,\n",
              " 0.4101378917694092,\n",
              " 0.442653089761734,\n",
              " 0.39960888028144836,\n",
              " 0.3759222626686096,\n",
              " 0.4337424337863922,\n",
              " 0.3366221487522125,\n",
              " 0.37467923760414124,\n",
              " 0.43416786193847656,\n",
              " 0.31694141030311584,\n",
              " 0.37445569038391113,\n",
              " 0.3972935676574707,\n",
              " 0.4528803825378418,\n",
              " 0.2848188281059265,\n",
              " 0.3434831202030182,\n",
              " 0.44186022877693176,\n",
              " 0.3813145160675049,\n",
              " 0.456843763589859,\n",
              " 0.3708425462245941,\n",
              " 0.37588000297546387,\n",
              " 0.3605780601501465,\n",
              " 0.430943101644516,\n",
              " 0.3179926574230194,\n",
              " 0.289912611246109]"
            ]
          },
          "metadata": {},
          "execution_count": 74
        }
      ]
    },
    {
      "cell_type": "markdown",
      "source": [
        "Kaggle:\n",
        "epoch 100, lr 0.005 : 72%\n"
      ],
      "metadata": {
        "id": "iOkDUNMVHsq6"
      }
    },
    {
      "cell_type": "markdown",
      "source": [
        "# AlexNet"
      ],
      "metadata": {
        "id": "qWMQ8a6BrV1M"
      }
    },
    {
      "cell_type": "code",
      "source": [
        "class AlexNet(nn.Module):\n",
        "    def __init__(self, num_classes=10):\n",
        "        super(AlexNet, self).__init__()\n",
        "        self.layer1 = nn.Sequential(\n",
        "            nn.Conv2d(1, 64, kernel_size=11, stride=4, padding=0), #changed the first layer to fit greysclae originally 3 * 265 * 256\n",
        "            nn.BatchNorm2d(64),\n",
        "            nn.ReLU(),\n",
        "            nn.MaxPool2d(kernel_size = 3, stride = 2))\n",
        "        self.layer2 = nn.Sequential(\n",
        "            nn.Conv2d(64, 256, kernel_size=5, stride=1, padding=2),\n",
        "            nn.BatchNorm2d(256),\n",
        "            nn.ReLU(),\n",
        "            nn.MaxPool2d(kernel_size = 3, stride = 2))\n",
        "        self.layer3 = nn.Sequential(\n",
        "            nn.Conv2d(256, 384, kernel_size=3, stride=1, padding=1),\n",
        "            nn.BatchNorm2d(384),\n",
        "            nn.ReLU())\n",
        "        self.layer4 = nn.Sequential(\n",
        "            nn.Conv2d(384, 384, kernel_size=3, stride=1, padding=1),\n",
        "            nn.BatchNorm2d(384),\n",
        "            nn.ReLU())\n",
        "        self.layer5 = nn.Sequential(\n",
        "            nn.Conv2d(384, 256, kernel_size=3, stride=1, padding=1),\n",
        "            nn.BatchNorm2d(256),\n",
        "            nn.ReLU(),\n",
        "            nn.MaxPool2d(kernel_size = 3, stride = 2))\n",
        "        self.fc = nn.Sequential(\n",
        "            nn.Dropout(0.5),\n",
        "            nn.Linear(9216, 4096),\n",
        "            nn.ReLU())\n",
        "        self.fc1 = nn.Sequential(\n",
        "            nn.Dropout(0.5),\n",
        "            nn.Linear(4096, 4096),\n",
        "            nn.ReLU())\n",
        "        self.fc2= nn.Sequential(\n",
        "            nn.Linear(4096, num_classes))\n",
        "\n",
        "    def forward(self, x):\n",
        "        out = self.layer1(x)\n",
        "        out = self.layer2(out)\n",
        "        out = self.layer3(out)\n",
        "        out = self.layer4(out)\n",
        "        out = self.layer5(out)\n",
        "        out = out.reshape(out.size(0), -1)\n",
        "        out = self.fc(out)\n",
        "        out = self.fc1(out)\n",
        "        out = self.fc2(out)\n",
        "        return F.log_softmax(out)"
      ],
      "metadata": {
        "id": "9jJvR4aXvyid"
      },
      "execution_count": null,
      "outputs": []
    },
    {
      "cell_type": "markdown",
      "source": [
        "Defining the 256 transform"
      ],
      "metadata": {
        "id": "cmdPZA5Oj23_"
      }
    },
    {
      "cell_type": "code",
      "source": [
        "transform_256 = transforms.Resize((256,256))"
      ],
      "metadata": {
        "id": "Avn6w4u4Mem8"
      },
      "execution_count": null,
      "outputs": []
    },
    {
      "cell_type": "code",
      "source": [
        "def train_256(epoch, network, data_loader, optimizer, criterion, log_interval, train_losses, train_counter):\n",
        "  network.train()\n",
        "  for batch_idx, (data, target) in enumerate(data_loader):\n",
        "    torch.cuda.empty_cache()\n",
        "    data = transform_256(data).to('cuda')\n",
        "    target = target.to('cuda')\n",
        "    optimizer.zero_grad()\n",
        "    output = network(data)\n",
        "    loss = criterion(output, target)\n",
        "    loss.backward()\n",
        "    optimizer.step()\n",
        "    if batch_idx % log_interval == 0:\n",
        "      print('Train Epoch: {} [{}/{} ({:.0f}%)]\\tLoss: {:.6f}'.format(\n",
        "        epoch, batch_idx * len(data), len(data_loader.dataset),\n",
        "        100. * batch_idx / len(data_loader), loss.item()))\n",
        "      train_losses.append(loss.item())\n",
        "      train_counter.append(\n",
        "        (batch_idx*64) + ((epoch-1)*len(data_loader.dataset)))\n",
        "\n",
        "\n",
        "\n",
        "\n",
        "def test_256(network, test_loader, criterion, test_losses):\n",
        "  network.eval()\n",
        "  test_loss = 0\n",
        "  correct = 0\n",
        "  with torch.no_grad():\n",
        "    for data, target in test_loader:\n",
        "      torch.cuda.empty_cache()\n",
        "      data = transform_256(data).to('cuda')\n",
        "      target = target.to('cuda')\n",
        "      output = network(data)\n",
        "      test_loss += F.nll_loss(output, target, size_average=False).item()\n",
        "      pred = output.data.max(1, keepdim=True)[1]\n",
        "      correct += pred.eq(target.data.view_as(pred)).sum()\n",
        "  test_loss /= len(test_loader.dataset)\n",
        "  test_losses.append(test_loss)\n",
        "  print('\\nTest set: Avg. loss: {:.4f}, Accuracy: {}/{} ({:.0f}%)\\n'.format(\n",
        "    test_loss, correct, len(test_loader.dataset),\n",
        "    100. * correct / len(test_loader.dataset)))\n",
        "\n",
        "\n",
        "\n",
        "def validation_256(n_epochs, network, train_loader, test_loader, optimizer, criterion, log_interval):\n",
        "  train_losses = []\n",
        "  train_counter = []\n",
        "  test_losses = []\n",
        "  test_counter = [i*len(train_loader.dataset) for i in range(n_epochs + 1)]\n",
        "\n",
        "  test_256(network, test_loader, criterion, test_losses)\n",
        "  for epoch in range(1, n_epochs + 1):\n",
        "    train_256(epoch, network, train_loader, optimizer, criterion, log_interval, train_losses, train_counter)\n",
        "    test_256(network, test_loader, criterion, test_losses)\n",
        "\n",
        "\n",
        "pred=[]\n",
        "outputs=[]\n",
        "def prediction_256(n_epochs, network, alldataloader,data_test, optimizer, criterion, log_interval):\n",
        "  train_losses = []\n",
        "  train_counter = []\n",
        "  print()\n",
        "  for epoch in range(1, n_epochs + 1):\n",
        "    train_256(epoch, network, alldataloader, optimizer, criterion, log_interval, train_losses, train_counter)\n",
        "    print(\"epoch\",epoch+1)\n",
        "  network.eval()\n",
        "  #pred=[]\n",
        "  #outputs=[]\n",
        "  with torch.no_grad():\n",
        "    for sample_test in data_test:\n",
        "      #print(sample_test)\n",
        "      output = network(transform_256(sample_test.unsqueeze(0)).to('cuda'))\n",
        "      outputs.append(output)\n",
        "      pred.append(output.data.max(1, keepdim=True)[1].cpu().numpy().squeeze())\n",
        "  print(pred)\n",
        "  #np_pred=pred.cpu().numpy().ravel()\n",
        "\n",
        "  np.savetxt(\"results.csv\", np.transpose(np.stack((np.arange(len(pred)),pred))), fmt=\"%s\", delimiter=',', header=\"id,class\")\n",
        "  return outputs, pred\n"
      ],
      "metadata": {
        "id": "ItXrlHqILArt"
      },
      "execution_count": null,
      "outputs": []
    },
    {
      "cell_type": "code",
      "source": [
        "n_epochs = 30\n",
        "learning_rate = 0.005\n",
        "momentum = 0.5\n",
        "log_interval = 50\n"
      ],
      "metadata": {
        "id": "gfy6NFrI1_Kb"
      },
      "execution_count": null,
      "outputs": []
    },
    {
      "cell_type": "code",
      "source": [
        "\n",
        "network = AlexNet().to('cuda')\n",
        "optimizer = optim.SGD(network.parameters(), lr=learning_rate, momentum=momentum)\n",
        "criterion=F.nll_loss\n",
        "\n",
        "validation_256(n_epochs, network, train_loader, test_loader, optimizer, criterion, log_interval)"
      ],
      "metadata": {
        "id": "yWEpgEkSLvFq",
        "colab": {
          "base_uri": "https://localhost:8080/",
          "height": 540
        },
        "outputId": "00dad196-14cb-44c2-b0fd-9fe4da8892c0"
      },
      "execution_count": null,
      "outputs": [
        {
          "output_type": "stream",
          "name": "stderr",
          "text": [
            "<ipython-input-19-fd661288217b>:48: UserWarning: Implicit dimension choice for log_softmax has been deprecated. Change the call to include dim=X as an argument.\n",
            "  return F.log_softmax(out)\n",
            "/usr/local/lib/python3.8/dist-packages/torch/nn/_reduction.py:42: UserWarning: size_average and reduce args will be deprecated, please use reduction='sum' instead.\n",
            "  warnings.warn(warning.format(ret))\n"
          ]
        },
        {
          "output_type": "stream",
          "name": "stdout",
          "text": [
            "\n",
            "Test set: Avg. loss: 2.3027, Accuracy: 572/6000 (10%)\n",
            "\n",
            "Train Epoch: 1 [0/54000 (0%)]\tLoss: 2.310337\n",
            "Train Epoch: 1 [12800/54000 (24%)]\tLoss: 2.271268\n"
          ]
        },
        {
          "output_type": "error",
          "ename": "KeyboardInterrupt",
          "evalue": "ignored",
          "traceback": [
            "\u001b[0;31m---------------------------------------------------------------------------\u001b[0m",
            "\u001b[0;31mKeyboardInterrupt\u001b[0m                         Traceback (most recent call last)",
            "\u001b[0;32m<ipython-input-24-2b6bb3cfb4e8>\u001b[0m in \u001b[0;36m<module>\u001b[0;34m\u001b[0m\n\u001b[1;32m      3\u001b[0m \u001b[0mcriterion\u001b[0m\u001b[0;34m=\u001b[0m\u001b[0mF\u001b[0m\u001b[0;34m.\u001b[0m\u001b[0mnll_loss\u001b[0m\u001b[0;34m\u001b[0m\u001b[0;34m\u001b[0m\u001b[0m\n\u001b[1;32m      4\u001b[0m \u001b[0;34m\u001b[0m\u001b[0m\n\u001b[0;32m----> 5\u001b[0;31m \u001b[0mvalidation_256\u001b[0m\u001b[0;34m(\u001b[0m\u001b[0mn_epochs\u001b[0m\u001b[0;34m,\u001b[0m \u001b[0mnetwork\u001b[0m\u001b[0;34m,\u001b[0m \u001b[0mtrain_loader\u001b[0m\u001b[0;34m,\u001b[0m \u001b[0mtest_loader\u001b[0m\u001b[0;34m,\u001b[0m \u001b[0moptimizer\u001b[0m\u001b[0;34m,\u001b[0m \u001b[0mcriterion\u001b[0m\u001b[0;34m,\u001b[0m \u001b[0mlog_interval\u001b[0m\u001b[0;34m)\u001b[0m\u001b[0;34m\u001b[0m\u001b[0;34m\u001b[0m\u001b[0m\n\u001b[0m",
            "\u001b[0;32m<ipython-input-21-29819a5b062a>\u001b[0m in \u001b[0;36mvalidation_256\u001b[0;34m(n_epochs, network, train_loader, test_loader, optimizer, criterion, log_interval)\u001b[0m\n\u001b[1;32m     50\u001b[0m   \u001b[0mtest_256\u001b[0m\u001b[0;34m(\u001b[0m\u001b[0mnetwork\u001b[0m\u001b[0;34m,\u001b[0m \u001b[0mtest_loader\u001b[0m\u001b[0;34m,\u001b[0m \u001b[0mcriterion\u001b[0m\u001b[0;34m,\u001b[0m \u001b[0mtest_losses\u001b[0m\u001b[0;34m)\u001b[0m\u001b[0;34m\u001b[0m\u001b[0;34m\u001b[0m\u001b[0m\n\u001b[1;32m     51\u001b[0m   \u001b[0;32mfor\u001b[0m \u001b[0mepoch\u001b[0m \u001b[0;32min\u001b[0m \u001b[0mrange\u001b[0m\u001b[0;34m(\u001b[0m\u001b[0;36m1\u001b[0m\u001b[0;34m,\u001b[0m \u001b[0mn_epochs\u001b[0m \u001b[0;34m+\u001b[0m \u001b[0;36m1\u001b[0m\u001b[0;34m)\u001b[0m\u001b[0;34m:\u001b[0m\u001b[0;34m\u001b[0m\u001b[0;34m\u001b[0m\u001b[0m\n\u001b[0;32m---> 52\u001b[0;31m     \u001b[0mtrain_256\u001b[0m\u001b[0;34m(\u001b[0m\u001b[0mepoch\u001b[0m\u001b[0;34m,\u001b[0m \u001b[0mnetwork\u001b[0m\u001b[0;34m,\u001b[0m \u001b[0mtrain_loader\u001b[0m\u001b[0;34m,\u001b[0m \u001b[0moptimizer\u001b[0m\u001b[0;34m,\u001b[0m \u001b[0mcriterion\u001b[0m\u001b[0;34m,\u001b[0m \u001b[0mlog_interval\u001b[0m\u001b[0;34m,\u001b[0m \u001b[0mtrain_losses\u001b[0m\u001b[0;34m,\u001b[0m \u001b[0mtrain_counter\u001b[0m\u001b[0;34m)\u001b[0m\u001b[0;34m\u001b[0m\u001b[0;34m\u001b[0m\u001b[0m\n\u001b[0m\u001b[1;32m     53\u001b[0m     \u001b[0mtest_256\u001b[0m\u001b[0;34m(\u001b[0m\u001b[0mnetwork\u001b[0m\u001b[0;34m,\u001b[0m \u001b[0mtest_loader\u001b[0m\u001b[0;34m,\u001b[0m \u001b[0mcriterion\u001b[0m\u001b[0;34m,\u001b[0m \u001b[0mtest_losses\u001b[0m\u001b[0;34m)\u001b[0m\u001b[0;34m\u001b[0m\u001b[0;34m\u001b[0m\u001b[0m\n\u001b[1;32m     54\u001b[0m \u001b[0;34m\u001b[0m\u001b[0m\n",
            "\u001b[0;32m<ipython-input-21-29819a5b062a>\u001b[0m in \u001b[0;36mtrain_256\u001b[0;34m(epoch, network, data_loader, optimizer, criterion, log_interval, train_losses, train_counter)\u001b[0m\n\u001b[1;32m      8\u001b[0m     \u001b[0moutput\u001b[0m \u001b[0;34m=\u001b[0m \u001b[0mnetwork\u001b[0m\u001b[0;34m(\u001b[0m\u001b[0mdata\u001b[0m\u001b[0;34m)\u001b[0m\u001b[0;34m\u001b[0m\u001b[0;34m\u001b[0m\u001b[0m\n\u001b[1;32m      9\u001b[0m     \u001b[0mloss\u001b[0m \u001b[0;34m=\u001b[0m \u001b[0mcriterion\u001b[0m\u001b[0;34m(\u001b[0m\u001b[0moutput\u001b[0m\u001b[0;34m,\u001b[0m \u001b[0mtarget\u001b[0m\u001b[0;34m)\u001b[0m\u001b[0;34m\u001b[0m\u001b[0;34m\u001b[0m\u001b[0m\n\u001b[0;32m---> 10\u001b[0;31m     \u001b[0mloss\u001b[0m\u001b[0;34m.\u001b[0m\u001b[0mbackward\u001b[0m\u001b[0;34m(\u001b[0m\u001b[0;34m)\u001b[0m\u001b[0;34m\u001b[0m\u001b[0;34m\u001b[0m\u001b[0m\n\u001b[0m\u001b[1;32m     11\u001b[0m     \u001b[0moptimizer\u001b[0m\u001b[0;34m.\u001b[0m\u001b[0mstep\u001b[0m\u001b[0;34m(\u001b[0m\u001b[0;34m)\u001b[0m\u001b[0;34m\u001b[0m\u001b[0;34m\u001b[0m\u001b[0m\n\u001b[1;32m     12\u001b[0m     \u001b[0;32mif\u001b[0m \u001b[0mbatch_idx\u001b[0m \u001b[0;34m%\u001b[0m \u001b[0mlog_interval\u001b[0m \u001b[0;34m==\u001b[0m \u001b[0;36m0\u001b[0m\u001b[0;34m:\u001b[0m\u001b[0;34m\u001b[0m\u001b[0;34m\u001b[0m\u001b[0m\n",
            "\u001b[0;32m/usr/local/lib/python3.8/dist-packages/torch/_tensor.py\u001b[0m in \u001b[0;36mbackward\u001b[0;34m(self, gradient, retain_graph, create_graph, inputs)\u001b[0m\n\u001b[1;32m    394\u001b[0m                 \u001b[0mcreate_graph\u001b[0m\u001b[0;34m=\u001b[0m\u001b[0mcreate_graph\u001b[0m\u001b[0;34m,\u001b[0m\u001b[0;34m\u001b[0m\u001b[0;34m\u001b[0m\u001b[0m\n\u001b[1;32m    395\u001b[0m                 inputs=inputs)\n\u001b[0;32m--> 396\u001b[0;31m         \u001b[0mtorch\u001b[0m\u001b[0;34m.\u001b[0m\u001b[0mautograd\u001b[0m\u001b[0;34m.\u001b[0m\u001b[0mbackward\u001b[0m\u001b[0;34m(\u001b[0m\u001b[0mself\u001b[0m\u001b[0;34m,\u001b[0m \u001b[0mgradient\u001b[0m\u001b[0;34m,\u001b[0m \u001b[0mretain_graph\u001b[0m\u001b[0;34m,\u001b[0m \u001b[0mcreate_graph\u001b[0m\u001b[0;34m,\u001b[0m \u001b[0minputs\u001b[0m\u001b[0;34m=\u001b[0m\u001b[0minputs\u001b[0m\u001b[0;34m)\u001b[0m\u001b[0;34m\u001b[0m\u001b[0;34m\u001b[0m\u001b[0m\n\u001b[0m\u001b[1;32m    397\u001b[0m \u001b[0;34m\u001b[0m\u001b[0m\n\u001b[1;32m    398\u001b[0m     \u001b[0;32mdef\u001b[0m \u001b[0mregister_hook\u001b[0m\u001b[0;34m(\u001b[0m\u001b[0mself\u001b[0m\u001b[0;34m,\u001b[0m \u001b[0mhook\u001b[0m\u001b[0;34m)\u001b[0m\u001b[0;34m:\u001b[0m\u001b[0;34m\u001b[0m\u001b[0;34m\u001b[0m\u001b[0m\n",
            "\u001b[0;32m/usr/local/lib/python3.8/dist-packages/torch/autograd/__init__.py\u001b[0m in \u001b[0;36mbackward\u001b[0;34m(tensors, grad_tensors, retain_graph, create_graph, grad_variables, inputs)\u001b[0m\n\u001b[1;32m    171\u001b[0m     \u001b[0;31m# some Python versions print out the first line of a multi-line function\u001b[0m\u001b[0;34m\u001b[0m\u001b[0;34m\u001b[0m\u001b[0;34m\u001b[0m\u001b[0m\n\u001b[1;32m    172\u001b[0m     \u001b[0;31m# calls in the traceback and some print out the last line\u001b[0m\u001b[0;34m\u001b[0m\u001b[0;34m\u001b[0m\u001b[0;34m\u001b[0m\u001b[0m\n\u001b[0;32m--> 173\u001b[0;31m     Variable._execution_engine.run_backward(  # Calls into the C++ engine to run the backward pass\n\u001b[0m\u001b[1;32m    174\u001b[0m         \u001b[0mtensors\u001b[0m\u001b[0;34m,\u001b[0m \u001b[0mgrad_tensors_\u001b[0m\u001b[0;34m,\u001b[0m \u001b[0mretain_graph\u001b[0m\u001b[0;34m,\u001b[0m \u001b[0mcreate_graph\u001b[0m\u001b[0;34m,\u001b[0m \u001b[0minputs\u001b[0m\u001b[0;34m,\u001b[0m\u001b[0;34m\u001b[0m\u001b[0;34m\u001b[0m\u001b[0m\n\u001b[1;32m    175\u001b[0m         allow_unreachable=True, accumulate_grad=True)  # Calls into the C++ engine to run the backward pass\n",
            "\u001b[0;31mKeyboardInterrupt\u001b[0m: "
          ]
        }
      ]
    },
    {
      "cell_type": "code",
      "source": [
        "network = AlexNet().to('cuda')\n",
        "optimizer = optim.SGD(network.parameters(), lr=learning_rate, momentum=momentum)\n",
        "criterion=F.nll_loss\n",
        "\n",
        "outputs, pred = prediction_256(n_epochs, network, all_dataloader,data_test, optimizer, criterion, log_interval)\n",
        "'''n_epochs = 30\n",
        "learning_rate = 0.005\n",
        "momentum = 0.5\n",
        "log_interval = 50---> Kaggle : 86''"
      ],
      "metadata": {
        "id": "t1B6w6LdlOcg",
        "colab": {
          "base_uri": "https://localhost:8080/"
        },
        "outputId": "212267c5-37e0-4515-a095-37a74cedba17"
      },
      "execution_count": null,
      "outputs": [
        {
          "output_type": "stream",
          "name": "stdout",
          "text": [
            "\n"
          ]
        },
        {
          "output_type": "stream",
          "name": "stderr",
          "text": [
            "<ipython-input-31-fd661288217b>:48: UserWarning: Implicit dimension choice for log_softmax has been deprecated. Change the call to include dim=X as an argument.\n",
            "  return F.log_softmax(out)\n"
          ]
        },
        {
          "output_type": "stream",
          "name": "stdout",
          "text": [
            "Train Epoch: 1 [0/60000 (0%)]\tLoss: 2.327306\n",
            "Train Epoch: 1 [12800/60000 (21%)]\tLoss: 2.228521\n",
            "Train Epoch: 1 [25600/60000 (43%)]\tLoss: 2.017511\n",
            "Train Epoch: 1 [38400/60000 (64%)]\tLoss: 1.943611\n",
            "Train Epoch: 1 [51200/60000 (85%)]\tLoss: 1.647564\n",
            "epoch 2\n",
            "Train Epoch: 2 [0/60000 (0%)]\tLoss: 1.556510\n",
            "Train Epoch: 2 [12800/60000 (21%)]\tLoss: 1.398536\n",
            "Train Epoch: 2 [25600/60000 (43%)]\tLoss: 1.106806\n",
            "Train Epoch: 2 [38400/60000 (64%)]\tLoss: 1.165025\n",
            "Train Epoch: 2 [51200/60000 (85%)]\tLoss: 0.988865\n",
            "epoch 3\n",
            "Train Epoch: 3 [0/60000 (0%)]\tLoss: 1.017923\n",
            "Train Epoch: 3 [12800/60000 (21%)]\tLoss: 0.972880\n",
            "Train Epoch: 3 [25600/60000 (43%)]\tLoss: 0.737988\n",
            "Train Epoch: 3 [38400/60000 (64%)]\tLoss: 0.790433\n",
            "Train Epoch: 3 [51200/60000 (85%)]\tLoss: 0.723356\n",
            "epoch 4\n",
            "Train Epoch: 4 [0/60000 (0%)]\tLoss: 0.682514\n",
            "Train Epoch: 4 [12800/60000 (21%)]\tLoss: 0.556745\n",
            "Train Epoch: 4 [25600/60000 (43%)]\tLoss: 0.485438\n",
            "Train Epoch: 4 [38400/60000 (64%)]\tLoss: 0.566018\n",
            "Train Epoch: 4 [51200/60000 (85%)]\tLoss: 0.412830\n",
            "epoch 5\n",
            "Train Epoch: 5 [0/60000 (0%)]\tLoss: 0.608591\n",
            "Train Epoch: 5 [12800/60000 (21%)]\tLoss: 0.350046\n",
            "Train Epoch: 5 [25600/60000 (43%)]\tLoss: 0.397591\n",
            "Train Epoch: 5 [38400/60000 (64%)]\tLoss: 0.349191\n",
            "Train Epoch: 5 [51200/60000 (85%)]\tLoss: 0.240327\n",
            "epoch 6\n",
            "Train Epoch: 6 [0/60000 (0%)]\tLoss: 0.329905\n",
            "Train Epoch: 6 [12800/60000 (21%)]\tLoss: 0.271587\n",
            "Train Epoch: 6 [25600/60000 (43%)]\tLoss: 0.399339\n",
            "Train Epoch: 6 [38400/60000 (64%)]\tLoss: 0.273410\n",
            "Train Epoch: 6 [51200/60000 (85%)]\tLoss: 0.316752\n",
            "epoch 7\n",
            "Train Epoch: 7 [0/60000 (0%)]\tLoss: 0.329697\n",
            "Train Epoch: 7 [12800/60000 (21%)]\tLoss: 0.298924\n",
            "Train Epoch: 7 [25600/60000 (43%)]\tLoss: 0.276291\n",
            "Train Epoch: 7 [38400/60000 (64%)]\tLoss: 0.312248\n",
            "Train Epoch: 7 [51200/60000 (85%)]\tLoss: 0.213419\n",
            "epoch 8\n",
            "Train Epoch: 8 [0/60000 (0%)]\tLoss: 0.233242\n",
            "Train Epoch: 8 [12800/60000 (21%)]\tLoss: 0.262937\n",
            "Train Epoch: 8 [25600/60000 (43%)]\tLoss: 0.284795\n",
            "Train Epoch: 8 [38400/60000 (64%)]\tLoss: 0.212679\n",
            "Train Epoch: 8 [51200/60000 (85%)]\tLoss: 0.202789\n",
            "epoch 9\n",
            "Train Epoch: 9 [0/60000 (0%)]\tLoss: 0.218806\n",
            "Train Epoch: 9 [12800/60000 (21%)]\tLoss: 0.158227\n",
            "Train Epoch: 9 [25600/60000 (43%)]\tLoss: 0.286637\n",
            "Train Epoch: 9 [38400/60000 (64%)]\tLoss: 0.236031\n",
            "Train Epoch: 9 [51200/60000 (85%)]\tLoss: 0.226142\n",
            "epoch 10\n",
            "Train Epoch: 10 [0/60000 (0%)]\tLoss: 0.229223\n",
            "Train Epoch: 10 [12800/60000 (21%)]\tLoss: 0.149081\n",
            "Train Epoch: 10 [25600/60000 (43%)]\tLoss: 0.169356\n",
            "Train Epoch: 10 [38400/60000 (64%)]\tLoss: 0.126647\n",
            "Train Epoch: 10 [51200/60000 (85%)]\tLoss: 0.228012\n",
            "epoch 11\n",
            "Train Epoch: 11 [0/60000 (0%)]\tLoss: 0.110706\n",
            "Train Epoch: 11 [12800/60000 (21%)]\tLoss: 0.209416\n",
            "Train Epoch: 11 [25600/60000 (43%)]\tLoss: 0.131310\n",
            "Train Epoch: 11 [38400/60000 (64%)]\tLoss: 0.247490\n",
            "Train Epoch: 11 [51200/60000 (85%)]\tLoss: 0.173634\n",
            "epoch 12\n",
            "Train Epoch: 12 [0/60000 (0%)]\tLoss: 0.162214\n",
            "Train Epoch: 12 [12800/60000 (21%)]\tLoss: 0.135896\n",
            "Train Epoch: 12 [25600/60000 (43%)]\tLoss: 0.157920\n",
            "Train Epoch: 12 [38400/60000 (64%)]\tLoss: 0.161643\n",
            "Train Epoch: 12 [51200/60000 (85%)]\tLoss: 0.156978\n",
            "epoch 13\n",
            "Train Epoch: 13 [0/60000 (0%)]\tLoss: 0.065415\n",
            "Train Epoch: 13 [12800/60000 (21%)]\tLoss: 0.110182\n",
            "Train Epoch: 13 [25600/60000 (43%)]\tLoss: 0.081288\n",
            "Train Epoch: 13 [38400/60000 (64%)]\tLoss: 0.144854\n",
            "Train Epoch: 13 [51200/60000 (85%)]\tLoss: 0.088708\n",
            "epoch 14\n",
            "Train Epoch: 14 [0/60000 (0%)]\tLoss: 0.090750\n",
            "Train Epoch: 14 [12800/60000 (21%)]\tLoss: 0.164392\n",
            "Train Epoch: 14 [25600/60000 (43%)]\tLoss: 0.087591\n",
            "Train Epoch: 14 [38400/60000 (64%)]\tLoss: 0.135531\n",
            "Train Epoch: 14 [51200/60000 (85%)]\tLoss: 0.103611\n",
            "epoch 15\n",
            "Train Epoch: 15 [0/60000 (0%)]\tLoss: 0.121422\n",
            "Train Epoch: 15 [12800/60000 (21%)]\tLoss: 0.124939\n",
            "Train Epoch: 15 [25600/60000 (43%)]\tLoss: 0.161145\n",
            "Train Epoch: 15 [38400/60000 (64%)]\tLoss: 0.123539\n",
            "Train Epoch: 15 [51200/60000 (85%)]\tLoss: 0.175982\n",
            "epoch 16\n",
            "Train Epoch: 16 [0/60000 (0%)]\tLoss: 0.126051\n",
            "Train Epoch: 16 [12800/60000 (21%)]\tLoss: 0.052407\n",
            "Train Epoch: 16 [25600/60000 (43%)]\tLoss: 0.146468\n",
            "Train Epoch: 16 [38400/60000 (64%)]\tLoss: 0.089046\n",
            "Train Epoch: 16 [51200/60000 (85%)]\tLoss: 0.135324\n",
            "epoch 17\n",
            "Train Epoch: 17 [0/60000 (0%)]\tLoss: 0.098048\n",
            "Train Epoch: 17 [12800/60000 (21%)]\tLoss: 0.084163\n",
            "Train Epoch: 17 [25600/60000 (43%)]\tLoss: 0.119585\n",
            "Train Epoch: 17 [38400/60000 (64%)]\tLoss: 0.097551\n",
            "Train Epoch: 17 [51200/60000 (85%)]\tLoss: 0.076284\n",
            "epoch 18\n",
            "Train Epoch: 18 [0/60000 (0%)]\tLoss: 0.078852\n",
            "Train Epoch: 18 [12800/60000 (21%)]\tLoss: 0.066042\n",
            "Train Epoch: 18 [25600/60000 (43%)]\tLoss: 0.078698\n",
            "Train Epoch: 18 [38400/60000 (64%)]\tLoss: 0.112626\n",
            "Train Epoch: 18 [51200/60000 (85%)]\tLoss: 0.150784\n",
            "epoch 19\n",
            "Train Epoch: 19 [0/60000 (0%)]\tLoss: 0.055143\n",
            "Train Epoch: 19 [12800/60000 (21%)]\tLoss: 0.099734\n",
            "Train Epoch: 19 [25600/60000 (43%)]\tLoss: 0.067265\n",
            "Train Epoch: 19 [38400/60000 (64%)]\tLoss: 0.034316\n",
            "Train Epoch: 19 [51200/60000 (85%)]\tLoss: 0.082292\n",
            "epoch 20\n",
            "Train Epoch: 20 [0/60000 (0%)]\tLoss: 0.040903\n",
            "Train Epoch: 20 [12800/60000 (21%)]\tLoss: 0.059248\n",
            "Train Epoch: 20 [25600/60000 (43%)]\tLoss: 0.044057\n",
            "Train Epoch: 20 [38400/60000 (64%)]\tLoss: 0.125350\n",
            "Train Epoch: 20 [51200/60000 (85%)]\tLoss: 0.043956\n",
            "epoch 21\n",
            "Train Epoch: 21 [0/60000 (0%)]\tLoss: 0.074800\n",
            "Train Epoch: 21 [12800/60000 (21%)]\tLoss: 0.076786\n",
            "Train Epoch: 21 [25600/60000 (43%)]\tLoss: 0.042564\n",
            "Train Epoch: 21 [38400/60000 (64%)]\tLoss: 0.132266\n",
            "Train Epoch: 21 [51200/60000 (85%)]\tLoss: 0.069773\n",
            "epoch 22\n",
            "Train Epoch: 22 [0/60000 (0%)]\tLoss: 0.107276\n",
            "Train Epoch: 22 [12800/60000 (21%)]\tLoss: 0.050114\n",
            "Train Epoch: 22 [25600/60000 (43%)]\tLoss: 0.037897\n",
            "Train Epoch: 22 [38400/60000 (64%)]\tLoss: 0.049665\n",
            "Train Epoch: 22 [51200/60000 (85%)]\tLoss: 0.037226\n",
            "epoch 23\n",
            "Train Epoch: 23 [0/60000 (0%)]\tLoss: 0.043873\n",
            "Train Epoch: 23 [12800/60000 (21%)]\tLoss: 0.032402\n",
            "Train Epoch: 23 [25600/60000 (43%)]\tLoss: 0.036478\n",
            "Train Epoch: 23 [38400/60000 (64%)]\tLoss: 0.032923\n",
            "Train Epoch: 23 [51200/60000 (85%)]\tLoss: 0.050165\n",
            "epoch 24\n",
            "Train Epoch: 24 [0/60000 (0%)]\tLoss: 0.076408\n",
            "Train Epoch: 24 [12800/60000 (21%)]\tLoss: 0.068286\n",
            "Train Epoch: 24 [25600/60000 (43%)]\tLoss: 0.064786\n",
            "Train Epoch: 24 [38400/60000 (64%)]\tLoss: 0.058328\n",
            "Train Epoch: 24 [51200/60000 (85%)]\tLoss: 0.014257\n",
            "epoch 25\n",
            "Train Epoch: 25 [0/60000 (0%)]\tLoss: 0.031766\n",
            "Train Epoch: 25 [12800/60000 (21%)]\tLoss: 0.071725\n",
            "Train Epoch: 25 [25600/60000 (43%)]\tLoss: 0.053645\n",
            "Train Epoch: 25 [38400/60000 (64%)]\tLoss: 0.050055\n",
            "Train Epoch: 25 [51200/60000 (85%)]\tLoss: 0.019069\n",
            "epoch 26\n",
            "Train Epoch: 26 [0/60000 (0%)]\tLoss: 0.055911\n",
            "Train Epoch: 26 [12800/60000 (21%)]\tLoss: 0.031760\n",
            "Train Epoch: 26 [25600/60000 (43%)]\tLoss: 0.026803\n",
            "Train Epoch: 26 [38400/60000 (64%)]\tLoss: 0.057003\n",
            "Train Epoch: 26 [51200/60000 (85%)]\tLoss: 0.045884\n",
            "epoch 27\n",
            "Train Epoch: 27 [0/60000 (0%)]\tLoss: 0.044086\n",
            "Train Epoch: 27 [12800/60000 (21%)]\tLoss: 0.032670\n",
            "Train Epoch: 27 [25600/60000 (43%)]\tLoss: 0.049616\n",
            "Train Epoch: 27 [38400/60000 (64%)]\tLoss: 0.051618\n",
            "Train Epoch: 27 [51200/60000 (85%)]\tLoss: 0.025717\n",
            "epoch 28\n",
            "Train Epoch: 28 [0/60000 (0%)]\tLoss: 0.035900\n",
            "Train Epoch: 28 [12800/60000 (21%)]\tLoss: 0.017508\n",
            "Train Epoch: 28 [25600/60000 (43%)]\tLoss: 0.027621\n",
            "Train Epoch: 28 [38400/60000 (64%)]\tLoss: 0.017365\n",
            "Train Epoch: 28 [51200/60000 (85%)]\tLoss: 0.024591\n",
            "epoch 29\n",
            "Train Epoch: 29 [0/60000 (0%)]\tLoss: 0.023160\n",
            "Train Epoch: 29 [12800/60000 (21%)]\tLoss: 0.036302\n",
            "Train Epoch: 29 [25600/60000 (43%)]\tLoss: 0.012707\n",
            "Train Epoch: 29 [38400/60000 (64%)]\tLoss: 0.057845\n",
            "Train Epoch: 29 [51200/60000 (85%)]\tLoss: 0.023560\n",
            "epoch 30\n",
            "Train Epoch: 30 [0/60000 (0%)]\tLoss: 0.025633\n",
            "Train Epoch: 30 [12800/60000 (21%)]\tLoss: 0.014943\n",
            "Train Epoch: 30 [25600/60000 (43%)]\tLoss: 0.041336\n",
            "Train Epoch: 30 [38400/60000 (64%)]\tLoss: 0.022179\n",
            "Train Epoch: 30 [51200/60000 (85%)]\tLoss: 0.024068\n",
            "epoch 31\n",
            "[array(2), array(9), array(3), array(8), array(3), array(3), array(8), array(3), array(2), array(5), array(6), array(3), array(3), array(3), array(1), array(2), array(4), array(8), array(6), array(3), array(9), array(0), array(7), array(5), array(7), array(0), array(4), array(2), array(4), array(4), array(6), array(2), array(6), array(9), array(5), array(6), array(6), array(2), array(0), array(6), array(4), array(7), array(8), array(1), array(1), array(6), array(9), array(0), array(4), array(0), array(1), array(7), array(4), array(2), array(4), array(1), array(3), array(3), array(3), array(4), array(6), array(4), array(2), array(3), array(6), array(5), array(3), array(4), array(6), array(2), array(5), array(9), array(9), array(7), array(2), array(2), array(4), array(7), array(6), array(3), array(4), array(1), array(1), array(5), array(9), array(2), array(5), array(1), array(0), array(1), array(2), array(7), array(1), array(6), array(7), array(3), array(6), array(5), array(2), array(2), array(0), array(6), array(5), array(2), array(3), array(5), array(9), array(1), array(0), array(1), array(5), array(2), array(0), array(0), array(2), array(5), array(2), array(9), array(0), array(9), array(3), array(6), array(2), array(5), array(6), array(2), array(0), array(7), array(6), array(2), array(9), array(0), array(4), array(1), array(3), array(4), array(6), array(9), array(9), array(5), array(2), array(4), array(5), array(9), array(6), array(2), array(2), array(4), array(7), array(3), array(5), array(1), array(8), array(5), array(8), array(6), array(3), array(2), array(7), array(6), array(2), array(5), array(6), array(7), array(5), array(2), array(8), array(0), array(6), array(6), array(4), array(1), array(9), array(2), array(2), array(4), array(2), array(6), array(8), array(7), array(2), array(4), array(0), array(6), array(5), array(7), array(2), array(6), array(2), array(1), array(8), array(9), array(0), array(7), array(4), array(3), array(0), array(6), array(6), array(3), array(1), array(3), array(5), array(0), array(8), array(8), array(5), array(8), array(2), array(9), array(3), array(2), array(9), array(2), array(7), array(5), array(4), array(5), array(4), array(7), array(3), array(3), array(7), array(2), array(8), array(9), array(0), array(7), array(5), array(0), array(1), array(6), array(6), array(3), array(0), array(9), array(2), array(4), array(9), array(0), array(2), array(0), array(3), array(0), array(4), array(6), array(8), array(3), array(7), array(9), array(4), array(4), array(4), array(2), array(2), array(9), array(6), array(4), array(0), array(4), array(2), array(7), array(3), array(2), array(6), array(7), array(0), array(9), array(1), array(2), array(4), array(5), array(5), array(9), array(1), array(7), array(9), array(0), array(3), array(3), array(6), array(1), array(6), array(8), array(7), array(7), array(9), array(2), array(6), array(2), array(2), array(7), array(2), array(7), array(2), array(2), array(0), array(3), array(3), array(4), array(2), array(2), array(8), array(7), array(9), array(2), array(0), array(2), array(1), array(0), array(0), array(7), array(9), array(6), array(9), array(4), array(2), array(2), array(9), array(8), array(6), array(6), array(8), array(4), array(2), array(7), array(7), array(3), array(5), array(2), array(2), array(3), array(2), array(2), array(2), array(1), array(4), array(9), array(3), array(7), array(1), array(3), array(1), array(9), array(7), array(2), array(2), array(1), array(2), array(2), array(2), array(5), array(3), array(3), array(7), array(1), array(4), array(5), array(7), array(8), array(6), array(9), array(3), array(6), array(2), array(2), array(0), array(3), array(3), array(8), array(1), array(7), array(4), array(4), array(8), array(2), array(2), array(4), array(2), array(2), array(7), array(6), array(9), array(6), array(6), array(5), array(2), array(0), array(4), array(4), array(3), array(1), array(3), array(3), array(7), array(7), array(7), array(7), array(5), array(3), array(4), array(6), array(8), array(9), array(5), array(6), array(9), array(6), array(5), array(9), array(1), array(5), array(6), array(0), array(2), array(2), array(9), array(1), array(2), array(0), array(5), array(5), array(2), array(2), array(4), array(6), array(6), array(7), array(9), array(0), array(2), array(4), array(2), array(8), array(3), array(8), array(3), array(8), array(1), array(2), array(3), array(3), array(7), array(8), array(8), array(6), array(3), array(2), array(8), array(2), array(8), array(7), array(7), array(6), array(5), array(0), array(4), array(3), array(8), array(1), array(6), array(2), array(3), array(3), array(7), array(1), array(3), array(4), array(0), array(6), array(7), array(3), array(6), array(0), array(5), array(8), array(9), array(4), array(1), array(3), array(2), array(4), array(9), array(6), array(7), array(1), array(2), array(2), array(6), array(7), array(5), array(1), array(2), array(6), array(0), array(0), array(1), array(2), array(2), array(9), array(8), array(1), array(2), array(8), array(2), array(4), array(3), array(3), array(2), array(2), array(4), array(4), array(2), array(0), array(2), array(0), array(9), array(1), array(7), array(9), array(8), array(6), array(6), array(4), array(5), array(2), array(6), array(7), array(2), array(5), array(3), array(4), array(9), array(6), array(6), array(2), array(4), array(8), array(7), array(5), array(2), array(7), array(2), array(9), array(2), array(7), array(4), array(7), array(2), array(2), array(9), array(9), array(4), array(2), array(7), array(4), array(2), array(5), array(0), array(4), array(4), array(2), array(1), array(7), array(8), array(5), array(2), array(2), array(2), array(0), array(1), array(8), array(9), array(1), array(3), array(0), array(8), array(7), array(1), array(9), array(1), array(4), array(0), array(5), array(7), array(2), array(6), array(5), array(7), array(4), array(0), array(2), array(1), array(2), array(2), array(7), array(2), array(4), array(8), array(4), array(7), array(2), array(2), array(3), array(0), array(7), array(2), array(2), array(2), array(3), array(2), array(1), array(2), array(2), array(3), array(5), array(6), array(8), array(8), array(3), array(4), array(3), array(8), array(9), array(3), array(2), array(6), array(7), array(0), array(9), array(5), array(8), array(3), array(5), array(1), array(2), array(6), array(1), array(0), array(7), array(0), array(5), array(7), array(6), array(2), array(1), array(0), array(0), array(2), array(4), array(2), array(9), array(2), array(0), array(7), array(2), array(1), array(2), array(6), array(7), array(3), array(1), array(5), array(1), array(9), array(2), array(0), array(0), array(5), array(4), array(5), array(6), array(2), array(2), array(2), array(5), array(0), array(3), array(0), array(3), array(2), array(5), array(7), array(7), array(5), array(3), array(7), array(4), array(0), array(2), array(1), array(8), array(2), array(5), array(3), array(9), array(7), array(6), array(1), array(9), array(3), array(9), array(0), array(1), array(4), array(2), array(6), array(9), array(7), array(2), array(1), array(4), array(9), array(7), array(2), array(9), array(1), array(3), array(6), array(0), array(2), array(6), array(0), array(6), array(2), array(9), array(4), array(9), array(8), array(8), array(9), array(6), array(1), array(2), array(6), array(6), array(6), array(1), array(1), array(2), array(7), array(1), array(9), array(1), array(6), array(9), array(5), array(7), array(4), array(6), array(6), array(3), array(0), array(2), array(2), array(7), array(5), array(9), array(0), array(4), array(5), array(6), array(0), array(0), array(1), array(0), array(2), array(7), array(5), array(2), array(4), array(0), array(5), array(9), array(7), array(1), array(2), array(4), array(2), array(6), array(9), array(2), array(5), array(8), array(2), array(6), array(6), array(2), array(4), array(0), array(2), array(3), array(9), array(6), array(5), array(7), array(3), array(7), array(1), array(0), array(5), array(7), array(2), array(3), array(9), array(2), array(9), array(9), array(1), array(0), array(3), array(2), array(0), array(3), array(2), array(2), array(3), array(9), array(0), array(4), array(5), array(9), array(2), array(1), array(4), array(2), array(4), array(9), array(5), array(5), array(0), array(1), array(8), array(0), array(0), array(0), array(0), array(7), array(1), array(3), array(6), array(6), array(0), array(4), array(2), array(9), array(7), array(7), array(6), array(8), array(4), array(2), array(1), array(1), array(2), array(0), array(2), array(3), array(4), array(9), array(1), array(5), array(8), array(2), array(2), array(1), array(1), array(2), array(5), array(6), array(4), array(5), array(4), array(8), array(8), array(1), array(3), array(6), array(9), array(9), array(3), array(5), array(3), array(7), array(4), array(5), array(2), array(4), array(8), array(1), array(1), array(5), array(8), array(3), array(2), array(8), array(9), array(3), array(9), array(5), array(1), array(0), array(4), array(6), array(7), array(4), array(3), array(0), array(7), array(3), array(7), array(1), array(1), array(1), array(4), array(2), array(0), array(4), array(9), array(7), array(5), array(6), array(7), array(4), array(2), array(4), array(0), array(2), array(0), array(1), array(0), array(2), array(6), array(3), array(4), array(1), array(3), array(2), array(3), array(2), array(9), array(2), array(5), array(4), array(7), array(4), array(7), array(4), array(8), array(3), array(0), array(1), array(3), array(4), array(0), array(2), array(1), array(3), array(8), array(5), array(4), array(7), array(1), array(7), array(9), array(4), array(6), array(3), array(3), array(6), array(0), array(3), array(2), array(6), array(1), array(9), array(7), array(4), array(1), array(2), array(2), array(5), array(2), array(7), array(0), array(5), array(5), array(1), array(7), array(0), array(7), array(4), array(1), array(1), array(8), array(7), array(9), array(3), array(4), array(1), array(6), array(6), array(6), array(8), array(2), array(2), array(4), array(1), array(7), array(2), array(7), array(5), array(6), array(1), array(9), array(9), array(7), array(7), array(8), array(6), array(9), array(8), array(7), array(1), array(2), array(8), array(6), array(2), array(2), array(8), array(0), array(8), array(6), array(2), array(6), array(3), array(4), array(8), array(3), array(2), array(3), array(9), array(3), array(4), array(4), array(6), array(4), array(1), array(6), array(7), array(5), array(1), array(8), array(4), array(2), array(3), array(8), array(1), array(9), array(4), array(0), array(2), array(8), array(0), array(3), array(5), array(0), array(3), array(6), array(9), array(0), array(5), array(6), array(4), array(0), array(2), array(1), array(2), array(5), array(2), array(6), array(7), array(1), array(4), array(5), array(3), array(1), array(1), array(5), array(7), array(4), array(5), array(5), array(1), array(7), array(0), array(1), array(2), array(0), array(5), array(6), array(5), array(3), array(2), array(1), array(0), array(6), array(2), array(9), array(5), array(0), array(4), array(0), array(1), array(4), array(3), array(6), array(6), array(7), array(7), array(0), array(6), array(3), array(2), array(0), array(2), array(9), array(4), array(6), array(2), array(9), array(7), array(7), array(3), array(6), array(1), array(4), array(3), array(7), array(0), array(7), array(5), array(4), array(9), array(2), array(2), array(7), array(3), array(3), array(2), array(5), array(7), array(2), array(2), array(1), array(2), array(7), array(4), array(4), array(2), array(2), array(7), array(3), array(8), array(4), array(3), array(7), array(8), array(1), array(7), array(9), array(1), array(5), array(5), array(7), array(3), array(2), array(9), array(0), array(8), array(3), array(3), array(5), array(9), array(3), array(1), array(3), array(6), array(8), array(3), array(6), array(6), array(9), array(7), array(3), array(0), array(8), array(4), array(1), array(6), array(1), array(5), array(4), array(7), array(6), array(0), array(0), array(6), array(3), array(8), array(9), array(1), array(9), array(1), array(5), array(2), array(7), array(3), array(9), array(1), array(2), array(0), array(3), array(6), array(9), array(4), array(1), array(8), array(8), array(4), array(8), array(5), array(1), array(1), array(2), array(4), array(6), array(1), array(1), array(9), array(3), array(6), array(3), array(8), array(5), array(6), array(7), array(8), array(1), array(5), array(4), array(5), array(7), array(4), array(0), array(2), array(7), array(8), array(9), array(7), array(5), array(1), array(9), array(6), array(1), array(3), array(5), array(5), array(6), array(3), array(6), array(8), array(4), array(9), array(8), array(7), array(1), array(9), array(6), array(8), array(4), array(2), array(6), array(7), array(4), array(4), array(9), array(9), array(0), array(7), array(6), array(4), array(1), array(6), array(5), array(1), array(6), array(7), array(3), array(2), array(2), array(0), array(9), array(0), array(6), array(9), array(4), array(8), array(7), array(6), array(6), array(6), array(3), array(2), array(1), array(2), array(2), array(7), array(5), array(2), array(2), array(8), array(3), array(8), array(2), array(2), array(7), array(0), array(5), array(1), array(0), array(1), array(2), array(2), array(6), array(0), array(1), array(4), array(2), array(2), array(0), array(8), array(6), array(1), array(9), array(9), array(0), array(5), array(1), array(6), array(8), array(4), array(7), array(1), array(9), array(5), array(3), array(4), array(1), array(9), array(8), array(1), array(1), array(6), array(0), array(3), array(2), array(2), array(0), array(4), array(5), array(7), array(0), array(9), array(5), array(6), array(6), array(1), array(0), array(2), array(9), array(8), array(8), array(9), array(2), array(2), array(2), array(2), array(1), array(4), array(7), array(5), array(1), array(9), array(6), array(8), array(7), array(5), array(3), array(3), array(2), array(6), array(6), array(1), array(4), array(7), array(6), array(1), array(7), array(1), array(5), array(2), array(6), array(0), array(4), array(1), array(4), array(7), array(3), array(1), array(2), array(6), array(2), array(7), array(3), array(3), array(3), array(2), array(1), array(8), array(4), array(7), array(4), array(6), array(2), array(1), array(1), array(1), array(1), array(1), array(5), array(1), array(7), array(5), array(9), array(4), array(3), array(3), array(8), array(7), array(2), array(7), array(2), array(9), array(6), array(1), array(7), array(3), array(0), array(3), array(8), array(4), array(4), array(3), array(8), array(8), array(8), array(3), array(0), array(1), array(4), array(9), array(7), array(8), array(1), array(0), array(9), array(3), array(9), array(5), array(6), array(0), array(6), array(7), array(2), array(7), array(5), array(1), array(4), array(9), array(6), array(6), array(3), array(3), array(4), array(1), array(4), array(9), array(2), array(7), array(6), array(7), array(2), array(7), array(0), array(4), array(8), array(8), array(9), array(5), array(6), array(4), array(3), array(7), array(2), array(5), array(4), array(6), array(5), array(6), array(1), array(2), array(5), array(6), array(2), array(9), array(2), array(0), array(8), array(5), array(7), array(2), array(8), array(6), array(2), array(5), array(0), array(3), array(0), array(2), array(6), array(6), array(8), array(6), array(3), array(9), array(2), array(1), array(2), array(7), array(2), array(2), array(0), array(0), array(4), array(3), array(7), array(1), array(3), array(2), array(4), array(9), array(9), array(4), array(6), array(1), array(2), array(5), array(8), array(8), array(4), array(2), array(9), array(6), array(2), array(9), array(7), array(6), array(2), array(0), array(6), array(9), array(2), array(2), array(4), array(3), array(7), array(7), array(9), array(3), array(2), array(3), array(3), array(2), array(5), array(0), array(7), array(7), array(7), array(0), array(2), array(3), array(5), array(4), array(2), array(7), array(9), array(7), array(4), array(1), array(2), array(1), array(6), array(1), array(5), array(2), array(6), array(5), array(7), array(3), array(6), array(2), array(1), array(6), array(7), array(3), array(3), array(4), array(0), array(5), array(1), array(5), array(1), array(1), array(2), array(4), array(6), array(2), array(7), array(0), array(2), array(1), array(1), array(0), array(4), array(9), array(8), array(7), array(9), array(4), array(7), array(3), array(8), array(0), array(2), array(2), array(1), array(6), array(1), array(3), array(2), array(0), array(5), array(8), array(1), array(4), array(1), array(2), array(4), array(2), array(7), array(3), array(0), array(3), array(2), array(9), array(6), array(7), array(9), array(6), array(7), array(6), array(0), array(6), array(6), array(7), array(2), array(6), array(6), array(7), array(1), array(4), array(3), array(1), array(1), array(9), array(5), array(4), array(1), array(1), array(2), array(4), array(9), array(7), array(0), array(1), array(3), array(3), array(1), array(2), array(6), array(3), array(5), array(3), array(1), array(9), array(4), array(3), array(6), array(2), array(8), array(7), array(6), array(1), array(5), array(3), array(8), array(8), array(8), array(9), array(0), array(9), array(7), array(2), array(5), array(7), array(4), array(4), array(3), array(2), array(3), array(3), array(9), array(1), array(3), array(7), array(4), array(3), array(7), array(8), array(1), array(3), array(9), array(6), array(7), array(0), array(2), array(2), array(3), array(8), array(2), array(3), array(8), array(0), array(8), array(7), array(5), array(0), array(4), array(2), array(6), array(7), array(2), array(2), array(1), array(9), array(8), array(7), array(2), array(9), array(9), array(3), array(0), array(2), array(0), array(2), array(3), array(4), array(7), array(6), array(1), array(0), array(1), array(4), array(1), array(2), array(2), array(2), array(6), array(2), array(4), array(8), array(0), array(9), array(5), array(9), array(2), array(2), array(2), array(5), array(9), array(3), array(6), array(9), array(7), array(1), array(4), array(6), array(3), array(7), array(1), array(1), array(9), array(6), array(8), array(6), array(4), array(2), array(1), array(1), array(0), array(5), array(8), array(7), array(6), array(3), array(4), array(7), array(2), array(5), array(8), array(9), array(0), array(6), array(2), array(1), array(4), array(9), array(7), array(9), array(4), array(6), array(2), array(8), array(2), array(5), array(6), array(6), array(9), array(3), array(2), array(0), array(5), array(4), array(3), array(9), array(0), array(9), array(4), array(2), array(0), array(6), array(4), array(3), array(6), array(1), array(3), array(0), array(3), array(7), array(3), array(2), array(5), array(2), array(6), array(4), array(4), array(5), array(0), array(2), array(5), array(1), array(2), array(4), array(2), array(0), array(3), array(3), array(6), array(8), array(3), array(8), array(2), array(0), array(8), array(3), array(4), array(1), array(6), array(8), array(7), array(2), array(3), array(8), array(8), array(0), array(0), array(4), array(6), array(0), array(0), array(7), array(3), array(0), array(9), array(7), array(7), array(5), array(6), array(1), array(1), array(8), array(9), array(2), array(7), array(0), array(1), array(3), array(2), array(5), array(2), array(7), array(3), array(6), array(4), array(6), array(1), array(0), array(7), array(2), array(8), array(9), array(5), array(7), array(4), array(2), array(7), array(3), array(1), array(2), array(1), array(7), array(1), array(9), array(0), array(8), array(6), array(4), array(6), array(2), array(9), array(4), array(2), array(9), array(6), array(2), array(7), array(5), array(2), array(9), array(6), array(1), array(4), array(3), array(3), array(1), array(3), array(7), array(4), array(0), array(2), array(8), array(1), array(0), array(1), array(0), array(8), array(7), array(2), array(8), array(1), array(2), array(3), array(1), array(1), array(0), array(4), array(1), array(6), array(6), array(9), array(6), array(2), array(9), array(9), array(2), array(4), array(8), array(2), array(1), array(6), array(8), array(6), array(2), array(1), array(8), array(2), array(4), array(6), array(4), array(1), array(3), array(4), array(8), array(4), array(2), array(5), array(9), array(7), array(6), array(0), array(2), array(6), array(7), array(0), array(2), array(3), array(6), array(6), array(2), array(2), array(4), array(9), array(2), array(1), array(8), array(5), array(7), array(6), array(2), array(2), array(6), array(6), array(8), array(9), array(8), array(6), array(3), array(0), array(6), array(9), array(7), array(7), array(0), array(2), array(0), array(3), array(6), array(4), array(2), array(0), array(1), array(9), array(2), array(7), array(6), array(4), array(4), array(5), array(3), array(0), array(9), array(9), array(8), array(0), array(3), array(6), array(6), array(4), array(6), array(8), array(2), array(2), array(1), array(7), array(1), array(0), array(8), array(9), array(2), array(0), array(5), array(2), array(3), array(1), array(4), array(1), array(5), array(4), array(4), array(1), array(4), array(6), array(6), array(3), array(9), array(4), array(0), array(6), array(2), array(5), array(7), array(9), array(8), array(4), array(2), array(0), array(1), array(9), array(9), array(9), array(1), array(5), array(5), array(0), array(5), array(8), array(2), array(3), array(8), array(0), array(1), array(7), array(7), array(0), array(1), array(6), array(4), array(0), array(9), array(2), array(3), array(8), array(2), array(7), array(9), array(9), array(1), array(2), array(2), array(3), array(9), array(4), array(9), array(6), array(0), array(4), array(6), array(2), array(4), array(6), array(4), array(2), array(5), array(0), array(2), array(9), array(0), array(4), array(7), array(7), array(2), array(4), array(2), array(8), array(5), array(3), array(0), array(7), array(1), array(6), array(2), array(0), array(6), array(5), array(1), array(3), array(4), array(4), array(9), array(4), array(4), array(5), array(4), array(1), array(0), array(2), array(7), array(3), array(6), array(3), array(9), array(2), array(3), array(4), array(7), array(2), array(6), array(1), array(2), array(7), array(8), array(1), array(1), array(2), array(2), array(7), array(7), array(6), array(2), array(9), array(6), array(0), array(4), array(5), array(1), array(8), array(9), array(9), array(4), array(1), array(3), array(4), array(6), array(0), array(8), array(6), array(2), array(9), array(4), array(9), array(9), array(3), array(3), array(7), array(9), array(7), array(9), array(4), array(3), array(5), array(7), array(1), array(0), array(1), array(5), array(9), array(4), array(3), array(4), array(6), array(1), array(9), array(1), array(8), array(6), array(4), array(4), array(6), array(9), array(8), array(9), array(2), array(2), array(3), array(5), array(7), array(7), array(3), array(2), array(9), array(2), array(4), array(3), array(9), array(4), array(8), array(9), array(8), array(2), array(0), array(4), array(0), array(2), array(5), array(9), array(7), array(6), array(4), array(8), array(8), array(3), array(0), array(8), array(5), array(4), array(2), array(1), array(3), array(6), array(6), array(6), array(0), array(6), array(0), array(4), array(0), array(2), array(1), array(4), array(9), array(6), array(4), array(3), array(8), array(0), array(6), array(4), array(2), array(2), array(2), array(6), array(5), array(1), array(8), array(6), array(6), array(4), array(4), array(3), array(0), array(0), array(8), array(4), array(0), array(2), array(2), array(3), array(3), array(2), array(3), array(7), array(4), array(0), array(5), array(9), array(2), array(6), array(9), array(6), array(3), array(8), array(1), array(4), array(9), array(6), array(8), array(1), array(6), array(1), array(2), array(1), array(0), array(8), array(0), array(6), array(7), array(3), array(5), array(6), array(0), array(3), array(3), array(5), array(3), array(1), array(3), array(9), array(3), array(2), array(7), array(6), array(1), array(2), array(9), array(7), array(1), array(7), array(4), array(2), array(2), array(1), array(1), array(1), array(9), array(6), array(9), array(0), array(4), array(2), array(2), array(2), array(9), array(0), array(4), array(7), array(2), array(6), array(5), array(6), array(0), array(3), array(8), array(1), array(3), array(3), array(7), array(4), array(6), array(6), array(0), array(6), array(4), array(2), array(3), array(8), array(3), array(6), array(2), array(7), array(7), array(3), array(3), array(0), array(6), array(2), array(9), array(7), array(5), array(7), array(2), array(4), array(3), array(3), array(6), array(2), array(3), array(9), array(0), array(1), array(1), array(2), array(3), array(8), array(3), array(7), array(3), array(0), array(5), array(6), array(4), array(1), array(7), array(4), array(1), array(8), array(3), array(7), array(9), array(6), array(1), array(3), array(0), array(8), array(2), array(6), array(9), array(0), array(9), array(4), array(7), array(9), array(6), array(4), array(4), array(9), array(5), array(1), array(2), array(1), array(9), array(2), array(6), array(3), array(4), array(9), array(4), array(4), array(7), array(4), array(8), array(7), array(3), array(4), array(9), array(1), array(5), array(5), array(9), array(2), array(7), array(2), array(4), array(4), array(6), array(5), array(6), array(4), array(1), array(0), array(2), array(6), array(2), array(0), array(2), array(8), array(7), array(8), array(2), array(8), array(6), array(4), array(2), array(3), array(7), array(2), array(6), array(6), array(1), array(2), array(0), array(5), array(0), array(9), array(5), array(2), array(2), array(6), array(5), array(2), array(2), array(2), array(2), array(8), array(2), array(2), array(5), array(2), array(7), array(2), array(2), array(2), array(4), array(2), array(7), array(2), array(0), array(7), array(2), array(1), array(4), array(8), array(0), array(8), array(2), array(0), array(0), array(7), array(0), array(0), array(0), array(4), array(7), array(6), array(6), array(9), array(0), array(7), array(0), array(0), array(1), array(5), array(3), array(8), array(5), array(6), array(6), array(6), array(1), array(8), array(1), array(5), array(6), array(1), array(4), array(0), array(4), array(4), array(7), array(8), array(0), array(1), array(9), array(7), array(4), array(7), array(7), array(7), array(1), array(2), array(7), array(3), array(5), array(6), array(1), array(4), array(1), array(5), array(4), array(2), array(5), array(1), array(4), array(9), array(9), array(6), array(2), array(3), array(3), array(2), array(4), array(2), array(7), array(2), array(8), array(9), array(9), array(0), array(1), array(6), array(4), array(0), array(2), array(9), array(4), array(7), array(7), array(1), array(6), array(6), array(7), array(6), array(7), array(8), array(4), array(2), array(0), array(8), array(2), array(0), array(6), array(1), array(2), array(2), array(7), array(6), array(3), array(7), array(3), array(3), array(0), array(3), array(4), array(7), array(2), array(6), array(0), array(7), array(1), array(7), array(6), array(9), array(1), array(3), array(9), array(2), array(0), array(7), array(0), array(1), array(0), array(2), array(9), array(2), array(6), array(6), array(9), array(1), array(4), array(2), array(0), array(1), array(2), array(6), array(3), array(2), array(4), array(2), array(1), array(9), array(4), array(3), array(6), array(2), array(3), array(2), array(1), array(2), array(3), array(9), array(4), array(8), array(0), array(8), array(0), array(8), array(7), array(4), array(2), array(6), array(0), array(2), array(7), array(9), array(8), array(3), array(5), array(7), array(2), array(3), array(2), array(9), array(4), array(1), array(2), array(2), array(1), array(7), array(1), array(9), array(9), array(0), array(8), array(3), array(2), array(6), array(8), array(6), array(2), array(1), array(7), array(0), array(9), array(9), array(8), array(2), array(1), array(5), array(1), array(1), array(4), array(0), array(9), array(0), array(9), array(9), array(3), array(7), array(9), array(7), array(0), array(6), array(6), array(6), array(9), array(2), array(6), array(3), array(0), array(1), array(7), array(3), array(7), array(0), array(9), array(1), array(2), array(9), array(0), array(1), array(3), array(0), array(2), array(8), array(1), array(3), array(1), array(6), array(8), array(1), array(7), array(5), array(3), array(9), array(3), array(6), array(2), array(8), array(3), array(4), array(5), array(2), array(4), array(2), array(1), array(6), array(5), array(9), array(7), array(9), array(0), array(5), array(2), array(2), array(2), array(7), array(6), array(2), array(1), array(0), array(7), array(6), array(4), array(8), array(1), array(8), array(5), array(7), array(0), array(6), array(6), array(1), array(2), array(7), array(2), array(2), array(0), array(4), array(2), array(3), array(2), array(8), array(1), array(6), array(4), array(9), array(3), array(3), array(0), array(5), array(4), array(9), array(7), array(3), array(2), array(6), array(7), array(2), array(5), array(2), array(8), array(1), array(4), array(7), array(4), array(9), array(4), array(8), array(3), array(7), array(7), array(1), array(0), array(5), array(9), array(4), array(9), array(1), array(1), array(5), array(5), array(0), array(2), array(2), array(8), array(0), array(1), array(2), array(4), array(8), array(0), array(6), array(7), array(7), array(7), array(6), array(3), array(6), array(4), array(3), array(4), array(9), array(0), array(2), array(7), array(4), array(9), array(4), array(7), array(1), array(6), array(7), array(5), array(1), array(2), array(9), array(6), array(0), array(2), array(4), array(3), array(1), array(6), array(7), array(5), array(7), array(3), array(9), array(4), array(6), array(7), array(4), array(4), array(0), array(4), array(6), array(6), array(6), array(7), array(6), array(7), array(4), array(9), array(0), array(1), array(6), array(2), array(9), array(0), array(9), array(0), array(3), array(9), array(8), array(2), array(0), array(2), array(0), array(2), array(4), array(9), array(7), array(7), array(7), array(9), array(0), array(4), array(2), array(8), array(5), array(6), array(0), array(0), array(2), array(2), array(2), array(0), array(0), array(2), array(8), array(1), array(3), array(1), array(2), array(0), array(6), array(2), array(5), array(8), array(2), array(0), array(9), array(8), array(6), array(1), array(7), array(1), array(3), array(5), array(7), array(3), array(8), array(1), array(2), array(0), array(7), array(9), array(5), array(7), array(2), array(9), array(0), array(3), array(8), array(6), array(7), array(2), array(2), array(2), array(8), array(2), array(0), array(4), array(0), array(1), array(1), array(1), array(4), array(1), array(1), array(1), array(7), array(7), array(1), array(3), array(7), array(3), array(2), array(9), array(7), array(3), array(8), array(3), array(0), array(8), array(5), array(4), array(6), array(3), array(2), array(6), array(1), array(1), array(8), array(2), array(2), array(1), array(0), array(0), array(2), array(7), array(6), array(3), array(4), array(2), array(2), array(3), array(5), array(2), array(9), array(3), array(0), array(7), array(8), array(1), array(8), array(1), array(6), array(1), array(3), array(4), array(0), array(9), array(2), array(4), array(5), array(7), array(7), array(3), array(2), array(3), array(7), array(6), array(2), array(3), array(9), array(0), array(4), array(1), array(0), array(6), array(5), array(4), array(7), array(4), array(1), array(6), array(7), array(6), array(1), array(6), array(7), array(2), array(0), array(6), array(5), array(4), array(3), array(2), array(4), array(8), array(2), array(2), array(7), array(1), array(0), array(2), array(1), array(1), array(5), array(9), array(7), array(5), array(3), array(5), array(2), array(5), array(2), array(9), array(6), array(5), array(1), array(9), array(7), array(6), array(1), array(1), array(2), array(8), array(7), array(2), array(1), array(2), array(4), array(8), array(7), array(5), array(2), array(2), array(1), array(2), array(7), array(8), array(3), array(5), array(7), array(0), array(7), array(1), array(8), array(9), array(9), array(6), array(1), array(6), array(2), array(8), array(5), array(4), array(0), array(5), array(7), array(7), array(1), array(6), array(8), array(1), array(6), array(9), array(7), array(8), array(6), array(8), array(1), array(3), array(5), array(9), array(4), array(7), array(7), array(3), array(0), array(7), array(3), array(4), array(2), array(0), array(5), array(5), array(2), array(3), array(8), array(3), array(1), array(6), array(1), array(2), array(5), array(5), array(8), array(1), array(2), array(1), array(1), array(1), array(9), array(9), array(1), array(9), array(5), array(3), array(5), array(3), array(6), array(8), array(1), array(1), array(1), array(0), array(9), array(1), array(2), array(1), array(0), array(2), array(2), array(7), array(0), array(5), array(2), array(3), array(0), array(9), array(0), array(2), array(9), array(7), array(9), array(5), array(4), array(4), array(1), array(4), array(8), array(9), array(0), array(6), array(4), array(2), array(2), array(8), array(9), array(2), array(4), array(2), array(0), array(9), array(0), array(6), array(2), array(6), array(8), array(6), array(0), array(4), array(2), array(2), array(5), array(2), array(9), array(4), array(2), array(6), array(4), array(9), array(0), array(0), array(9), array(5), array(6), array(4), array(1), array(8), array(8), array(4), array(4), array(2), array(4), array(4), array(3), array(3), array(1), array(9), array(4), array(1), array(3), array(6), array(3), array(7), array(9), array(9), array(1), array(5), array(6), array(2), array(6), array(1), array(9), array(6), array(9), array(6), array(3), array(0), array(6), array(4), array(1), array(9), array(9), array(7), array(7), array(4), array(6), array(6), array(4), array(7), array(4), array(4), array(3), array(1), array(1), array(1), array(6), array(7), array(8), array(1), array(3), array(6), array(0), array(4), array(2), array(2), array(0), array(9), array(6), array(4), array(3), array(4), array(7), array(3), array(3), array(2), array(1), array(7), array(9), array(6), array(1), array(3), array(8), array(5), array(1), array(2), array(9), array(7), array(9), array(5), array(9), array(9), array(2), array(9), array(9), array(2), array(4), array(6), array(7), array(9), array(5), array(6), array(5), array(2), array(0), array(3), array(5), array(2), array(8), array(7), array(9), array(3), array(7), array(1), array(6), array(4), array(7), array(9), array(0), array(9), array(6), array(8), array(7), array(2), array(9), array(2), array(5), array(8), array(3), array(7), array(4), array(2), array(5), array(7), array(7), array(8), array(2), array(6), array(4), array(2), array(2), array(5), array(1), array(3), array(3), array(2), array(5), array(4), array(8), array(2), array(6), array(7), array(9), array(9), array(4), array(8), array(5), array(0), array(8), array(4), array(6), array(3), array(2), array(3), array(2), array(0), array(3), array(9), array(5), array(3), array(1), array(8), array(5), array(9), array(6), array(6), array(5), array(0), array(3), array(1), array(4), array(9), array(4), array(2), array(6), array(2), array(0), array(7), array(5), array(9), array(2), array(8), array(2), array(3), array(2), array(7), array(8), array(7), array(7), array(5), array(5), array(6), array(7), array(9), array(9), array(7), array(7), array(6), array(6), array(9), array(9), array(3), array(2), array(0), array(4), array(5), array(8), array(4), array(7), array(5), array(7), array(8), array(5), array(1), array(9), array(8), array(6), array(4), array(2), array(6), array(0), array(6), array(2), array(1), array(5), array(4), array(4), array(4), array(4), array(2), array(1), array(2), array(1), array(3), array(2), array(0), array(1), array(6), array(1), array(0), array(4), array(7), array(6), array(3), array(0), array(8), array(7), array(5), array(7), array(7), array(1), array(4), array(1), array(2), array(0), array(0), array(0), array(8), array(4), array(5), array(2), array(0), array(2), array(1), array(5), array(1), array(5), array(0), array(6), array(2), array(4), array(5), array(6), array(2), array(6), array(5), array(4), array(9), array(4), array(3), array(9), array(9), array(6), array(5), array(7), array(2), array(1), array(2), array(7), array(1), array(0), array(6), array(1), array(9), array(9), array(5), array(9), array(0), array(5), array(0), array(9), array(1), array(7), array(6), array(0), array(2), array(3), array(4), array(4), array(0), array(1), array(7), array(9), array(7), array(7), array(2), array(8), array(2), array(7), array(9), array(3), array(6), array(9), array(7), array(4), array(1), array(5), array(8), array(4), array(2), array(7), array(6), array(1), array(4), array(2), array(7), array(2), array(2), array(7), array(5), array(2), array(0), array(4), array(9), array(5), array(7), array(1), array(6), array(2), array(3), array(2), array(6), array(5), array(5), array(0), array(3), array(6), array(5), array(9), array(1), array(3), array(3), array(0), array(2), array(9), array(0), array(2), array(0), array(6), array(0), array(9), array(7), array(6), array(7), array(6), array(5), array(0), array(4), array(2), array(4), array(1), array(4), array(5), array(2), array(3), array(0), array(4), array(3), array(6), array(2), array(7), array(4), array(9), array(3), array(1), array(2), array(0), array(1), array(2), array(4), array(6), array(0), array(3), array(4), array(6), array(8), array(6), array(1), array(6), array(2), array(8), array(1), array(2), array(0), array(6), array(0), array(1), array(9), array(4), array(2), array(2), array(9), array(2), array(3), array(1), array(7), array(6), array(3), array(6), array(9), array(1), array(0), array(4), array(7), array(2), array(7), array(4), array(9), array(9), array(6), array(1), array(3), array(5), array(6), array(2), array(5), array(2), array(7), array(2), array(2), array(4), array(0), array(2), array(7), array(6), array(2), array(5), array(6), array(4), array(2), array(4), array(0), array(8), array(2), array(8), array(1), array(2), array(7), array(9), array(6), array(7), array(6), array(1), array(0), array(2), array(4), array(0), array(3), array(5), array(6), array(8), array(0), array(1), array(1), array(4), array(2), array(2), array(2), array(4), array(7), array(8), array(3), array(9), array(4), array(0), array(2), array(3), array(1), array(3), array(6), array(8), array(2), array(0), array(9), array(5), array(9), array(7), array(1), array(0), array(5), array(8), array(6), array(9), array(0), array(0), array(4), array(4), array(4), array(2), array(8), array(4), array(5), array(3), array(3), array(5), array(2), array(5), array(9), array(9), array(9), array(2), array(5), array(9), array(7), array(2), array(2), array(5), array(9), array(9), array(2), array(9), array(2), array(2), array(4), array(0), array(2), array(2), array(9), array(8), array(9), array(2), array(6), array(6), array(2), array(8), array(8), array(3), array(1), array(1), array(2), array(9), array(2), array(8), array(5), array(4), array(8), array(6), array(2), array(2), array(9), array(1), array(8), array(8), array(1), array(3), array(3), array(9), array(6), array(6), array(8), array(5), array(0), array(0), array(7), array(3), array(0), array(5), array(6), array(8), array(4), array(0), array(6), array(1), array(5), array(3), array(4), array(1), array(6), array(3), array(3), array(8), array(6), array(2), array(8), array(2), array(7), array(1), array(4), array(6), array(4), array(2), array(6), array(7), array(8), array(2), array(1), array(8), array(2), array(3), array(0), array(7), array(7), array(2), array(6), array(6), array(9), array(2), array(0), array(2), array(6), array(9), array(5), array(4), array(9), array(7), array(8), array(5), array(9), array(4), array(7), array(2), array(5), array(0), array(3), array(1), array(0), array(2), array(2), array(0), array(9), array(0), array(9), array(5), array(3), array(9), array(7), array(0), array(2), array(0), array(6), array(4), array(2), array(7), array(7), array(0), array(2), array(3), array(8), array(2), array(0), array(7), array(3), array(4), array(4), array(5), array(5), array(2), array(8), array(2), array(0), array(2), array(5), array(9), array(0), array(1), array(8), array(1), array(3), array(2), array(0), array(4), array(4), array(6), array(0), array(8), array(6), array(9), array(5), array(8), array(5), array(2), array(3), array(7), array(5), array(1), array(7), array(2), array(1), array(1), array(9), array(6), array(0), array(1), array(3), array(0), array(1), array(1), array(3), array(2), array(7), array(6), array(2), array(4), array(3), array(0), array(2), array(2), array(3), array(6), array(2), array(8), array(8), array(2), array(9), array(7), array(4), array(3), array(3), array(0), array(1), array(7), array(2), array(2), array(4), array(0), array(9), array(4), array(6), array(3), array(1), array(0), array(0), array(0), array(4), array(4), array(6), array(9), array(5), array(7), array(5), array(5), array(4), array(2), array(7), array(2), array(5), array(1), array(1), array(3), array(3), array(2), array(8), array(9), array(0), array(6), array(8), array(0), array(4), array(2), array(5), array(0), array(0), array(7), array(5), array(8), array(3), array(3), array(4), array(4), array(3), array(4), array(8), array(3), array(0), array(9), array(1), array(1), array(2), array(6), array(6), array(2), array(0), array(9), array(4), array(0), array(7), array(2), array(5), array(6), array(5), array(7), array(1), array(5), array(8), array(3), array(7), array(9), array(6), array(6), array(5), array(6), array(2), array(8), array(3), array(3), array(7), array(8), array(4), array(1), array(2), array(0), array(4), array(6), array(3), array(9), array(3), array(8), array(7), array(7), array(7), array(4), array(4), array(8), array(1), array(6), array(8), array(5), array(0), array(2), array(3), array(6), array(6), array(9), array(1), array(9), array(4), array(3), array(2), array(5), array(1), array(9), array(2), array(6), array(4), array(9), array(1), array(0), array(3), array(6), array(5), array(0), array(9), array(2), array(2), array(7), array(8), array(6), array(2), array(5), array(6), array(1), array(5), array(9), array(3), array(9), array(8), array(9), array(2), array(6), array(6), array(5), array(2), array(3), array(9), array(3), array(7), array(2), array(7), array(7), array(8), array(9), array(2), array(9), array(5), array(2), array(1), array(5), array(6), array(0), array(2), array(9), array(9), array(6), array(6), array(6), array(0), array(3), array(7), array(1), array(0), array(8), array(4), array(9), array(3), array(0), array(8), array(6), array(8), array(1), array(2), array(9), array(2), array(1), array(7), array(7), array(2), array(3), array(5), array(3), array(6), array(0), array(6), array(2), array(0), array(9), array(6), array(2), array(1), array(5), array(0), array(3), array(7), array(4), array(0), array(6), array(2), array(1), array(3), array(9), array(3), array(9), array(5), array(7), array(2), array(1), array(1), array(5), array(6), array(5), array(7), array(1), array(5), array(9), array(9), array(7), array(7), array(2), array(0), array(2), array(0), array(2), array(8), array(8), array(5), array(8), array(0), array(8), array(2), array(6), array(2), array(4), array(1), array(1), array(7), array(3), array(5), array(9), array(3), array(2), array(0), array(7), array(5), array(0), array(0), array(5), array(8), array(1), array(1), array(8), array(7), array(0), array(1), array(7), array(7), array(9), array(1), array(5), array(4), array(5), array(3), array(4), array(9), array(2), array(6), array(1), array(6), array(8), array(2), array(0), array(2), array(1), array(9), array(9), array(3), array(8), array(2), array(6), array(9), array(0), array(5), array(9), array(4), array(2), array(6), array(4), array(7), array(7), array(6), array(5), array(9), array(2), array(7), array(0), array(2), array(2), array(0), array(2), array(9), array(1), array(8), array(1), array(4), array(4), array(5), array(5), array(2), array(7), array(6), array(2), array(3), array(7), array(2), array(2), array(5), array(8), array(8), array(7), array(7), array(5), array(0), array(1), array(4), array(2), array(3), array(6), array(0), array(2), array(2), array(0), array(7), array(6), array(8), array(1), array(1), array(0), array(0), array(6), array(4), array(6), array(7), array(1), array(3), array(2), array(5), array(9), array(7), array(9), array(7), array(5), array(6), array(4), array(3), array(0), array(4), array(2), array(4), array(2), array(0), array(6), array(5), array(0), array(9), array(2), array(9), array(4), array(7), array(4), array(5), array(8), array(1), array(4), array(2), array(4), array(2), array(3), array(2), array(1), array(2), array(5), array(1), array(8), array(3), array(0), array(1), array(9), array(7), array(4), array(5), array(2), array(8), array(2), array(1), array(5), array(7), array(3), array(2), array(5), array(5), array(2), array(3), array(6), array(3), array(6), array(0), array(5), array(3), array(0), array(7), array(2), array(5), array(2), array(1), array(5), array(2), array(1), array(3), array(1), array(2), array(4), array(9), array(2), array(1), array(3), array(2), array(9), array(2), array(8), array(5), array(7), array(4), array(1), array(1), array(6), array(1), array(5), array(2), array(1), array(1), array(4), array(9), array(4), array(9), array(2), array(0), array(1), array(2), array(7), array(4), array(3), array(1), array(9), array(2), array(2), array(2), array(6), array(5), array(5), array(7), array(1), array(2), array(2), array(2), array(0), array(2), array(2), array(4), array(1), array(9), array(6), array(8), array(8), array(1), array(9), array(5), array(3), array(8), array(0), array(2), array(7), array(2), array(2), array(5), array(4), array(4), array(0), array(3), array(7), array(4), array(1), array(8), array(9), array(7), array(0), array(4), array(4), array(3), array(3), array(8), array(4), array(1), array(7), array(1), array(9), array(2), array(7), array(3), array(2), array(7), array(4), array(2), array(8), array(1), array(4), array(5), array(2), array(3), array(2), array(2), array(9), array(9), array(8), array(4), array(4), array(6), array(4), array(4), array(4), array(4), array(3), array(4), array(5), array(9), array(4), array(0), array(3), array(2), array(0), array(2), array(2), array(6), array(1), array(9), array(2), array(5), array(5), array(9), array(4), array(6), array(2), array(6), array(7), array(0), array(3), array(1), array(4), array(5), array(2), array(0), array(4), array(0), array(9), array(3), array(5), array(4), array(8), array(3), array(3), array(2), array(2), array(5), array(7), array(2), array(3), array(0), array(5), array(2), array(1), array(9), array(4), array(2), array(2), array(3), array(7), array(1), array(5), array(9), array(0), array(2), array(6), array(4), array(1), array(3), array(4), array(8), array(4), array(6), array(4), array(4), array(1), array(6), array(6), array(0), array(0), array(2), array(2), array(3), array(2), array(3), array(6), array(9), array(2), array(9), array(5), array(1), array(2), array(7), array(9), array(7), array(5), array(4), array(3), array(0), array(6), array(9), array(4), array(6), array(2), array(9), array(9), array(3), array(1), array(4), array(6), array(6), array(9), array(7), array(8), array(5), array(3), array(1), array(2), array(2), array(8), array(2), array(7), array(6), array(4), array(7), array(2), array(4), array(1), array(0), array(3), array(7), array(1), array(8), array(4), array(0), array(0), array(2), array(6), array(0), array(9), array(5), array(9), array(2), array(5), array(6), array(7), array(8), array(6), array(0), array(0), array(6), array(1), array(2), array(4), array(7), array(6), array(7), array(8), array(4), array(1), array(4), array(8), array(1), array(7), array(5), array(0), array(7), array(8), array(7), array(4), array(0), array(6), array(6), array(3), array(8), array(7), array(7), array(8), array(6), array(4), array(4), array(2), array(4), array(2), array(9), array(1), array(7), array(9), array(8), array(6), array(4), array(3), array(7), array(3), array(6), array(2), array(0), array(3), array(4), array(8), array(1), array(4), array(1), array(3), array(2), array(2), array(9), array(8), array(2), array(5), array(1), array(1), array(6), array(9), array(4), array(7), array(2), array(3), array(5), array(1), array(6), array(0), array(9), array(3), array(8), array(8), array(7), array(9), array(6), array(3), array(3), array(3), array(6), array(4), array(6), array(2), array(8), array(9), array(8), array(6), array(4), array(0), array(5), array(9), array(7), array(6), array(9), array(3), array(2), array(5), array(4), array(1), array(1), array(2), array(6), array(7), array(9), array(4), array(9), array(4), array(4), array(0), array(2), array(8), array(4), array(9), array(7), array(4), array(3), array(9), array(1), array(7), array(6), array(2), array(9), array(3), array(3), array(4), array(5), array(4), array(0), array(7), array(7), array(3), array(6), array(1), array(1), array(3), array(8), array(4), array(3), array(2), array(5), array(1), array(2), array(6), array(5), array(9), array(4), array(7), array(6), array(2), array(1), array(3), array(0), array(8), array(2), array(2), array(9), array(7), array(8), array(0), array(1), array(2), array(8), array(9), array(7), array(5), array(7), array(8), array(1), array(7), array(0), array(1), array(8), array(2), array(6), array(9), array(7), array(3), array(7), array(6), array(3), array(9), array(2), array(5), array(4), array(2), array(7), array(2), array(6), array(2), array(3), array(1), array(1), array(8), array(5), array(4), array(3), array(0), array(7), array(1), array(2), array(9), array(5), array(0), array(4), array(4), array(3), array(5), array(3), array(0), array(7), array(6), array(0), array(0), array(9), array(5), array(7), array(1), array(7), array(3), array(0), array(4), array(4), array(6), array(4), array(7), array(7), array(2), array(6), array(9), array(2), array(8), array(8), array(3), array(6), array(6), array(5), array(5), array(6), array(8), array(0), array(1), array(2), array(5), array(1), array(2), array(9), array(1), array(0), array(3), array(9), array(7), array(2), array(2), array(1), array(2), array(3), array(9), array(5), array(6), array(8), array(8), array(9), array(4), array(4), array(9), array(2), array(3), array(3), array(2), array(1), array(6), array(8), array(1), array(4), array(3), array(6), array(6), array(2), array(1), array(6), array(9), array(2), array(2), array(2), array(6), array(5), array(3), array(2), array(5), array(7), array(8), array(7), array(6), array(8), array(3), array(3), array(5), array(9), array(9), array(4), array(6), array(0), array(3), array(3), array(2), array(9), array(6), array(8), array(3), array(8), array(0), array(1), array(0), array(5), array(1), array(9), array(7), array(2), array(2), array(3), array(4), array(2), array(4), array(7), array(2), array(3), array(6), array(0), array(4), array(6), array(7), array(4), array(2), array(5), array(4), array(0), array(6), array(2), array(2), array(7), array(6), array(2), array(1), array(2), array(2), array(9), array(1), array(0), array(4), array(2), array(5), array(2), array(2), array(3), array(0), array(0), array(1), array(0), array(6), array(5), array(7), array(5), array(4), array(7), array(1), array(2), array(3), array(0), array(9), array(6), array(9), array(4), array(6), array(1), array(6), array(7), array(9), array(7), array(4), array(3), array(7), array(8), array(9), array(8), array(1), array(9), array(0), array(1), array(6), array(1), array(5), array(1), array(8), array(1), array(1), array(3), array(3), array(0), array(2), array(6), array(1), array(9), array(8), array(9), array(9), array(9), array(9), array(6), array(1), array(2), array(9), array(8), array(9), array(4), array(7), array(0), array(4), array(9), array(6), array(2), array(9), array(5), array(0), array(2), array(5), array(2), array(2), array(8), array(7), array(4), array(2), array(8), array(2), array(1), array(6), array(4), array(8), array(2), array(4), array(8), array(1), array(2), array(2), array(5), array(5), array(3), array(0), array(2), array(3), array(5), array(7), array(1), array(7), array(0), array(0), array(5), array(3), array(6), array(5), array(5), array(0), array(4), array(2), array(6), array(2), array(2), array(1), array(4), array(0), array(1), array(2), array(4), array(1), array(2), array(8), array(2), array(0), array(7), array(6), array(9), array(2), array(7), array(5), array(0), array(5), array(6), array(1), array(9), array(3), array(0), array(6), array(2), array(2), array(0), array(4), array(7), array(7), array(5), array(0), array(5), array(1), array(8), array(5), array(4), array(7), array(0), array(9), array(6), array(2), array(0), array(1), array(9), array(8), array(8), array(1), array(3), array(3), array(6), array(4), array(1), array(5), array(5), array(6), array(2), array(8), array(7), array(6), array(9), array(7), array(4), array(1), array(8), array(2), array(1), array(0), array(7), array(9), array(0), array(4), array(2), array(7), array(3), array(9), array(9), array(4), array(2), array(1), array(0), array(5), array(7), array(2), array(2), array(4), array(8), array(4), array(8), array(4), array(2), array(2), array(6), array(8), array(1), array(7), array(4), array(5), array(6), array(2), array(8), array(0), array(5), array(3), array(1), array(3), array(6), array(7), array(8), array(7), array(1), array(5), array(1), array(8), array(2), array(2), array(3), array(6), array(3), array(3), array(4), array(6), array(1), array(9), array(0), array(5), array(2), array(8), array(6), array(4), array(5), array(9), array(9), array(6), array(3), array(2), array(2), array(0), array(3), array(7), array(2), array(3), array(4), array(5), array(3), array(0), array(7), array(2), array(7), array(9), array(4), array(3), array(7), array(4), array(8), array(3), array(3), array(3), array(4), array(1), array(1), array(7), array(1), array(4), array(7), array(4), array(1), array(7), array(4), array(2), array(2), array(0), array(6), array(2), array(7), array(9), array(4), array(3), array(7), array(4), array(7), array(6), array(5), array(2), array(7), array(1), array(8), array(9), array(3), array(5), array(7), array(8), array(3), array(2), array(3), array(7), array(2), array(9), array(1), array(9), array(3), array(3), array(5), array(8), array(6), array(7), array(2), array(8), array(9), array(4), array(1), array(5), array(7), array(9), array(6), array(2), array(9), array(0), array(2), array(9), array(4), array(5), array(2), array(1), array(8), array(9), array(3), array(4), array(1), array(7), array(7), array(9), array(9), array(5), array(6), array(5), array(0), array(3), array(2), array(7), array(1), array(9), array(4), array(6), array(2), array(8), array(7), array(9), array(2), array(6), array(4), array(3), array(3), array(4), array(6), array(2), array(5), array(7), array(4), array(0), array(3), array(0), array(7), array(7), array(6), array(7), array(7), array(4), array(0), array(4), array(7), array(4), array(5), array(5), array(4), array(8), array(2), array(0), array(9), array(8), array(3), array(1), array(3), array(8), array(5), array(0), array(9), array(5), array(3), array(7), array(6), array(7), array(8), array(7), array(0), array(7), array(2), array(1), array(2), array(9), array(2), array(2), array(2), array(2), array(5), array(5), array(4), array(9), array(9), array(9), array(1), array(1), array(6), array(2), array(1), array(7), array(3), array(2), array(9), array(0), array(5), array(0), array(7), array(2), array(2), array(6), array(8), array(3), array(4), array(5), array(6), array(1), array(2), array(2), array(7), array(2), array(2), array(2), array(1), array(9), array(7), array(6), array(7), array(6), array(5), array(3), array(9), array(6), array(3), array(0), array(9), array(3), array(0), array(7), array(2), array(8), array(0), array(1), array(3), array(4), array(0), array(2), array(1), array(5), array(7), array(1), array(8), array(6), array(7), array(8), array(5), array(9), array(7), array(6), array(0), array(1), array(4), array(5), array(1), array(4), array(2), array(7), array(2), array(4), array(6), array(3), array(9), array(7), array(1), array(3), array(3), array(7), array(4), array(4), array(2), array(0), array(8), array(5), array(5), array(9), array(5), array(9), array(6), array(7), array(4), array(8), array(3), array(6), array(8), array(7), array(2), array(9), array(6), array(4), array(0), array(6), array(7), array(2), array(4), array(9), array(4), array(7), array(8), array(5), array(7), array(2), array(7), array(8), array(7), array(0), array(1), array(0), array(4), array(5), array(2), array(0), array(0), array(1), array(4), array(5), array(6), array(2), array(2), array(2), array(3), array(9), array(9), array(4), array(5), array(0), array(2), array(7), array(2), array(3), array(9), array(7), array(2), array(6), array(5), array(0), array(5), array(2), array(9), array(2), array(2), array(9), array(3), array(5), array(0), array(8), array(2), array(6), array(7), array(8), array(0), array(9), array(4), array(2), array(9), array(2), array(6), array(1), array(4), array(6), array(2), array(7), array(0), array(5), array(2), array(0), array(1), array(6), array(1), array(0), array(2), array(2), array(2), array(2), array(3), array(2), array(9), array(3), array(2), array(9), array(9), array(5), array(1), array(4), array(5), array(3), array(1), array(2), array(1), array(8), array(5), array(2), array(2), array(5), array(2), array(3), array(3), array(9), array(0), array(2), array(1), array(6), array(5), array(2), array(6), array(2), array(2), array(0), array(1), array(5), array(2), array(5), array(7), array(2), array(5), array(9), array(3), array(6), array(9), array(2), array(2), array(3), array(3), array(4), array(2), array(0), array(2), array(2), array(8), array(6), array(0), array(3), array(6), array(3), array(3), array(1), array(0), array(2), array(2), array(7), array(7), array(2), array(1), array(2), array(9), array(2), array(4), array(7), array(2), array(3), array(5), array(0), array(4), array(2), array(3), array(9), array(3), array(8), array(2), array(6), array(9), array(1), array(9), array(1), array(2), array(9), array(9), array(7), array(9), array(8), array(4), array(1), array(1), array(3), array(7), array(2), array(6), array(3), array(3), array(2), array(9), array(4), array(4), array(0), array(6), array(5), array(1), array(2), array(0), array(6), array(6), array(2), array(4), array(6), array(6), array(6), array(0), array(0), array(2), array(5), array(1), array(3), array(0), array(3), array(5), array(9), array(3), array(4), array(7), array(5), array(3), array(2), array(7), array(5), array(8), array(3), array(0), array(9), array(1), array(6), array(9), array(7), array(5), array(9), array(7), array(3), array(1), array(0), array(2), array(2), array(7), array(2), array(4), array(2), array(8), array(1), array(4), array(4), array(9), array(7), array(3), array(2), array(2), array(1), array(2), array(1), array(8), array(4), array(5), array(0), array(9), array(1), array(2), array(4), array(2), array(6), array(5), array(2), array(7), array(0), array(3), array(9), array(3), array(6), array(7), array(4), array(5), array(7), array(4), array(7), array(1), array(9), array(6), array(2), array(6), array(7), array(4), array(2), array(0), array(1), array(2), array(2), array(2), array(9), array(6), array(6), array(2), array(4), array(7), array(1), array(8), array(2), array(7), array(8), array(1), array(3), array(3), array(7), array(4), array(2), array(2), array(8), array(3), array(9), array(2), array(0), array(5), array(5), array(7), array(5), array(0), array(6), array(1), array(0), array(2), array(5), array(1), array(9), array(4), array(9), array(4), array(7), array(1), array(5), array(2), array(1), array(6), array(6), array(1), array(0), array(2), array(7), array(9), array(2), array(7), array(5), array(4), array(3), array(5), array(8), array(0), array(7), array(9), array(4), array(6), array(6), array(2), array(1), array(6), array(2), array(1), array(3), array(0), array(9), array(7), array(4), array(8), array(6), array(6), array(9), array(6), array(2), array(8), array(9), array(5), array(0), array(2), array(9), array(7), array(7), array(1), array(7), array(2), array(2), array(5), array(8), array(7), array(9), array(9), array(1), array(3), array(4), array(8), array(0), array(7), array(2), array(3), array(8), array(2), array(4), array(1), array(3), array(1), array(8), array(0), array(9), array(4), array(1), array(9), array(3), array(4), array(7), array(2), array(8), array(6), array(3), array(2), array(7), array(7), array(8), array(6), array(2), array(5), array(3), array(4), array(1), array(8), array(0), array(7), array(4), array(1), array(3), array(1), array(1), array(1), array(6), array(9), array(4), array(7), array(8), array(8), array(1), array(2), array(4), array(8), array(5), array(6), array(3), array(6), array(4), array(3), array(2), array(5), array(3), array(4), array(9), array(2), array(7), array(3), array(8), array(9), array(0), array(5), array(3), array(0), array(5), array(1), array(5), array(0), array(9), array(2), array(1), array(4), array(2), array(7), array(1), array(7), array(0), array(4), array(2), array(8), array(6), array(1), array(1), array(7), array(0), array(9), array(2), array(5), array(4), array(5), array(4), array(6), array(3), array(3), array(7), array(3), array(0), array(1), array(9), array(5), array(2), array(5), array(7), array(9), array(2), array(6), array(6), array(0), array(7), array(6), array(9), array(5), array(3), array(8), array(3), array(2), array(9), array(9), array(2), array(9), array(3), array(2), array(4), array(6), array(4), array(2), array(7), array(0), array(3), array(8), array(5), array(2), array(2), array(3), array(2), array(9), array(1), array(2), array(4), array(1), array(0), array(0), array(2), array(1), array(4), array(1), array(0), array(4), array(9), array(7), array(7), array(0), array(1), array(7), array(8), array(8), array(2), array(6), array(9), array(8), array(3), array(0), array(7), array(2), array(2), array(8), array(6), array(1), array(2), array(3), array(7), array(4), array(3), array(4), array(2), array(0), array(1), array(0), array(1), array(4), array(3), array(8), array(7), array(7), array(5), array(6), array(0), array(2), array(3), array(4), array(4), array(8), array(5), array(4), array(8), array(9), array(3), array(9), array(7), array(8), array(3), array(2), array(2), array(0), array(4), array(9), array(4), array(0), array(1), array(5), array(2), array(4), array(3), array(1), array(2), array(7), array(4), array(6), array(3), array(3), array(8), array(5), array(6), array(0), array(6), array(2), array(8), array(0), array(3), array(2), array(3), array(2), array(6), array(9), array(3), array(9), array(8), array(4), array(8), array(6), array(0), array(2), array(6), array(2), array(1), array(2), array(6), array(7), array(7), array(5), array(8), array(0), array(0), array(6), array(2), array(1), array(7), array(0), array(6), array(6), array(2), array(2), array(9), array(4), array(6), array(0), array(3), array(7), array(4), array(0), array(3), array(4), array(1), array(4), array(3), array(4), array(0), array(5), array(5), array(2), array(4), array(2), array(7), array(8), array(1), array(2), array(2), array(9), array(7), array(5), array(4), array(4), array(3), array(1), array(2), array(8), array(7), array(9), array(8), array(3), array(6), array(9), array(5), array(5), array(9), array(1), array(1), array(3), array(0), array(5), array(6), array(8), array(1), array(4), array(4), array(6), array(9), array(6), array(1), array(9), array(2), array(7), array(5), array(0), array(7), array(0), array(1), array(6), array(7), array(8), array(6), array(3), array(9), array(4), array(8), array(2), array(2), array(6), array(2), array(7), array(2), array(5), array(7), array(8), array(7), array(0), array(6), array(1), array(9), array(5), array(6), array(6), array(3), array(4), array(6), array(4), array(0), array(3), array(0), array(6), array(7), array(6), array(7), array(5), array(5), array(6), array(2), array(9), array(6), array(8), array(1), array(2), array(8), array(9), array(9), array(4), array(0), array(3), array(3), array(0), array(4), array(7), array(3), array(0), array(6), array(8), array(8), array(2), array(2), array(9), array(3), array(1), array(1), array(5), array(7), array(3), array(4), array(8), array(2), array(7), array(2), array(9), array(0), array(0), array(3), array(0), array(5), array(8), array(6), array(2), array(9), array(8), array(3), array(7), array(1), array(6), array(5), array(9), array(0), array(3), array(0), array(2), array(0), array(4), array(4), array(5), array(2), array(4), array(2), array(6), array(2), array(7), array(5), array(5), array(8), array(2), array(9), array(3), array(4), array(0), array(9), array(7), array(5), array(1), array(7), array(3), array(5), array(6), array(0), array(2), array(2), array(3), array(6), array(4), array(2), array(1), array(1), array(4), array(4), array(7), array(4), array(8), array(6), array(9), array(4), array(4), array(6), array(3), array(9), array(6), array(4), array(6), array(1), array(1), array(4), array(5), array(3), array(7), array(2), array(1), array(5), array(5), array(2), array(6), array(7), array(2), array(6), array(3), array(3), array(9), array(0), array(2), array(5), array(9), array(9), array(7), array(9), array(5), array(6), array(9), array(7), array(9), array(0), array(1), array(3), array(2), array(2), array(5), array(2), array(3), array(4), array(1), array(2), array(9), array(2), array(5), array(5), array(1), array(2), array(1), array(4), array(6), array(1), array(0), array(7), array(4), array(7), array(8), array(4), array(5), array(7), array(0), array(3), array(6), array(7), array(3), array(4), array(3), array(6), array(9), array(7), array(6), array(7), array(9), array(3), array(2), array(0), array(8), array(9), array(2), array(6), array(1), array(3), array(9), array(5), array(0), array(3), array(1), array(7), array(8), array(5), array(8), array(3), array(2), array(6), array(1), array(9), array(9), array(4), array(0), array(5), array(8), array(1), array(8), array(7), array(0), array(6), array(6), array(4), array(9), array(4), array(5), array(8), array(3), array(1), array(7), array(9), array(2), array(2), array(7), array(7), array(9), array(6), array(8), array(1), array(5), array(6), array(8), array(1), array(5), array(6), array(8), array(6), array(7), array(2), array(5), array(4), array(0), array(4), array(3), array(7), array(8), array(6), array(4), array(2), array(1), array(1), array(1), array(9), array(6), array(2), array(8), array(3), array(2), array(0), array(9), array(8), array(2), array(5), array(6), array(6), array(2), array(3), array(2), array(9), array(9), array(4), array(2), array(7), array(2), array(2), array(7), array(3), array(7), array(4), array(1), array(8), array(7), array(5), array(9), array(9), array(2), array(5), array(0), array(9), array(0), array(5), array(9), array(3), array(7), array(9), array(2), array(0), array(7), array(9), array(3), array(2), array(0), array(6), array(2), array(2), array(2), array(7), array(4), array(2), array(7), array(1), array(6), array(7), array(2), array(1), array(2), array(7), array(0), array(2), array(0), array(8), array(9), array(3), array(2), array(5), array(8), array(8), array(6), array(4), array(5), array(9), array(3), array(4), array(2), array(9), array(2), array(4), array(5), array(5), array(7), array(6), array(8), array(9), array(2), array(9), array(7), array(2), array(6), array(1), array(9), array(2), array(1), array(9), array(6), array(3), array(9), array(2), array(0), array(9), array(4), array(2), array(7), array(2), array(6), array(5), array(1), array(2), array(4), array(3), array(1), array(2), array(6), array(9), array(4), array(8), array(5), array(8), array(4), array(1), array(6), array(1), array(7), array(1), array(2), array(3), array(9), array(4), array(3), array(3), array(5), array(6), array(6), array(2), array(1), array(6), array(9), array(3), array(5), array(3), array(7), array(4), array(8), array(6), array(4), array(2), array(9), array(2), array(7), array(9), array(7), array(6), array(6), array(0), array(2), array(6), array(9), array(9), array(0), array(3), array(8), array(2), array(5), array(8), array(5), array(7), array(3), array(4), array(9), array(3), array(2), array(6), array(0), array(8), array(9), array(9), array(2), array(4), array(3), array(1), array(4), array(8), array(2), array(9), array(8), array(5), array(3), array(4), array(4), array(2), array(1), array(2), array(2), array(8), array(8), array(2), array(0), array(5), array(3), array(8), array(5), array(3), array(3), array(4), array(3), array(2), array(8), array(1), array(0), array(4), array(2), array(3), array(6), array(5), array(5), array(4), array(9), array(5), array(9), array(3), array(3), array(9), array(3), array(2), array(2), array(9), array(1), array(2), array(0), array(2), array(7), array(2), array(0), array(4), array(9), array(2), array(0), array(1), array(0), array(5), array(2), array(7), array(8), array(6), array(8), array(5), array(7), array(0), array(5), array(4), array(7), array(0), array(9), array(1), array(2), array(9), array(6), array(6), array(4), array(1), array(6), array(7), array(9), array(6), array(3), array(9), array(5), array(0), array(5), array(0), array(6), array(7), array(0), array(2), array(5), array(2), array(2), array(7), array(5), array(6), array(8), array(2), array(6), array(4), array(6), array(9), array(4), array(1), array(3), array(2), array(2), array(1), array(2), array(1), array(9), array(6), array(8), array(5), array(2), array(5), array(5), array(8), array(2), array(4), array(2), array(2), array(7), array(0), array(9), array(1), array(3), array(7), array(1), array(0), array(6), array(3), array(6), array(6), array(8), array(0), array(5), array(3), array(7), array(6), array(5), array(7), array(7), array(0), array(2), array(2), array(0), array(8), array(3), array(7), array(2), array(0), array(3), array(4), array(7), array(9), array(3), array(6), array(5), array(8), array(2), array(6), array(7), array(0), array(0), array(2), array(2), array(6), array(3), array(0), array(5), array(2), array(4), array(4), array(6), array(8), array(0), array(1), array(6), array(3), array(1), array(3), array(9), array(1), array(1), array(0), array(7), array(7), array(1), array(2), array(7), array(0), array(6), array(4), array(9), array(6), array(4), array(4), array(5), array(3), array(1), array(6), array(5), array(8), array(2), array(9), array(5), array(2), array(1), array(4), array(5), array(9), array(0), array(2), array(2), array(2), array(3), array(7), array(6), array(8), array(9), array(0), array(4), array(0), array(0), array(3), array(9), array(3), array(7), array(5), array(7), array(0), array(8), array(3), array(2), array(1), array(2), array(4), array(2), array(1), array(8), array(1), array(1), array(5), array(2), array(3), array(9), array(2), array(5), array(1), array(5), array(4), array(6), array(8), array(9), array(2), array(7), array(2), array(0), array(1), array(9), array(9), array(2), array(2), array(5), array(9), array(5), array(4), array(9), array(9), array(7), array(2), array(5), array(7), array(9), array(2), array(2), array(4), array(2), array(6), array(9), array(2), array(2), array(9), array(1), array(9), array(4), array(7), array(4), array(2), array(8), array(4), array(2), array(4), array(1), array(6), array(3), array(7), array(5), array(9), array(7), array(5), array(2), array(3), array(4), array(6), array(3), array(9), array(3), array(9), array(5), array(2), array(2), array(1), array(2), array(6), array(9), array(9), array(2), array(6), array(9), array(6), array(7), array(4), array(1), array(1), array(5), array(3), array(5), array(7), array(4), array(7), array(0), array(7), array(2), array(5), array(3), array(5), array(6), array(6), array(5), array(8), array(2), array(7), array(2), array(9), array(1), array(0), array(0), array(6), array(2), array(7), array(4), array(5), array(6), array(3), array(4), array(5), array(3), array(5), array(6), array(0), array(0), array(2), array(7), array(7), array(3), array(2), array(3), array(5), array(9), array(4), array(7), array(6), array(0), array(3), array(7), array(9), array(1), array(3), array(0), array(2), array(2), array(2), array(2), array(3), array(6), array(2), array(1), array(2), array(6), array(9), array(2), array(9), array(5), array(2), array(4), array(9), array(6), array(3), array(3), array(3), array(4), array(2), array(9), array(2), array(9), array(0), array(0), array(4), array(3), array(8), array(7), array(2), array(6), array(7), array(7), array(2), array(3), array(4), array(8), array(2), array(7), array(9), array(5), array(1), array(3), array(4), array(6), array(9), array(0), array(9), array(1), array(9), array(7), array(9), array(1), array(7), array(3), array(5), array(2), array(8), array(9), array(0), array(0), array(7), array(1), array(2), array(0), array(6), array(3), array(4), array(2), array(6), array(4), array(4), array(8), array(2), array(3), array(5), array(6), array(6), array(2), array(6), array(0), array(2), array(0), array(4), array(4), array(2), array(9), array(7), array(4), array(6), array(3), array(9), array(4), array(8), array(2), array(9), array(7), array(0), array(8), array(5), array(9), array(7), array(6), array(7), array(0), array(2), array(4), array(4), array(4), array(7), array(0), array(3), array(9), array(2), array(2), array(4), array(6), array(5), array(0), array(5), array(2), array(6), array(9), array(9), array(0), array(9), array(9), array(7), array(2), array(0), array(7), array(2), array(2), array(2), array(1), array(2), array(2), array(5), array(2), array(2), array(2), array(7), array(4), array(2), array(8), array(5), array(5), array(7), array(4), array(6), array(7), array(3), array(3), array(7), array(2), array(6), array(8), array(0), array(2), array(2), array(4), array(2), array(0), array(1), array(9), array(7), array(9), array(8), array(4), array(3), array(5), array(4), array(5), array(1), array(6), array(8), array(1), array(2), array(4), array(4), array(6), array(4), array(8), array(9), array(0), array(7), array(9), array(6), array(9), array(2), array(3), array(3), array(2), array(1), array(9), array(8), array(7), array(5), array(6), array(7), array(2), array(9), array(2), array(9), array(4), array(2), array(9), array(2), array(5), array(8), array(6), array(3), array(3), array(1), array(5), array(9), array(1), array(2), array(2), array(7), array(6), array(0), array(9), array(9), array(2), array(1), array(0), array(6), array(4), array(9), array(3), array(0), array(8), array(5), array(5), array(6), array(3), array(2), array(3), array(0), array(3), array(2), array(3), array(0), array(8), array(1), array(5), array(6), array(4), array(3), array(0), array(3), array(1), array(2), array(2), array(6), array(5), array(9), array(4), array(5), array(5), array(2), array(8), array(9), array(3), array(2), array(6), array(5), array(0), array(5), array(0), array(7), array(5), array(9), array(8), array(2), array(8), array(9), array(5), array(2), array(1), array(1), array(7), array(6), array(5), array(2), array(8), array(4), array(9), array(6), array(4), array(6), array(5), array(9), array(7), array(7), array(6), array(2), array(4), array(9), array(2), array(5), array(9), array(1), array(9), array(7), array(1), array(5), array(8), array(9), array(6), array(5), array(0), array(3), array(2), array(6), array(0), array(3), array(7), array(6), array(9), array(8), array(8), array(7), array(9), array(7), array(9), array(7), array(6), array(0), array(6), array(9), array(9), array(7), array(1), array(7), array(6), array(5), array(2), array(9), array(8), array(3), array(7), array(5), array(1), array(1), array(4), array(5), array(2), array(6), array(1), array(2), array(6), array(7), array(8), array(8), array(7), array(1), array(9), array(8), array(5), array(3), array(1), array(1), array(5), array(4), array(3), array(3), array(6), array(2), array(3), array(6), array(0), array(7), array(3), array(6), array(2), array(0), array(6), array(2), array(3), array(6), array(2), array(0), array(7), array(5), array(3), array(2), array(0), array(0), array(2), array(4), array(8), array(5), array(6), array(3), array(1), array(2), array(7), array(9), array(6), array(7), array(0), array(9), array(1), array(5), array(6), array(7), array(6), array(1), array(7), array(2), array(7), array(3), array(2), array(2), array(5), array(5), array(7), array(9), array(2), array(3), array(7), array(4), array(5), array(5), array(9), array(0), array(2), array(3), array(6), array(3), array(5), array(5), array(2), array(0), array(0), array(0), array(6), array(5), array(2), array(7), array(6), array(3), array(6), array(6), array(3), array(3), array(9), array(6), array(2), array(9), array(4), array(0), array(3), array(8), array(7), array(9), array(5), array(4), array(0), array(8), array(9), array(2), array(2), array(2), array(2), array(2), array(2), array(6), array(3), array(5), array(5), array(1), array(9), array(6), array(0), array(6), array(9), array(6), array(3), array(3), array(3), array(3), array(0), array(6), array(2), array(2), array(0), array(8), array(6), array(2), array(9), array(5), array(1), array(7), array(7), array(1), array(8), array(9), array(7), array(2), array(1), array(9), array(3), array(7), array(4), array(5), array(9), array(3), array(0), array(6), array(8), array(6), array(1), array(9), array(5), array(2), array(2), array(2), array(2), array(7), array(7), array(4), array(7), array(3), array(5), array(1), array(9), array(9), array(2), array(4), array(1), array(6), array(0), array(0), array(2), array(4), array(2), array(0), array(6), array(1), array(8), array(2), array(3), array(4), array(5), array(6), array(2), array(9), array(6), array(9), array(8), array(3), array(9), array(1), array(9), array(4), array(3), array(3), array(9), array(0), array(2), array(2), array(4), array(9), array(2), array(9), array(9), array(8), array(0), array(6), array(8), array(0), array(5), array(6), array(1), array(6), array(2), array(2), array(1), array(7), array(1), array(2), array(2), array(2), array(8), array(4), array(4), array(3), array(2), array(0), array(2), array(3), array(2), array(0), array(7), array(9), array(0), array(7), array(0), array(4), array(7), array(7), array(2), array(9), array(2), array(2), array(7), array(0), array(9), array(2), array(9), array(3), array(5), array(9), array(4), array(5), array(2), array(2), array(2), array(5), array(2), array(2), array(9), array(9), array(9), array(9), array(2), array(7), array(4), array(9), array(0), array(1), array(8), array(7), array(5), array(6), array(3), array(2), array(4), array(2), array(9), array(0), array(9), array(3), array(9), array(1), array(2), array(8), array(8), array(1), array(3), array(7), array(2), array(2), array(3), array(7), array(8), array(1), array(9), array(2), array(7), array(2), array(6), array(8), array(4), array(9), array(9), array(3), array(7), array(7), array(2), array(7), array(6), array(5), array(6), array(8), array(9), array(3), array(3), array(4), array(0), array(0), array(3), array(6), array(9), array(7), array(9), array(1), array(4), array(7), array(0), array(6), array(4), array(2), array(7), array(0), array(1), array(8), array(1), array(1), array(3), array(8), array(0), array(9), array(3), array(6), array(6), array(6), array(6), array(0), array(8), array(7), array(3), array(2), array(4), array(9), array(2), array(7), array(7), array(3), array(9), array(6), array(3), array(5), array(2), array(2), array(3), array(1), array(1), array(7), array(1), array(0), array(6), array(0), array(9), array(7), array(7), array(3), array(4), array(6), array(8), array(1), array(8), array(6), array(9), array(2), array(7), array(4), array(4), array(2), array(9), array(9), array(8), array(6), array(3), array(8), array(4), array(4), array(1), array(9), array(7), array(5), array(4), array(7), array(5), array(1), array(3), array(5), array(9), array(7), array(2), array(7), array(7), array(6), array(2), array(3), array(5), array(4), array(5), array(7), array(1), array(5), array(9), array(2), array(0), array(3), array(8), array(3), array(4), array(3), array(5), array(6), array(6), array(7), array(5), array(7), array(1), array(0), array(2), array(1), array(9), array(5), array(6), array(5), array(5), array(2), array(4), array(2), array(8), array(2), array(6), array(2), array(0), array(0), array(9), array(7), array(9), array(2), array(8), array(2), array(1), array(0), array(5), array(7), array(4), array(2), array(7), array(9), array(0), array(0), array(6), array(2), array(3), array(4), array(2), array(5), array(8), array(0), array(8), array(7), array(5), array(5), array(1), array(0), array(1), array(3), array(6), array(5), array(1), array(0), array(2), array(9), array(4), array(5), array(7), array(1), array(6), array(6), array(3), array(0), array(7), array(5), array(2), array(2), array(4), array(0), array(6), array(8), array(7), array(3), array(2), array(6), array(3), array(2), array(7), array(2), array(7), array(6), array(0), array(2), array(3), array(3), array(1), array(8), array(1), array(0), array(5), array(3), array(3), array(6), array(1), array(9), array(2), array(6), array(2), array(2), array(1), array(7), array(7), array(1), array(8), array(8), array(4), array(0), array(2), array(4), array(2), array(6), array(1), array(1), array(6), array(6), array(9), array(2), array(2), array(0), array(4), array(9), array(2), array(6), array(4), array(3), array(8), array(6), array(2), array(8), array(7), array(8), array(1), array(9), array(0), array(4), array(1), array(0), array(9), array(1), array(9), array(7), array(5), array(9), array(3), array(9), array(3), array(2), array(0), array(3), array(0), array(8), array(3), array(8), array(9), array(6), array(9), array(7), array(4), array(0), array(1), array(6), array(7), array(7), array(1), array(5), array(7), array(2), array(4), array(9), array(2), array(0), array(6), array(9), array(1), array(2), array(5), array(4), array(1), array(6), array(4), array(4), array(0), array(1), array(5), array(2), array(8), array(3), array(5), array(9), array(7), array(1), array(6), array(6), array(2), array(8), array(5), array(9), array(7), array(2), array(5), array(5), array(0), array(7), array(0), array(3), array(1), array(0), array(8), array(4), array(6), array(9), array(1), array(9), array(2), array(6), array(8), array(6), array(0), array(0), array(0), array(7), array(1), array(0), array(4), array(1), array(6), array(0), array(0), array(1), array(7), array(0), array(9), array(2), array(4), array(7), array(3), array(9), array(7), array(0), array(5), array(1), array(6), array(2), array(9), array(7), array(4), array(2), array(3), array(7), array(2), array(3), array(3), array(8), array(2), array(4), array(7), array(2), array(9), array(5), array(6), array(3), array(6), array(4), array(4), array(2), array(9), array(8), array(8), array(2), array(2), array(6), array(0), array(5), array(8), array(2), array(3), array(5), array(6), array(2), array(7), array(3), array(6), array(7), array(1), array(0), array(8), array(3), array(0), array(7), array(6), array(9), array(6), array(1), array(5), array(9), array(4), array(9), array(9), array(1), array(1), array(0), array(5), array(6), array(1), array(9), array(7), array(9), array(1), array(2), array(2), array(9), array(9), array(2), array(1), array(5), array(2), array(1), array(5), array(6), array(9), array(3), array(2), array(1), array(9), array(1), array(0), array(9), array(4), array(7), array(9), array(9), array(4), array(3), array(9), array(9), array(5), array(5), array(2), array(1), array(3), array(2), array(2), array(9), array(8), array(4), array(7), array(1), array(0), array(7), array(2), array(9), array(2), array(2), array(5), array(1), array(4), array(8), array(9), array(3), array(3), array(3), array(6), array(3), array(4), array(5), array(1), array(7), array(7), array(6), array(0), array(1), array(9), array(0), array(6), array(3), array(3), array(5), array(4), array(2), array(1), array(6), array(0), array(9), array(9), array(2), array(7), array(4), array(6), array(2), array(7), array(8), array(6), array(2), array(6), array(0), array(9), array(2), array(2), array(7), array(5), array(6), array(5), array(4), array(3), array(4), array(9), array(2), array(3), array(6), array(1), array(3), array(2), array(6), array(4), array(7), array(4), array(8), array(4), array(4), array(2), array(2), array(4), array(8), array(7), array(7), array(6), array(3), array(0), array(7), array(7), array(6), array(5), array(0), array(7), array(5), array(7), array(0), array(0), array(5), array(7), array(2), array(4), array(3), array(4), array(6), array(2), array(4), array(1), array(2), array(2), array(3), array(7), array(9), array(2), array(9), array(2), array(0), array(7), array(5), array(9), array(7), array(6), array(4), array(3), array(0), array(1), array(2), array(1), array(9), array(2), array(2), array(2), array(9), array(8), array(9), array(4), array(1), array(1), array(8), array(8), array(0), array(3), array(4), array(9), array(3), array(8), array(8), array(2), array(4), array(6), array(4), array(1), array(5), array(0), array(8), array(8), array(1), array(1), array(5), array(4), array(2), array(9), array(2), array(2), array(2), array(3), array(2), array(0), array(8), array(2), array(5), array(2), array(2), array(8), array(6), array(8), array(2), array(8), array(4), array(0), array(2), array(6), array(6), array(7), array(1), array(5), array(0), array(7), array(4), array(9), array(6), array(4), array(1), array(4), array(3), array(4), array(3), array(7), array(1), array(0), array(4), array(4), array(4), array(4), array(0), array(6), array(5), array(0), array(9), array(9), array(9), array(2), array(0), array(6), array(3), array(4), array(7), array(6), array(0), array(5), array(4), array(9), array(2), array(7), array(0), array(1), array(1), array(2), array(4), array(4), array(9), array(5), array(3), array(0), array(2), array(3), array(7), array(9), array(0), array(7), array(7), array(2), array(3), array(6), array(8), array(8), array(5), array(6), array(1), array(5), array(2), array(3), array(3), array(3), array(0), array(1), array(7), array(9), array(4), array(7), array(6), array(2), array(5), array(3), array(6), array(2), array(6), array(1), array(3), array(9), array(0), array(6), array(4), array(7), array(8), array(9), array(2), array(7), array(2), array(9), array(8), array(2), array(0), array(6), array(6), array(9), array(8), array(4), array(2), array(9), array(5), array(3), array(6), array(7), array(3), array(3), array(7), array(2), array(6), array(7), array(7), array(2), array(3), array(8), array(1), array(4), array(4), array(9), array(2), array(4), array(0), array(7), array(5), array(4), array(9), array(8), array(2), array(4), array(0), array(2), array(9), array(4), array(4), array(8), array(8), array(6), array(6), array(6), array(9), array(9), array(8), array(2), array(2), array(2), array(2), array(4), array(7), array(8), array(4), array(3), array(8), array(6), array(3), array(5), array(6), array(1), array(9), array(4), array(8), array(6), array(4), array(4), array(5), array(6), array(2), array(9), array(3), array(2), array(7), array(9), array(3), array(9), array(9), array(4), array(6), array(0), array(2), array(2), array(9), array(9), array(1), array(2), array(3), array(2), array(6), array(8), array(4), array(5), array(9), array(0), array(5), array(5), array(7), array(2), array(7), array(1), array(5), array(2), array(2), array(9), array(2), array(3), array(6), array(0), array(1), array(3), array(0), array(1), array(7), array(0), array(2), array(1), array(1), array(8), array(7), array(7), array(2), array(8), array(4), array(9), array(5), array(7), array(2), array(8), array(3), array(4), array(3), array(2), array(3), array(1), array(1), array(5), array(4), array(9), array(2), array(8), array(5), array(9), array(2), array(0), array(9), array(7), array(4), array(5), array(6), array(4), array(9), array(2), array(3), array(2), array(2), array(9), array(4), array(5), array(3), array(1), array(6), array(6), array(4), array(2), array(3), array(2), array(1), array(6), array(5), array(9), array(3), array(6), array(4), array(7), array(4), array(3), array(2), array(3), array(3), array(4), array(2), array(1), array(8), array(2), array(9), array(7), array(2), array(8), array(5), array(4), array(1), array(2), array(6), array(9), array(9), array(2), array(0), array(2), array(4), array(8), array(4), array(5), array(7), array(5), array(5), array(1), array(2), array(6), array(4), array(3), array(7), array(8), array(0), array(8), array(5), array(7), array(9), array(1), array(1), array(6), array(8), array(4), array(7), array(5), array(8), array(1), array(0), array(8), array(7), array(2), array(7), array(5), array(7), array(5), array(3), array(9), array(2), array(3), array(3), array(3), array(6), array(3), array(0), array(2), array(9), array(1), array(2), array(0), array(9), array(4), array(2), array(0), array(6), array(7), array(2), array(2), array(0), array(2), array(4), array(1), array(4), array(9), array(7), array(6), array(5), array(3), array(9), array(7), array(3), array(8), array(6), array(9), array(4), array(0), array(2), array(7), array(1), array(2), array(3), array(9), array(0), array(4), array(9), array(4), array(0), array(3), array(9), array(9), array(6), array(1), array(6), array(7), array(6), array(4), array(3), array(7), array(1), array(0), array(4), array(2), array(7), array(1), array(7), array(2), array(3), array(7), array(2), array(4), array(7), array(9), array(6), array(6), array(4), array(2), array(4), array(4), array(2), array(7), array(7), array(0), array(6), array(7), array(7), array(6), array(3), array(8), array(5), array(0), array(1), array(2), array(7), array(8), array(9), array(7), array(3), array(6), array(8), array(5), array(9), array(6), array(5), array(0), array(1), array(3), array(4), array(2), array(2), array(2), array(1), array(4), array(4), array(2), array(9), array(7), array(0), array(9), array(0), array(8), array(9), array(0), array(2), array(3), array(6), array(8), array(7), array(1), array(3), array(1), array(3), array(2), array(6), array(3), array(3), array(1), array(8), array(1), array(0), array(0), array(3), array(7), array(1), array(7), array(3), array(2), array(4), array(9), array(5), array(7), array(2), array(0), array(6), array(8), array(2), array(0), array(3), array(3), array(3), array(5), array(2), array(5), array(7), array(6), array(1), array(2), array(6), array(6), array(8), array(0), array(2), array(2), array(5), array(4), array(7), array(2), array(6), array(2), array(5), array(4), array(9), array(5), array(2), array(6), array(5), array(0), array(5), array(5), array(1), array(1), array(1), array(2), array(6), array(1), array(6), array(8), array(0), array(2), array(8), array(1), array(0), array(2), array(8), array(3), array(9), array(4), array(0), array(9), array(3), array(7), array(1), array(2), array(4), array(9), array(1), array(2), array(6), array(5), array(9), array(8), array(8), array(9), array(8), array(7), array(7), array(4), array(4), array(1), array(0), array(9), array(6), array(8), array(5), array(6), array(9), array(4), array(6), array(0), array(2), array(4), array(9), array(5), array(1), array(3), array(4), array(3), array(3), array(6), array(9), array(0), array(1), array(3), array(2), array(0), array(9), array(7), array(2), array(0), array(5), array(3), array(1), array(7), array(0), array(9), array(2), array(9), array(7), array(7), array(5), array(9), array(6), array(0), array(0), array(4), array(0), array(0), array(3), array(1), array(5), array(3), array(7), array(0), array(7), array(2), array(9), array(7), array(5), array(5), array(5), array(9), array(9), array(1), array(2), array(7), array(4), array(3), array(8), array(2), array(0), array(6), array(1), array(5), array(5), array(1), array(5), array(1), array(8), array(2), array(3), array(9), array(9), array(1), array(7), array(2), array(4), array(2), array(1), array(9), array(5), array(8), array(6), array(9), array(3), array(3), array(3), array(2), array(2), array(2), array(3), array(1), array(9), array(8), array(9), array(9), array(2), array(3), array(7), array(6), array(7), array(3), array(3), array(7), array(4), array(4), array(9), array(3), array(7), array(9), array(9), array(6), array(0), array(0), array(2), array(9), array(5), array(8), array(2), array(2), array(0), array(9), array(6), array(6), array(6), array(2), array(0), array(1), array(6), array(3), array(0), array(3), array(2), array(4), array(3), array(7), array(1), array(5), array(8), array(0), array(9), array(9), array(2), array(3), array(1), array(6), array(4), array(9), array(2), array(2), array(4), array(8), array(1), array(4), array(1), array(7), array(0), array(2), array(7), array(1), array(5), array(3), array(0), array(2), array(9), array(8), array(6), array(6), array(8), array(2), array(1), array(2), array(4), array(1), array(1), array(4), array(6), array(4), array(1), array(6), array(2), array(1), array(4), array(9), array(9), array(6), array(2), array(7), array(2), array(1), array(0), array(0), array(8), array(3), array(9), array(0), array(9), array(2), array(6), array(2), array(0), array(4), array(4), array(7), array(2), array(2), array(1), array(9), array(7), array(7), array(5), array(2), array(9), array(5), array(6), array(8), array(6), array(2), array(7), array(2), array(4), array(1), array(2), array(2), array(7), array(2), array(3), array(1), array(3), array(7), array(6), array(7), array(1), array(2), array(6), array(6), array(5), array(6), array(4), array(6), array(5), array(2), array(8), array(6), array(5), array(6), array(8), array(1), array(4), array(1), array(2), array(6), array(9), array(3), array(2), array(2), array(3), array(7), array(8), array(5), array(6), array(1), array(9), array(2), array(6), array(4), array(7), array(9), array(4), array(7), array(3), array(9), array(4), array(5), array(6), array(5), array(9), array(5), array(1), array(4), array(0), array(4), array(3), array(2), array(2), array(4), array(8), array(4), array(2), array(4), array(2), array(7), array(0), array(2), array(6), array(8), array(2), array(7), array(0), array(3), array(1), array(8), array(2), array(7), array(3), array(9), array(9), array(2), array(7), array(1), array(4), array(0), array(8), array(2), array(2), array(4), array(3), array(0), array(8), array(7), array(9), array(2), array(8), array(1), array(3), array(0), array(1), array(1), array(7), array(1), array(9), array(1), array(6), array(7), array(2), array(0), array(6), array(2), array(2), array(7), array(9), array(2), array(6), array(4), array(9), array(2), array(9), array(1), array(3), array(2), array(8), array(2), array(6), array(5), array(5), array(8), array(4), array(5), array(1), array(5), array(6), array(1), array(2), array(0), array(0), array(6), array(4), array(1), array(2), array(2), array(0), array(2), array(3), array(7), array(6), array(2), array(6), array(5), array(9), array(2), array(3), array(7), array(2), array(5), array(2), array(1), array(4), array(9), array(5), array(7), array(4), array(9), array(9), array(2), array(2), array(2), array(2), array(4), array(2), array(9), array(3), array(2), array(2), array(2), array(0), array(8), array(8), array(9), array(2), array(1), array(3), array(7), array(4), array(2), array(2), array(3), array(4), array(6), array(3), array(9), array(5), array(7), array(8), array(8), array(2), array(9), array(1), array(8), array(7), array(5), array(8), array(5), array(2), array(7), array(3), array(6), array(2), array(4), array(3), array(9), array(2), array(1), array(0), array(0), array(3), array(5), array(6), array(5), array(5), array(3), array(2), array(8), array(9), array(6), array(8), array(2), array(8), array(5), array(4), array(0), array(9), array(6), array(6), array(9), array(2), array(2), array(4), array(4), array(0), array(6), array(4), array(8), array(4), array(6), array(2), array(5), array(2), array(6), array(2), array(3), array(6), array(6), array(5), array(2), array(3), array(1), array(4), array(5), array(1), array(7), array(2), array(8), array(2), array(6), array(1), array(2), array(5), array(2), array(0), array(8), array(9), array(0), array(2), array(9), array(0), array(7), array(3), array(1), array(7), array(5), array(2), array(2), array(3), array(9), array(3), array(9), array(3), array(2), array(6), array(2), array(9), array(2), array(2), array(4), array(7), array(8), array(5), array(2), array(7), array(0), array(7), array(9), array(2), array(3), array(4), array(5), array(1), array(3), array(5), array(3), array(2), array(6), array(2), array(6), array(1), array(5), array(9), array(7), array(2), array(0), array(2), array(6), array(4), array(5), array(2), array(8), array(3), array(6), array(9), array(6), array(5), array(5), array(0), array(1), array(8), array(9), array(6), array(6), array(1), array(4), array(0), array(4), array(8), array(9), array(1), array(5), array(1), array(1), array(3), array(4), array(3), array(6), array(9), array(1), array(1), array(4), array(9), array(9), array(2), array(2), array(7), array(5), array(4), array(5), array(2), array(5), array(6), array(7), array(9), array(8), array(0), array(2), array(0), array(4), array(5), array(5), array(5), array(1), array(2), array(8), array(1), array(5), array(4), array(2), array(6), array(6), array(0), array(5), array(9), array(1), array(6), array(7), array(2), array(1), array(5), array(4), array(4), array(8), array(4), array(2), array(2), array(1), array(7), array(6), array(7), array(7), array(4), array(1), array(1), array(2), array(4), array(6), array(7), array(6), array(5), array(3), array(4), array(2), array(2), array(7), array(2), array(6), array(0), array(8), array(3), array(9), array(0), array(4), array(9), array(2), array(4), array(4), array(4), array(3), array(5), array(0), array(9), array(1), array(4), array(7), array(9), array(1), array(4), array(8), array(0), array(5), array(3), array(0), array(4), array(3), array(5), array(4), array(0), array(7), array(4), array(7), array(6), array(8), array(3), array(5), array(0), array(3), array(3), array(4), array(3), array(4), array(0), array(0), array(6), array(8), array(4), array(7), array(2), array(2), array(6), array(7), array(5), array(8), array(9), array(2), array(5), array(6), array(9), array(9), array(0), array(9), array(5), array(5), array(5), array(2), array(3), array(9), array(2), array(0), array(4), array(8), array(6), array(2), array(7), array(1), array(7), array(0), array(2), array(0), array(5), array(9), array(5), array(2), array(4), array(9), array(4), array(7), array(6), array(2), array(7), array(0), array(4), array(4), array(5), array(2), array(8), array(7), array(6), array(2), array(5), array(0), array(5), array(7), array(7), array(4), array(5), array(2), array(7), array(4), array(7), array(4), array(1), array(3), array(6), array(4), array(9), array(2), array(3), array(3), array(5), array(1), array(8), array(9), array(6), array(2), array(9), array(3), array(6), array(0), array(0), array(3), array(7), array(9), array(2), array(3), array(9), array(9), array(6), array(7), array(7), array(5), array(6), array(4), array(7), array(3), array(9), array(2), array(1), array(5), array(3), array(1), array(3), array(0), array(1), array(5), array(7), array(3), array(9), array(2), array(4), array(7), array(6), array(0), array(4), array(0), array(9), array(4), array(3)]\n"
          ]
        }
      ]
    },
    {
      "cell_type": "markdown",
      "source": [
        "VGG16"
      ],
      "metadata": {
        "id": "6rvJ67CBvVk7"
      }
    },
    {
      "cell_type": "code",
      "source": [
        "class VGG16(nn.Module):\n",
        "    def __init__(self, num_classes=10):\n",
        "        super(VGG16, self).__init__()\n",
        "        self.layer1 = nn.Sequential(\n",
        "            nn.Conv2d(1, 64, kernel_size=3, stride=1, padding=1),\n",
        "            nn.BatchNorm2d(64),\n",
        "            nn.ReLU())\n",
        "        self.layer2 = nn.Sequential(\n",
        "            nn.Conv2d(64, 64, kernel_size=3, stride=1, padding=1),\n",
        "            nn.BatchNorm2d(64),\n",
        "            nn.ReLU(),\n",
        "            nn.MaxPool2d(kernel_size = 2, stride = 2))\n",
        "        self.layer3 = nn.Sequential(\n",
        "            nn.Conv2d(64, 128, kernel_size=3, stride=1, padding=1),\n",
        "            nn.BatchNorm2d(128),\n",
        "            nn.ReLU())\n",
        "        self.layer4 = nn.Sequential(\n",
        "            nn.Conv2d(128, 128, kernel_size=3, stride=1, padding=1),\n",
        "            nn.BatchNorm2d(128),\n",
        "            nn.ReLU(),\n",
        "            nn.MaxPool2d(kernel_size = 2, stride = 2))\n",
        "        self.layer5 = nn.Sequential(\n",
        "            nn.Conv2d(128, 256, kernel_size=3, stride=1, padding=1),\n",
        "            nn.BatchNorm2d(256),\n",
        "            nn.ReLU())\n",
        "        self.layer6 = nn.Sequential(\n",
        "            nn.Conv2d(256, 256, kernel_size=3, stride=1, padding=1),\n",
        "            nn.BatchNorm2d(256),\n",
        "            nn.ReLU())\n",
        "        self.layer7 = nn.Sequential(\n",
        "            nn.Conv2d(256, 256, kernel_size=3, stride=1, padding=1),\n",
        "            nn.BatchNorm2d(256),\n",
        "            nn.ReLU(),\n",
        "            nn.MaxPool2d(kernel_size = 2, stride = 2))\n",
        "        self.layer8 = nn.Sequential(\n",
        "            nn.Conv2d(256, 512, kernel_size=3, stride=1, padding=1),\n",
        "            nn.BatchNorm2d(512),\n",
        "            nn.ReLU())\n",
        "        self.layer9 = nn.Sequential(\n",
        "            nn.Conv2d(512, 512, kernel_size=3, stride=1, padding=1),\n",
        "            nn.BatchNorm2d(512),\n",
        "            nn.ReLU())\n",
        "        self.layer10 = nn.Sequential(\n",
        "            nn.Conv2d(512, 512, kernel_size=3, stride=1, padding=1),\n",
        "            nn.BatchNorm2d(512),\n",
        "            nn.ReLU(),\n",
        "            nn.MaxPool2d(kernel_size = 2, stride = 2))\n",
        "        self.layer11 = nn.Sequential(\n",
        "            nn.Conv2d(512, 512, kernel_size=3, stride=1, padding=1),\n",
        "            nn.BatchNorm2d(512),\n",
        "            nn.ReLU())\n",
        "        self.layer12 = nn.Sequential(\n",
        "            nn.Conv2d(512, 512, kernel_size=3, stride=1, padding=1),\n",
        "            nn.BatchNorm2d(512),\n",
        "            nn.ReLU())\n",
        "        self.layer13 = nn.Sequential(\n",
        "            nn.Conv2d(512, 512, kernel_size=3, stride=1, padding=1),\n",
        "            nn.BatchNorm2d(512),\n",
        "            nn.ReLU(),\n",
        "            nn.MaxPool2d(kernel_size = 2, stride = 2))\n",
        "        self.fc = nn.Sequential(\n",
        "            nn.Dropout(0.5),\n",
        "            nn.Linear(8*8*512, 4096),\n",
        "            nn.ReLU())\n",
        "        self.fc1 = nn.Sequential(\n",
        "            nn.Dropout(0.5),\n",
        "            nn.Linear(4096, 4096),\n",
        "            nn.ReLU())\n",
        "        self.fc2= nn.Sequential(\n",
        "            nn.Linear(4096, num_classes))\n",
        "\n",
        "    def forward(self, x):\n",
        "        out = self.layer1(x)\n",
        "        out = self.layer2(out)\n",
        "        out = self.layer3(out)\n",
        "        out = self.layer4(out)\n",
        "        out = self.layer5(out)\n",
        "        out = self.layer6(out)\n",
        "        out = self.layer7(out)\n",
        "        out = self.layer8(out)\n",
        "        out = self.layer9(out)\n",
        "        out = self.layer10(out)\n",
        "        out = self.layer11(out)\n",
        "        out = self.layer12(out)\n",
        "        out = self.layer13(out)\n",
        "        out = out.reshape(out.size(0), -1)\n",
        "        out = self.fc(out)\n",
        "        out = self.fc1(out)\n",
        "        out = self.fc2(out)\n",
        "        return F.log_softmax(out)"
      ],
      "metadata": {
        "id": "CpKK2r5XuGPN"
      },
      "execution_count": null,
      "outputs": []
    },
    {
      "cell_type": "code",
      "source": [
        "all_data_batch_size=64\n",
        "\n",
        "all_dataloader = DataLoader(dataset, all_data_batch_size, shuffle = False )\n",
        "batch_size_train = 64\n",
        "batch_size_test = 8\n",
        "validatoin_size = 0.1\n",
        "\n",
        "\n",
        "val_size = int(validatoin_size *len(datas))\n",
        "train_size = len(dataset) - val_size\n",
        "\n",
        "train_data,val_data = random_split(dataset,[train_size,val_size])\n",
        "print(f\"Length of Train Data : {len(train_data)}\")\n",
        "print(f\"Length of Validation Data : {len(val_data)}\")\n",
        "\n",
        "train_loader = DataLoader(train_data, batch_size_train, shuffle = True )\n",
        "test_loader = DataLoader(val_data, batch_size_test)\n"
      ],
      "metadata": {
        "colab": {
          "base_uri": "https://localhost:8080/"
        },
        "id": "emV2035M8cmU",
        "outputId": "931e28fd-a299-4d44-ef31-0e38060418a8"
      },
      "execution_count": null,
      "outputs": [
        {
          "output_type": "stream",
          "name": "stdout",
          "text": [
            "Length of Train Data : 54000\n",
            "Length of Validation Data : 6000\n"
          ]
        }
      ]
    },
    {
      "cell_type": "code",
      "source": [
        "import gc\n",
        "gc.collect()\n",
        "\n",
        "n_epochs = 10\n",
        "learning_rate = 0.005\n",
        "momentum = 0.5\n",
        "log_interval = 50\n",
        "torch.cuda.empty_cache()\n",
        "network = VGG16().to('cuda')\n",
        "optimizer = optim.SGD(network.parameters(), lr=learning_rate, momentum=momentum)\n",
        "criterion=F.nll_loss\n",
        "\n",
        "validation_256(n_epochs, network, train_loader, test_loader, optimizer, criterion, log_interval)"
      ],
      "metadata": {
        "colab": {
          "base_uri": "https://localhost:8080/",
          "height": 236
        },
        "id": "fSMMCaxJzVeu",
        "outputId": "3f353f45-010c-469e-9081-46ed2ffdd528"
      },
      "execution_count": null,
      "outputs": [
        {
          "output_type": "error",
          "ename": "NameError",
          "evalue": "ignored",
          "traceback": [
            "\u001b[0;31m---------------------------------------------------------------------------\u001b[0m",
            "\u001b[0;31mNameError\u001b[0m                                 Traceback (most recent call last)",
            "\u001b[0;32m<ipython-input-1-9863b3de1203>\u001b[0m in \u001b[0;36m<module>\u001b[0;34m\u001b[0m\n\u001b[1;32m      6\u001b[0m \u001b[0mmomentum\u001b[0m \u001b[0;34m=\u001b[0m \u001b[0;36m0.5\u001b[0m\u001b[0;34m\u001b[0m\u001b[0;34m\u001b[0m\u001b[0m\n\u001b[1;32m      7\u001b[0m \u001b[0mlog_interval\u001b[0m \u001b[0;34m=\u001b[0m \u001b[0;36m50\u001b[0m\u001b[0;34m\u001b[0m\u001b[0;34m\u001b[0m\u001b[0m\n\u001b[0;32m----> 8\u001b[0;31m \u001b[0mtorch\u001b[0m\u001b[0;34m.\u001b[0m\u001b[0mcuda\u001b[0m\u001b[0;34m.\u001b[0m\u001b[0mempty_cache\u001b[0m\u001b[0;34m(\u001b[0m\u001b[0;34m)\u001b[0m\u001b[0;34m\u001b[0m\u001b[0;34m\u001b[0m\u001b[0m\n\u001b[0m\u001b[1;32m      9\u001b[0m \u001b[0mnetwork\u001b[0m \u001b[0;34m=\u001b[0m \u001b[0mVGG16\u001b[0m\u001b[0;34m(\u001b[0m\u001b[0;34m)\u001b[0m\u001b[0;34m.\u001b[0m\u001b[0mto\u001b[0m\u001b[0;34m(\u001b[0m\u001b[0;34m'cuda'\u001b[0m\u001b[0;34m)\u001b[0m\u001b[0;34m\u001b[0m\u001b[0;34m\u001b[0m\u001b[0m\n\u001b[1;32m     10\u001b[0m \u001b[0moptimizer\u001b[0m \u001b[0;34m=\u001b[0m \u001b[0moptim\u001b[0m\u001b[0;34m.\u001b[0m\u001b[0mSGD\u001b[0m\u001b[0;34m(\u001b[0m\u001b[0mnetwork\u001b[0m\u001b[0;34m.\u001b[0m\u001b[0mparameters\u001b[0m\u001b[0;34m(\u001b[0m\u001b[0;34m)\u001b[0m\u001b[0;34m,\u001b[0m \u001b[0mlr\u001b[0m\u001b[0;34m=\u001b[0m\u001b[0mlearning_rate\u001b[0m\u001b[0;34m,\u001b[0m \u001b[0mmomentum\u001b[0m\u001b[0;34m=\u001b[0m\u001b[0mmomentum\u001b[0m\u001b[0;34m)\u001b[0m\u001b[0;34m\u001b[0m\u001b[0;34m\u001b[0m\u001b[0m\n",
            "\u001b[0;31mNameError\u001b[0m: name 'torch' is not defined"
          ]
        }
      ]
    },
    {
      "cell_type": "code",
      "source": [
        "import gc\n",
        "gc.collect()\n",
        "\n",
        "n_epochs = 5\n",
        "learning_rate = 0.01\n",
        "momentum = 0.5\n",
        "log_interval = 50\n",
        "torch.cuda.empty_cache()\n",
        "network = VGG16().to('cuda')\n",
        "optimizer = optim.SGD(network.parameters(), lr=learning_rate, momentum=momentum)\n",
        "criterion=F.nll_loss\n",
        "\n",
        "outputs, pred = prediction_256(n_epochs, network, all_dataloader,data_test, optimizer, criterion, log_interval)"
      ],
      "metadata": {
        "colab": {
          "base_uri": "https://localhost:8080/"
        },
        "id": "Y90-o9zmT0jT",
        "outputId": "3ec9ae26-16e0-4b70-ca92-76f594e8b3bb"
      },
      "execution_count": null,
      "outputs": [
        {
          "output_type": "stream",
          "name": "stdout",
          "text": [
            "\n"
          ]
        },
        {
          "output_type": "stream",
          "name": "stderr",
          "text": [
            "<ipython-input-18-824737188a2a>:90: UserWarning: Implicit dimension choice for log_softmax has been deprecated. Change the call to include dim=X as an argument.\n",
            "  return F.log_softmax(out)\n"
          ]
        },
        {
          "output_type": "stream",
          "name": "stdout",
          "text": [
            "Train Epoch: 1 [0/60000 (0%)]\tLoss: 2.292308\n",
            "Train Epoch: 1 [3200/60000 (5%)]\tLoss: 2.112258\n",
            "Train Epoch: 1 [6400/60000 (11%)]\tLoss: 1.887645\n",
            "Train Epoch: 1 [9600/60000 (16%)]\tLoss: 2.231381\n",
            "Train Epoch: 1 [12800/60000 (21%)]\tLoss: 1.464338\n",
            "Train Epoch: 1 [16000/60000 (27%)]\tLoss: 1.245594\n",
            "Train Epoch: 1 [19200/60000 (32%)]\tLoss: 0.842939\n",
            "Train Epoch: 1 [22400/60000 (37%)]\tLoss: 1.198047\n",
            "Train Epoch: 1 [25600/60000 (43%)]\tLoss: 0.648169\n",
            "Train Epoch: 1 [28800/60000 (48%)]\tLoss: 0.673360\n",
            "Train Epoch: 1 [32000/60000 (53%)]\tLoss: 0.678227\n",
            "Train Epoch: 1 [35200/60000 (59%)]\tLoss: 0.413980\n",
            "Train Epoch: 1 [38400/60000 (64%)]\tLoss: 0.812353\n",
            "Train Epoch: 1 [41600/60000 (69%)]\tLoss: 0.982704\n",
            "Train Epoch: 1 [44800/60000 (75%)]\tLoss: 0.620128\n",
            "Train Epoch: 1 [48000/60000 (80%)]\tLoss: 0.735313\n",
            "Train Epoch: 1 [51200/60000 (85%)]\tLoss: 0.218437\n",
            "Train Epoch: 1 [54400/60000 (91%)]\tLoss: 0.378391\n",
            "Train Epoch: 1 [57600/60000 (96%)]\tLoss: 0.494018\n",
            "epoch 2\n",
            "Train Epoch: 2 [0/60000 (0%)]\tLoss: 0.509980\n",
            "Train Epoch: 2 [3200/60000 (5%)]\tLoss: 0.184860\n",
            "Train Epoch: 2 [6400/60000 (11%)]\tLoss: 0.351716\n",
            "Train Epoch: 2 [9600/60000 (16%)]\tLoss: 0.506263\n",
            "Train Epoch: 2 [12800/60000 (21%)]\tLoss: 0.339722\n",
            "Train Epoch: 2 [16000/60000 (27%)]\tLoss: 0.225681\n",
            "Train Epoch: 2 [19200/60000 (32%)]\tLoss: 0.423743\n",
            "Train Epoch: 2 [22400/60000 (37%)]\tLoss: 0.508721\n",
            "Train Epoch: 2 [25600/60000 (43%)]\tLoss: 0.120119\n",
            "Train Epoch: 2 [28800/60000 (48%)]\tLoss: 0.386509\n",
            "Train Epoch: 2 [32000/60000 (53%)]\tLoss: 0.367913\n",
            "Train Epoch: 2 [35200/60000 (59%)]\tLoss: 0.167379\n",
            "Train Epoch: 2 [38400/60000 (64%)]\tLoss: 0.535405\n",
            "Train Epoch: 2 [41600/60000 (69%)]\tLoss: 0.328151\n",
            "Train Epoch: 2 [44800/60000 (75%)]\tLoss: 0.306168\n",
            "Train Epoch: 2 [48000/60000 (80%)]\tLoss: 0.296293\n",
            "Train Epoch: 2 [51200/60000 (85%)]\tLoss: 0.160759\n",
            "Train Epoch: 2 [54400/60000 (91%)]\tLoss: 0.169447\n",
            "Train Epoch: 2 [57600/60000 (96%)]\tLoss: 0.355741\n",
            "epoch 3\n",
            "Train Epoch: 3 [0/60000 (0%)]\tLoss: 0.326684\n",
            "Train Epoch: 3 [3200/60000 (5%)]\tLoss: 0.056877\n",
            "Train Epoch: 3 [6400/60000 (11%)]\tLoss: 0.196281\n",
            "Train Epoch: 3 [9600/60000 (16%)]\tLoss: 0.289406\n",
            "Train Epoch: 3 [12800/60000 (21%)]\tLoss: 0.198038\n",
            "Train Epoch: 3 [16000/60000 (27%)]\tLoss: 0.155223\n",
            "Train Epoch: 3 [19200/60000 (32%)]\tLoss: 0.369259\n",
            "Train Epoch: 3 [22400/60000 (37%)]\tLoss: 0.438994\n",
            "Train Epoch: 3 [25600/60000 (43%)]\tLoss: 0.119596\n",
            "Train Epoch: 3 [28800/60000 (48%)]\tLoss: 0.167837\n",
            "Train Epoch: 3 [32000/60000 (53%)]\tLoss: 0.368739\n",
            "Train Epoch: 3 [35200/60000 (59%)]\tLoss: 0.092322\n",
            "Train Epoch: 3 [38400/60000 (64%)]\tLoss: 0.338644\n",
            "Train Epoch: 3 [41600/60000 (69%)]\tLoss: 0.282224\n",
            "Train Epoch: 3 [44800/60000 (75%)]\tLoss: 0.367748\n",
            "Train Epoch: 3 [48000/60000 (80%)]\tLoss: 0.228486\n",
            "Train Epoch: 3 [51200/60000 (85%)]\tLoss: 0.099410\n",
            "Train Epoch: 3 [54400/60000 (91%)]\tLoss: 0.117940\n",
            "Train Epoch: 3 [57600/60000 (96%)]\tLoss: 0.283580\n",
            "epoch 4\n",
            "Train Epoch: 4 [0/60000 (0%)]\tLoss: 0.271195\n",
            "Train Epoch: 4 [3200/60000 (5%)]\tLoss: 0.037749\n",
            "Train Epoch: 4 [6400/60000 (11%)]\tLoss: 0.125212\n",
            "Train Epoch: 4 [9600/60000 (16%)]\tLoss: 0.167616\n",
            "Train Epoch: 4 [12800/60000 (21%)]\tLoss: 0.176208\n",
            "Train Epoch: 4 [16000/60000 (27%)]\tLoss: 0.167695\n",
            "Train Epoch: 4 [19200/60000 (32%)]\tLoss: 0.227104\n",
            "Train Epoch: 4 [22400/60000 (37%)]\tLoss: 0.361254\n",
            "Train Epoch: 4 [25600/60000 (43%)]\tLoss: 0.059935\n",
            "Train Epoch: 4 [28800/60000 (48%)]\tLoss: 0.116135\n",
            "Train Epoch: 4 [32000/60000 (53%)]\tLoss: 0.291027\n",
            "Train Epoch: 4 [35200/60000 (59%)]\tLoss: 0.046640\n",
            "Train Epoch: 4 [38400/60000 (64%)]\tLoss: 0.175309\n",
            "Train Epoch: 4 [41600/60000 (69%)]\tLoss: 0.268783\n",
            "Train Epoch: 4 [44800/60000 (75%)]\tLoss: 0.208409\n",
            "Train Epoch: 4 [48000/60000 (80%)]\tLoss: 0.157347\n",
            "Train Epoch: 4 [51200/60000 (85%)]\tLoss: 0.029762\n",
            "Train Epoch: 4 [54400/60000 (91%)]\tLoss: 0.088778\n",
            "Train Epoch: 4 [57600/60000 (96%)]\tLoss: 0.202644\n",
            "epoch 5\n",
            "Train Epoch: 5 [0/60000 (0%)]\tLoss: 0.162799\n",
            "Train Epoch: 5 [3200/60000 (5%)]\tLoss: 0.021794\n",
            "Train Epoch: 5 [6400/60000 (11%)]\tLoss: 0.100027\n",
            "Train Epoch: 5 [9600/60000 (16%)]\tLoss: 0.095809\n",
            "Train Epoch: 5 [12800/60000 (21%)]\tLoss: 0.151440\n",
            "Train Epoch: 5 [16000/60000 (27%)]\tLoss: 0.036140\n",
            "Train Epoch: 5 [19200/60000 (32%)]\tLoss: 0.148636\n",
            "Train Epoch: 5 [22400/60000 (37%)]\tLoss: 0.336020\n",
            "Train Epoch: 5 [25600/60000 (43%)]\tLoss: 0.058324\n",
            "Train Epoch: 5 [28800/60000 (48%)]\tLoss: 0.031783\n",
            "Train Epoch: 5 [32000/60000 (53%)]\tLoss: 0.252512\n",
            "Train Epoch: 5 [35200/60000 (59%)]\tLoss: 0.041702\n",
            "Train Epoch: 5 [38400/60000 (64%)]\tLoss: 0.111847\n",
            "Train Epoch: 5 [41600/60000 (69%)]\tLoss: 0.217904\n",
            "Train Epoch: 5 [44800/60000 (75%)]\tLoss: 0.170973\n",
            "Train Epoch: 5 [48000/60000 (80%)]\tLoss: 0.125901\n",
            "Train Epoch: 5 [51200/60000 (85%)]\tLoss: 0.012612\n",
            "Train Epoch: 5 [54400/60000 (91%)]\tLoss: 0.087825\n",
            "Train Epoch: 5 [57600/60000 (96%)]\tLoss: 0.142070\n",
            "epoch 6\n",
            "[array(3), array(4), array(3), array(8), array(3), array(3), array(8), array(3), array(3), array(8), array(6), array(3), array(3), array(3), array(1), array(5), array(4), array(8), array(6), array(3), array(4), array(4), array(7), array(5), array(7), array(0), array(3), array(8), array(4), array(4), array(6), array(8), array(6), array(9), array(5), array(6), array(6), array(3), array(0), array(6), array(4), array(7), array(8), array(1), array(1), array(6), array(9), array(0), array(5), array(0), array(1), array(6), array(4), array(8), array(4), array(1), array(3), array(3), array(3), array(4), array(6), array(4), array(8), array(3), array(6), array(5), array(3), array(4), array(6), array(6), array(5), array(9), array(9), array(6), array(3), array(2), array(3), array(7), array(6), array(3), array(4), array(1), array(6), array(5), array(9), array(2), array(5), array(1), array(5), array(1), array(6), array(0), array(1), array(6), array(7), array(3), array(6), array(5), array(1), array(2), array(0), array(8), array(8), array(2), array(3), array(5), array(9), array(1), array(0), array(8), array(5), array(2), array(0), array(0), array(2), array(5), array(2), array(9), array(0), array(9), array(3), array(6), array(9), array(5), array(6), array(2), array(0), array(7), array(6), array(2), array(9), array(0), array(0), array(1), array(3), array(4), array(5), array(9), array(1), array(5), array(8), array(8), array(5), array(9), array(6), array(8), array(2), array(4), array(7), array(3), array(5), array(1), array(8), array(5), array(8), array(6), array(3), array(2), array(7), array(6), array(2), array(5), array(6), array(7), array(5), array(2), array(8), array(0), array(6), array(6), array(4), array(1), array(9), array(1), array(8), array(6), array(5), array(6), array(8), array(7), array(4), array(4), array(0), array(6), array(5), array(7), array(2), array(6), array(2), array(1), array(8), array(9), array(0), array(7), array(4), array(3), array(0), array(6), array(6), array(3), array(1), array(3), array(5), array(0), array(8), array(8), array(5), array(8), array(2), array(2), array(3), array(2), array(9), array(5), array(7), array(5), array(4), array(5), array(4), array(7), array(3), array(3), array(7), array(5), array(8), array(9), array(0), array(6), array(5), array(0), array(1), array(6), array(6), array(3), array(0), array(4), array(8), array(4), array(9), array(0), array(2), array(0), array(3), array(0), array(0), array(6), array(8), array(3), array(7), array(0), array(4), array(4), array(0), array(2), array(2), array(7), array(6), array(4), array(0), array(6), array(2), array(1), array(3), array(2), array(6), array(7), array(0), array(9), array(1), array(2), array(4), array(5), array(5), array(9), array(8), array(7), array(9), array(0), array(3), array(3), array(6), array(1), array(6), array(8), array(7), array(7), array(4), array(2), array(6), array(5), array(6), array(7), array(5), array(1), array(3), array(8), array(0), array(8), array(3), array(4), array(3), array(2), array(8), array(7), array(9), array(3), array(0), array(2), array(9), array(0), array(0), array(7), array(8), array(6), array(9), array(4), array(2), array(2), array(9), array(8), array(6), array(6), array(8), array(4), array(5), array(7), array(6), array(3), array(5), array(2), array(2), array(8), array(2), array(3), array(1), array(1), array(4), array(9), array(3), array(6), array(8), array(3), array(1), array(9), array(6), array(2), array(2), array(8), array(8), array(8), array(1), array(5), array(3), array(3), array(7), array(1), array(4), array(5), array(7), array(8), array(6), array(9), array(3), array(6), array(4), array(3), array(0), array(3), array(3), array(8), array(5), array(7), array(4), array(4), array(8), array(6), array(2), array(4), array(5), array(2), array(7), array(6), array(9), array(6), array(6), array(5), array(2), array(0), array(4), array(4), array(8), array(1), array(3), array(3), array(6), array(7), array(7), array(7), array(5), array(3), array(4), array(6), array(8), array(9), array(5), array(6), array(9), array(6), array(5), array(9), array(1), array(5), array(6), array(0), array(2), array(8), array(9), array(1), array(2), array(0), array(5), array(5), array(5), array(8), array(4), array(6), array(6), array(1), array(9), array(0), array(2), array(4), array(2), array(8), array(3), array(8), array(3), array(8), array(1), array(2), array(3), array(3), array(7), array(8), array(8), array(6), array(3), array(6), array(8), array(3), array(8), array(7), array(7), array(1), array(5), array(0), array(4), array(3), array(8), array(1), array(6), array(4), array(3), array(3), array(0), array(1), array(3), array(6), array(0), array(6), array(7), array(3), array(6), array(0), array(5), array(8), array(9), array(4), array(8), array(3), array(2), array(4), array(9), array(6), array(6), array(1), array(8), array(3), array(6), array(0), array(5), array(1), array(3), array(0), array(0), array(0), array(1), array(2), array(2), array(9), array(8), array(1), array(2), array(8), array(6), array(4), array(3), array(3), array(6), array(5), array(4), array(4), array(2), array(0), array(1), array(0), array(9), array(1), array(7), array(4), array(8), array(6), array(6), array(4), array(5), array(8), array(6), array(6), array(2), array(6), array(3), array(4), array(9), array(6), array(6), array(2), array(4), array(8), array(2), array(5), array(2), array(7), array(3), array(9), array(6), array(0), array(4), array(7), array(2), array(2), array(9), array(9), array(4), array(1), array(4), array(4), array(2), array(5), array(0), array(4), array(4), array(2), array(1), array(7), array(8), array(5), array(2), array(3), array(2), array(0), array(1), array(8), array(7), array(1), array(3), array(0), array(8), array(7), array(1), array(9), array(1), array(4), array(0), array(5), array(7), array(2), array(6), array(5), array(1), array(4), array(0), array(6), array(1), array(2), array(5), array(7), array(3), array(4), array(8), array(4), array(7), array(2), array(2), array(3), array(0), array(9), array(3), array(6), array(2), array(3), array(3), array(1), array(2), array(3), array(3), array(5), array(6), array(8), array(8), array(3), array(4), array(3), array(8), array(9), array(3), array(8), array(6), array(7), array(0), array(9), array(5), array(8), array(8), array(5), array(1), array(6), array(6), array(1), array(0), array(7), array(0), array(5), array(6), array(6), array(8), array(6), array(0), array(0), array(6), array(4), array(5), array(9), array(2), array(0), array(7), array(2), array(1), array(2), array(6), array(7), array(3), array(1), array(5), array(6), array(9), array(2), array(0), array(8), array(5), array(4), array(5), array(6), array(2), array(2), array(1), array(5), array(0), array(3), array(0), array(3), array(2), array(5), array(8), array(6), array(5), array(3), array(1), array(4), array(0), array(2), array(8), array(8), array(2), array(5), array(3), array(9), array(7), array(6), array(1), array(7), array(3), array(9), array(0), array(1), array(4), array(6), array(6), array(9), array(7), array(4), array(1), array(0), array(9), array(7), array(6), array(8), array(1), array(3), array(6), array(0), array(8), array(6), array(0), array(6), array(2), array(9), array(4), array(4), array(8), array(8), array(9), array(6), array(1), array(2), array(6), array(6), array(4), array(1), array(1), array(6), array(7), array(1), array(9), array(1), array(6), array(9), array(5), array(7), array(4), array(1), array(6), array(3), array(0), array(9), array(3), array(6), array(0), array(9), array(0), array(4), array(5), array(6), array(0), array(0), array(1), array(0), array(3), array(7), array(5), array(2), array(6), array(0), array(3), array(4), array(5), array(1), array(1), array(4), array(2), array(6), array(9), array(4), array(5), array(8), array(2), array(6), array(6), array(4), array(4), array(0), array(2), array(8), array(9), array(6), array(5), array(7), array(3), array(7), array(1), array(0), array(5), array(7), array(2), array(3), array(9), array(8), array(9), array(9), array(1), array(0), array(3), array(8), array(0), array(3), array(3), array(2), array(3), array(9), array(0), array(4), array(5), array(9), array(2), array(1), array(4), array(6), array(4), array(9), array(5), array(5), array(0), array(1), array(8), array(0), array(0), array(0), array(0), array(1), array(1), array(3), array(6), array(6), array(0), array(4), array(2), array(9), array(6), array(7), array(6), array(8), array(4), array(8), array(1), array(1), array(8), array(0), array(2), array(3), array(1), array(9), array(1), array(5), array(8), array(2), array(2), array(1), array(1), array(2), array(4), array(6), array(4), array(5), array(4), array(8), array(8), array(1), array(5), array(6), array(9), array(9), array(3), array(5), array(3), array(7), array(5), array(5), array(8), array(4), array(8), array(1), array(1), array(5), array(8), array(3), array(2), array(8), array(1), array(3), array(1), array(3), array(1), array(0), array(4), array(6), array(7), array(4), array(3), array(4), array(0), array(3), array(7), array(1), array(1), array(8), array(4), array(8), array(0), array(4), array(9), array(9), array(5), array(6), array(7), array(4), array(2), array(4), array(0), array(2), array(0), array(1), array(0), array(2), array(6), array(5), array(4), array(1), array(3), array(5), array(3), array(2), array(9), array(2), array(5), array(0), array(7), array(4), array(7), array(4), array(8), array(3), array(0), array(1), array(3), array(4), array(0), array(2), array(9), array(3), array(8), array(5), array(4), array(7), array(1), array(7), array(9), array(4), array(6), array(3), array(3), array(6), array(0), array(3), array(2), array(6), array(1), array(9), array(7), array(4), array(8), array(2), array(2), array(5), array(2), array(7), array(0), array(5), array(5), array(1), array(7), array(0), array(7), array(4), array(1), array(1), array(8), array(1), array(9), array(3), array(4), array(1), array(6), array(6), array(6), array(8), array(2), array(2), array(4), array(1), array(4), array(2), array(7), array(5), array(5), array(1), array(9), array(9), array(7), array(7), array(8), array(6), array(9), array(8), array(8), array(1), array(5), array(8), array(6), array(2), array(3), array(8), array(0), array(8), array(6), array(2), array(6), array(3), array(4), array(8), array(3), array(2), array(3), array(9), array(3), array(4), array(4), array(6), array(4), array(1), array(6), array(7), array(5), array(1), array(8), array(4), array(3), array(6), array(8), array(1), array(9), array(4), array(0), array(6), array(8), array(0), array(3), array(5), array(0), array(3), array(6), array(2), array(0), array(5), array(6), array(4), array(0), array(6), array(1), array(2), array(5), array(6), array(6), array(7), array(8), array(4), array(5), array(3), array(1), array(1), array(5), array(7), array(4), array(5), array(5), array(1), array(7), array(8), array(1), array(6), array(0), array(5), array(6), array(5), array(3), array(2), array(1), array(0), array(6), array(2), array(9), array(5), array(0), array(4), array(0), array(1), array(4), array(3), array(6), array(6), array(7), array(7), array(0), array(6), array(3), array(2), array(0), array(2), array(3), array(4), array(6), array(2), array(9), array(7), array(1), array(3), array(6), array(1), array(4), array(3), array(7), array(0), array(7), array(5), array(4), array(9), array(9), array(2), array(7), array(3), array(3), array(3), array(5), array(7), array(2), array(2), array(1), array(7), array(6), array(5), array(4), array(2), array(4), array(6), array(3), array(8), array(4), array(3), array(6), array(8), array(1), array(7), array(9), array(1), array(5), array(5), array(7), array(3), array(6), array(9), array(0), array(8), array(3), array(3), array(5), array(0), array(3), array(1), array(3), array(6), array(8), array(3), array(6), array(6), array(9), array(7), array(3), array(0), array(8), array(4), array(1), array(6), array(1), array(5), array(4), array(7), array(6), array(0), array(0), array(6), array(3), array(8), array(9), array(1), array(9), array(1), array(5), array(4), array(6), array(3), array(1), array(1), array(2), array(0), array(3), array(6), array(9), array(4), array(1), array(8), array(8), array(4), array(8), array(5), array(1), array(1), array(8), array(4), array(6), array(1), array(6), array(9), array(3), array(6), array(3), array(8), array(5), array(6), array(7), array(8), array(1), array(5), array(4), array(5), array(7), array(4), array(0), array(2), array(7), array(8), array(9), array(7), array(5), array(1), array(9), array(6), array(1), array(3), array(5), array(5), array(6), array(3), array(6), array(8), array(4), array(9), array(8), array(5), array(1), array(9), array(6), array(8), array(4), array(1), array(6), array(7), array(4), array(4), array(9), array(9), array(0), array(1), array(6), array(4), array(1), array(6), array(5), array(1), array(6), array(6), array(3), array(2), array(2), array(0), array(9), array(0), array(6), array(9), array(4), array(8), array(7), array(6), array(6), array(6), array(3), array(2), array(1), array(2), array(8), array(7), array(6), array(2), array(5), array(8), array(3), array(8), array(2), array(2), array(1), array(0), array(8), array(1), array(0), array(1), array(1), array(3), array(6), array(0), array(1), array(4), array(7), array(5), array(0), array(8), array(6), array(1), array(9), array(9), array(0), array(5), array(4), array(6), array(8), array(4), array(7), array(1), array(9), array(5), array(3), array(4), array(1), array(9), array(8), array(1), array(8), array(6), array(0), array(3), array(8), array(2), array(0), array(4), array(5), array(7), array(0), array(9), array(5), array(6), array(6), array(1), array(0), array(2), array(9), array(8), array(8), array(9), array(3), array(2), array(2), array(8), array(8), array(4), array(7), array(5), array(1), array(9), array(6), array(8), array(7), array(5), array(3), array(3), array(6), array(6), array(6), array(1), array(4), array(9), array(6), array(7), array(7), array(1), array(5), array(2), array(4), array(0), array(4), array(1), array(8), array(6), array(3), array(1), array(2), array(6), array(2), array(7), array(3), array(3), array(3), array(2), array(1), array(8), array(4), array(7), array(4), array(6), array(2), array(9), array(1), array(1), array(1), array(1), array(5), array(1), array(1), array(5), array(9), array(4), array(3), array(3), array(8), array(0), array(8), array(7), array(1), array(9), array(6), array(1), array(7), array(3), array(0), array(3), array(8), array(4), array(4), array(3), array(8), array(8), array(8), array(3), array(0), array(1), array(4), array(1), array(4), array(8), array(8), array(0), array(9), array(3), array(9), array(5), array(6), array(4), array(6), array(7), array(2), array(7), array(5), array(1), array(4), array(9), array(6), array(6), array(3), array(3), array(4), array(1), array(0), array(9), array(2), array(7), array(6), array(7), array(8), array(7), array(0), array(4), array(8), array(8), array(9), array(5), array(6), array(4), array(3), array(7), array(2), array(5), array(4), array(6), array(5), array(2), array(1), array(3), array(5), array(6), array(2), array(1), array(2), array(0), array(8), array(5), array(6), array(3), array(8), array(6), array(2), array(5), array(0), array(3), array(0), array(3), array(6), array(6), array(8), array(6), array(3), array(9), array(2), array(1), array(4), array(7), array(8), array(2), array(0), array(0), array(4), array(5), array(7), array(1), array(3), array(4), array(4), array(9), array(9), array(4), array(6), array(1), array(2), array(5), array(8), array(8), array(4), array(2), array(9), array(6), array(2), array(9), array(7), array(6), array(2), array(0), array(6), array(9), array(9), array(2), array(4), array(3), array(8), array(7), array(0), array(3), array(2), array(3), array(8), array(4), array(5), array(0), array(7), array(6), array(7), array(0), array(2), array(3), array(5), array(6), array(6), array(6), array(9), array(7), array(4), array(1), array(2), array(1), array(6), array(8), array(5), array(3), array(6), array(5), array(7), array(1), array(6), array(3), array(1), array(6), array(6), array(3), array(3), array(4), array(0), array(5), array(1), array(5), array(1), array(1), array(2), array(4), array(6), array(3), array(0), array(0), array(2), array(1), array(1), array(0), array(4), array(9), array(8), array(0), array(9), array(4), array(7), array(3), array(8), array(5), array(2), array(3), array(1), array(4), array(1), array(3), array(2), array(0), array(5), array(8), array(1), array(4), array(1), array(2), array(4), array(8), array(7), array(3), array(0), array(3), array(2), array(9), array(6), array(7), array(9), array(6), array(7), array(6), array(0), array(6), array(6), array(7), array(2), array(6), array(6), array(7), array(1), array(4), array(3), array(1), array(1), array(9), array(5), array(4), array(2), array(1), array(2), array(4), array(1), array(7), array(0), array(8), array(3), array(3), array(1), array(4), array(6), array(3), array(5), array(3), array(1), array(9), array(4), array(3), array(6), array(2), array(8), array(7), array(6), array(1), array(5), array(3), array(8), array(8), array(8), array(1), array(0), array(9), array(4), array(2), array(5), array(7), array(8), array(3), array(3), array(1), array(3), array(3), array(9), array(1), array(3), array(7), array(4), array(3), array(7), array(8), array(1), array(3), array(9), array(3), array(7), array(0), array(2), array(2), array(3), array(8), array(2), array(3), array(8), array(0), array(8), array(7), array(5), array(0), array(4), array(8), array(6), array(6), array(3), array(1), array(1), array(9), array(8), array(7), array(2), array(6), array(9), array(5), array(0), array(2), array(0), array(2), array(3), array(4), array(7), array(6), array(1), array(0), array(1), array(4), array(1), array(6), array(2), array(2), array(6), array(8), array(4), array(1), array(0), array(9), array(8), array(0), array(2), array(2), array(6), array(8), array(9), array(3), array(5), array(9), array(7), array(1), array(4), array(6), array(3), array(7), array(1), array(1), array(9), array(8), array(8), array(6), array(4), array(8), array(1), array(1), array(0), array(5), array(8), array(0), array(6), array(3), array(4), array(7), array(2), array(5), array(8), array(4), array(0), array(6), array(8), array(1), array(4), array(9), array(7), array(9), array(4), array(6), array(8), array(8), array(6), array(5), array(6), array(6), array(9), array(3), array(8), array(0), array(8), array(4), array(3), array(9), array(0), array(9), array(4), array(2), array(0), array(6), array(4), array(8), array(6), array(1), array(3), array(0), array(3), array(7), array(3), array(6), array(5), array(2), array(6), array(4), array(4), array(5), array(0), array(2), array(5), array(1), array(2), array(4), array(2), array(0), array(3), array(3), array(6), array(8), array(3), array(8), array(7), array(0), array(8), array(3), array(4), array(1), array(6), array(8), array(7), array(2), array(3), array(8), array(8), array(0), array(0), array(4), array(6), array(0), array(0), array(7), array(3), array(0), array(9), array(7), array(1), array(5), array(6), array(1), array(1), array(8), array(9), array(8), array(0), array(0), array(4), array(3), array(2), array(5), array(3), array(7), array(3), array(6), array(4), array(6), array(1), array(0), array(7), array(2), array(8), array(9), array(5), array(7), array(4), array(2), array(7), array(3), array(1), array(8), array(4), array(7), array(1), array(9), array(0), array(8), array(6), array(4), array(6), array(2), array(9), array(4), array(6), array(9), array(8), array(6), array(7), array(5), array(2), array(9), array(5), array(1), array(4), array(3), array(3), array(8), array(3), array(0), array(4), array(0), array(2), array(8), array(1), array(0), array(1), array(0), array(8), array(7), array(2), array(8), array(1), array(2), array(3), array(1), array(1), array(0), array(4), array(1), array(6), array(6), array(2), array(6), array(2), array(9), array(9), array(2), array(8), array(8), array(3), array(1), array(6), array(8), array(6), array(3), array(6), array(8), array(2), array(4), array(6), array(4), array(8), array(3), array(4), array(1), array(4), array(2), array(5), array(4), array(1), array(6), array(0), array(2), array(6), array(4), array(0), array(2), array(3), array(6), array(8), array(4), array(1), array(6), array(9), array(2), array(1), array(8), array(0), array(7), array(6), array(2), array(2), array(6), array(6), array(8), array(9), array(8), array(6), array(3), array(4), array(6), array(9), array(6), array(0), array(0), array(6), array(0), array(3), array(6), array(4), array(2), array(0), array(1), array(9), array(1), array(7), array(6), array(4), array(6), array(5), array(3), array(0), array(9), array(9), array(8), array(0), array(3), array(4), array(6), array(4), array(6), array(8), array(2), array(8), array(1), array(7), array(8), array(0), array(8), array(1), array(3), array(0), array(5), array(2), array(3), array(6), array(4), array(1), array(5), array(4), array(4), array(1), array(4), array(6), array(6), array(3), array(9), array(4), array(0), array(6), array(1), array(5), array(8), array(9), array(8), array(4), array(6), array(0), array(1), array(4), array(9), array(9), array(1), array(5), array(5), array(8), array(5), array(8), array(8), array(3), array(8), array(0), array(1), array(7), array(7), array(0), array(1), array(6), array(4), array(0), array(4), array(8), array(3), array(1), array(1), array(7), array(9), array(9), array(1), array(8), array(2), array(3), array(9), array(4), array(9), array(6), array(8), array(4), array(6), array(2), array(4), array(6), array(4), array(2), array(5), array(0), array(5), array(1), array(0), array(0), array(7), array(7), array(3), array(4), array(2), array(8), array(5), array(3), array(0), array(7), array(1), array(6), array(8), array(0), array(6), array(5), array(1), array(3), array(4), array(4), array(9), array(4), array(4), array(5), array(4), array(1), array(0), array(6), array(7), array(3), array(6), array(3), array(9), array(2), array(3), array(4), array(7), array(2), array(6), array(1), array(6), array(7), array(8), array(1), array(1), array(4), array(2), array(7), array(7), array(6), array(8), array(9), array(1), array(0), array(4), array(5), array(1), array(8), array(9), array(9), array(0), array(1), array(3), array(0), array(6), array(0), array(8), array(6), array(2), array(9), array(4), array(9), array(9), array(3), array(3), array(7), array(9), array(7), array(9), array(4), array(3), array(5), array(7), array(1), array(0), array(1), array(5), array(1), array(4), array(3), array(4), array(6), array(1), array(9), array(1), array(8), array(6), array(4), array(4), array(6), array(9), array(8), array(9), array(2), array(3), array(3), array(5), array(7), array(7), array(3), array(2), array(9), array(8), array(4), array(3), array(9), array(4), array(8), array(9), array(8), array(6), array(0), array(4), array(0), array(2), array(5), array(9), array(7), array(6), array(4), array(8), array(8), array(3), array(0), array(8), array(0), array(4), array(2), array(1), array(3), array(6), array(6), array(6), array(0), array(6), array(0), array(4), array(0), array(9), array(1), array(4), array(9), array(6), array(4), array(3), array(8), array(0), array(6), array(4), array(2), array(2), array(8), array(6), array(5), array(1), array(8), array(6), array(6), array(4), array(4), array(3), array(0), array(0), array(8), array(9), array(0), array(8), array(2), array(3), array(3), array(2), array(3), array(4), array(4), array(0), array(5), array(9), array(2), array(6), array(9), array(6), array(3), array(8), array(1), array(6), array(4), array(6), array(8), array(1), array(6), array(1), array(8), array(1), array(0), array(8), array(0), array(6), array(7), array(3), array(5), array(6), array(0), array(3), array(3), array(5), array(3), array(1), array(3), array(9), array(8), array(2), array(7), array(6), array(1), array(4), array(6), array(7), array(1), array(7), array(4), array(9), array(4), array(1), array(1), array(8), array(9), array(6), array(9), array(0), array(4), array(1), array(2), array(2), array(8), array(0), array(4), array(7), array(1), array(6), array(5), array(6), array(0), array(3), array(8), array(1), array(3), array(3), array(7), array(4), array(6), array(6), array(0), array(6), array(4), array(2), array(3), array(8), array(3), array(6), array(8), array(7), array(4), array(3), array(3), array(0), array(6), array(2), array(0), array(7), array(5), array(7), array(3), array(4), array(3), array(3), array(6), array(3), array(3), array(9), array(0), array(1), array(8), array(8), array(3), array(8), array(3), array(7), array(3), array(0), array(5), array(6), array(4), array(1), array(1), array(4), array(6), array(0), array(3), array(7), array(9), array(6), array(1), array(3), array(0), array(8), array(6), array(6), array(9), array(0), array(9), array(4), array(7), array(9), array(1), array(4), array(4), array(2), array(5), array(1), array(3), array(1), array(4), array(8), array(6), array(3), array(4), array(4), array(1), array(1), array(7), array(4), array(8), array(7), array(3), array(4), array(2), array(1), array(5), array(5), array(9), array(4), array(7), array(2), array(4), array(4), array(6), array(5), array(6), array(4), array(1), array(0), array(1), array(6), array(2), array(0), array(2), array(8), array(0), array(8), array(2), array(8), array(6), array(4), array(6), array(3), array(7), array(2), array(6), array(6), array(8), array(2), array(0), array(5), array(0), array(9), array(5), array(2), array(2), array(6), array(5), array(8), array(3), array(2), array(4), array(8), array(2), array(2), array(5), array(8), array(0), array(2), array(3), array(8), array(4), array(6), array(7), array(2), array(0), array(7), array(6), array(1), array(4), array(8), array(0), array(8), array(8), array(0), array(0), array(7), array(0), array(0), array(0), array(4), array(6), array(4), array(6), array(0), array(0), array(0), array(0), array(0), array(1), array(5), array(3), array(8), array(5), array(6), array(6), array(6), array(1), array(8), array(1), array(5), array(6), array(8), array(4), array(0), array(4), array(4), array(7), array(8), array(0), array(8), array(9), array(7), array(4), array(6), array(7), array(7), array(1), array(6), array(7), array(3), array(3), array(6), array(1), array(4), array(1), array(5), array(4), array(5), array(5), array(1), array(4), array(4), array(9), array(6), array(6), array(3), array(3), array(2), array(1), array(2), array(7), array(2), array(8), array(9), array(9), array(0), array(1), array(6), array(4), array(0), array(8), array(9), array(4), array(7), array(6), array(1), array(6), array(6), array(7), array(6), array(7), array(8), array(4), array(2), array(0), array(8), array(2), array(0), array(6), array(1), array(1), array(3), array(7), array(6), array(3), array(7), array(3), array(3), array(0), array(8), array(8), array(7), array(6), array(6), array(0), array(7), array(6), array(6), array(6), array(9), array(1), array(3), array(9), array(6), array(0), array(7), array(0), array(1), array(0), array(4), array(9), array(6), array(6), array(6), array(7), array(1), array(6), array(2), array(0), array(1), array(6), array(6), array(3), array(8), array(4), array(2), array(1), array(4), array(4), array(5), array(6), array(5), array(3), array(1), array(1), array(3), array(3), array(9), array(4), array(8), array(0), array(8), array(0), array(8), array(7), array(4), array(2), array(6), array(0), array(2), array(7), array(9), array(8), array(3), array(5), array(7), array(2), array(3), array(5), array(9), array(5), array(1), array(2), array(4), array(1), array(6), array(1), array(4), array(9), array(0), array(8), array(3), array(2), array(8), array(8), array(6), array(4), array(1), array(8), array(0), array(9), array(9), array(8), array(2), array(3), array(5), array(1), array(1), array(4), array(0), array(9), array(0), array(9), array(9), array(3), array(7), array(6), array(7), array(0), array(6), array(6), array(6), array(9), array(1), array(6), array(3), array(0), array(1), array(7), array(3), array(7), array(0), array(0), array(1), array(2), array(9), array(0), array(1), array(3), array(5), array(8), array(0), array(1), array(3), array(1), array(6), array(8), array(1), array(7), array(5), array(3), array(9), array(3), array(6), array(5), array(8), array(3), array(4), array(5), array(5), array(4), array(8), array(6), array(6), array(5), array(9), array(3), array(9), array(0), array(5), array(2), array(2), array(2), array(7), array(6), array(8), array(1), array(0), array(7), array(6), array(4), array(8), array(1), array(8), array(5), array(7), array(0), array(6), array(6), array(1), array(2), array(7), array(2), array(6), array(0), array(4), array(8), array(3), array(2), array(8), array(1), array(6), array(4), array(9), array(3), array(3), array(0), array(5), array(4), array(9), array(7), array(8), array(6), array(6), array(7), array(3), array(5), array(6), array(8), array(1), array(4), array(7), array(4), array(9), array(4), array(8), array(3), array(7), array(7), array(8), array(0), array(5), array(9), array(4), array(9), array(1), array(8), array(5), array(0), array(0), array(4), array(3), array(8), array(0), array(8), array(3), array(4), array(8), array(0), array(6), array(7), array(7), array(8), array(6), array(3), array(6), array(4), array(3), array(4), array(9), array(0), array(2), array(7), array(4), array(9), array(4), array(7), array(1), array(6), array(7), array(5), array(1), array(2), array(9), array(6), array(0), array(6), array(4), array(3), array(1), array(3), array(7), array(5), array(7), array(3), array(9), array(4), array(6), array(6), array(4), array(4), array(0), array(4), array(6), array(6), array(6), array(7), array(6), array(7), array(4), array(1), array(0), array(1), array(6), array(2), array(9), array(0), array(9), array(0), array(3), array(9), array(8), array(2), array(0), array(6), array(0), array(2), array(4), array(9), array(6), array(7), array(7), array(9), array(0), array(4), array(4), array(8), array(5), array(6), array(0), array(5), array(2), array(2), array(2), array(0), array(0), array(2), array(8), array(1), array(3), array(1), array(2), array(0), array(6), array(2), array(5), array(8), array(5), array(0), array(9), array(8), array(6), array(1), array(7), array(1), array(9), array(5), array(6), array(3), array(8), array(1), array(2), array(0), array(7), array(9), array(5), array(6), array(2), array(9), array(0), array(3), array(8), array(6), array(4), array(2), array(2), array(2), array(8), array(2), array(0), array(4), array(0), array(1), array(1), array(1), array(4), array(1), array(1), array(1), array(7), array(0), array(1), array(3), array(7), array(3), array(8), array(9), array(7), array(3), array(8), array(3), array(0), array(8), array(5), array(4), array(6), array(3), array(8), array(6), array(1), array(1), array(8), array(2), array(2), array(1), array(0), array(0), array(2), array(6), array(6), array(3), array(0), array(2), array(2), array(3), array(5), array(2), array(9), array(3), array(0), array(7), array(8), array(1), array(8), array(1), array(6), array(1), array(3), array(4), array(0), array(9), array(2), array(4), array(5), array(7), array(7), array(3), array(8), array(3), array(7), array(6), array(8), array(3), array(9), array(0), array(4), array(1), array(0), array(6), array(5), array(4), array(5), array(4), array(8), array(6), array(7), array(6), array(1), array(6), array(7), array(2), array(0), array(6), array(5), array(4), array(3), array(2), array(4), array(4), array(2), array(2), array(7), array(1), array(0), array(1), array(8), array(8), array(5), array(9), array(7), array(5), array(3), array(5), array(8), array(5), array(5), array(9), array(6), array(5), array(1), array(9), array(0), array(6), array(1), array(1), array(3), array(8), array(7), array(2), array(1), array(2), array(0), array(8), array(6), array(5), array(2), array(3), array(1), array(2), array(9), array(8), array(3), array(5), array(7), array(0), array(7), array(1), array(8), array(9), array(9), array(6), array(1), array(6), array(6), array(8), array(5), array(4), array(0), array(5), array(7), array(7), array(1), array(6), array(8), array(1), array(6), array(9), array(1), array(8), array(6), array(8), array(8), array(3), array(5), array(9), array(4), array(7), array(7), array(3), array(0), array(6), array(3), array(4), array(2), array(0), array(5), array(5), array(2), array(3), array(8), array(3), array(1), array(6), array(1), array(9), array(5), array(3), array(8), array(1), array(2), array(1), array(1), array(1), array(9), array(9), array(1), array(1), array(5), array(3), array(5), array(3), array(6), array(8), array(1), array(1), array(8), array(0), array(9), array(1), array(8), array(1), array(0), array(2), array(8), array(7), array(0), array(5), array(3), array(3), array(4), array(9), array(0), array(2), array(9), array(7), array(9), array(8), array(4), array(4), array(1), array(4), array(8), array(9), array(0), array(6), array(0), array(5), array(5), array(8), array(9), array(2), array(0), array(2), array(0), array(9), array(0), array(6), array(2), array(6), array(8), array(6), array(0), array(4), array(2), array(2), array(5), array(2), array(9), array(4), array(2), array(6), array(4), array(9), array(0), array(0), array(9), array(5), array(6), array(4), array(1), array(8), array(8), array(1), array(4), array(8), array(4), array(4), array(3), array(3), array(1), array(6), array(4), array(1), array(3), array(6), array(3), array(6), array(9), array(9), array(1), array(5), array(6), array(3), array(6), array(1), array(9), array(6), array(9), array(6), array(3), array(0), array(6), array(4), array(1), array(9), array(9), array(7), array(7), array(4), array(6), array(6), array(4), array(7), array(4), array(2), array(3), array(1), array(1), array(1), array(6), array(7), array(8), array(1), array(3), array(6), array(0), array(4), array(1), array(2), array(0), array(9), array(6), array(4), array(3), array(4), array(7), array(3), array(3), array(2), array(1), array(7), array(9), array(6), array(1), array(3), array(8), array(5), array(1), array(2), array(9), array(7), array(9), array(3), array(9), array(9), array(2), array(1), array(9), array(2), array(8), array(6), array(7), array(8), array(5), array(6), array(5), array(2), array(0), array(3), array(5), array(6), array(8), array(7), array(6), array(3), array(1), array(1), array(6), array(4), array(9), array(9), array(0), array(9), array(6), array(8), array(1), array(8), array(9), array(2), array(5), array(8), array(3), array(7), array(4), array(2), array(5), array(7), array(7), array(8), array(2), array(6), array(4), array(2), array(2), array(5), array(1), array(3), array(3), array(2), array(5), array(4), array(8), array(5), array(6), array(7), array(9), array(9), array(0), array(8), array(5), array(0), array(8), array(4), array(6), array(3), array(5), array(3), array(2), array(0), array(3), array(9), array(5), array(3), array(1), array(8), array(5), array(9), array(6), array(6), array(5), array(4), array(3), array(1), array(4), array(9), array(4), array(1), array(6), array(2), array(0), array(3), array(5), array(9), array(2), array(8), array(2), array(3), array(2), array(6), array(8), array(7), array(7), array(5), array(5), array(6), array(4), array(9), array(9), array(7), array(7), array(6), array(6), array(6), array(4), array(3), array(3), array(0), array(4), array(5), array(8), array(4), array(6), array(5), array(7), array(8), array(5), array(1), array(9), array(8), array(6), array(4), array(2), array(6), array(0), array(6), array(9), array(1), array(5), array(4), array(0), array(4), array(4), array(9), array(1), array(5), array(6), array(3), array(2), array(0), array(1), array(6), array(8), array(0), array(4), array(7), array(6), array(3), array(0), array(8), array(7), array(5), array(7), array(7), array(1), array(4), array(1), array(9), array(0), array(0), array(0), array(8), array(4), array(5), array(2), array(0), array(2), array(1), array(5), array(1), array(5), array(0), array(6), array(2), array(4), array(5), array(6), array(3), array(6), array(5), array(4), array(0), array(4), array(3), array(4), array(9), array(6), array(5), array(7), array(8), array(8), array(7), array(7), array(1), array(7), array(6), array(1), array(9), array(9), array(5), array(9), array(0), array(5), array(0), array(5), array(1), array(7), array(6), array(0), array(2), array(3), array(4), array(4), array(0), array(1), array(0), array(9), array(6), array(7), array(1), array(8), array(8), array(6), array(9), array(3), array(6), array(9), array(7), array(4), array(1), array(5), array(8), array(4), array(2), array(7), array(6), array(1), array(4), array(2), array(9), array(5), array(2), array(7), array(5), array(2), array(0), array(4), array(9), array(5), array(6), array(1), array(6), array(5), array(3), array(2), array(6), array(5), array(5), array(0), array(3), array(6), array(5), array(9), array(3), array(3), array(3), array(0), array(2), array(9), array(0), array(2), array(0), array(6), array(0), array(9), array(8), array(6), array(0), array(6), array(5), array(0), array(4), array(2), array(4), array(4), array(4), array(5), array(6), array(3), array(0), array(4), array(3), array(6), array(8), array(7), array(4), array(9), array(3), array(1), array(3), array(0), array(1), array(9), array(4), array(6), array(0), array(3), array(4), array(6), array(8), array(6), array(1), array(6), array(6), array(8), array(1), array(2), array(0), array(6), array(0), array(1), array(9), array(4), array(3), array(8), array(4), array(2), array(3), array(1), array(7), array(6), array(3), array(6), array(9), array(1), array(0), array(4), array(7), array(2), array(7), array(4), array(9), array(9), array(6), array(8), array(3), array(5), array(6), array(8), array(5), array(5), array(7), array(8), array(4), array(4), array(0), array(2), array(7), array(6), array(2), array(5), array(6), array(8), array(2), array(4), array(0), array(8), array(6), array(8), array(1), array(5), array(1), array(9), array(6), array(7), array(6), array(1), array(0), array(8), array(4), array(0), array(3), array(5), array(6), array(1), array(0), array(8), array(1), array(4), array(3), array(2), array(5), array(4), array(7), array(8), array(3), array(4), array(4), array(0), array(2), array(3), array(1), array(3), array(6), array(8), array(2), array(0), array(9), array(5), array(9), array(1), array(1), array(0), array(5), array(8), array(6), array(9), array(0), array(0), array(5), array(4), array(4), array(2), array(1), array(4), array(5), array(3), array(3), array(5), array(8), array(5), array(9), array(9), array(9), array(5), array(5), array(9), array(0), array(8), array(2), array(5), array(9), array(9), array(3), array(9), array(8), array(6), array(4), array(0), array(2), array(9), array(9), array(8), array(6), array(3), array(6), array(6), array(2), array(8), array(8), array(3), array(1), array(1), array(5), array(9), array(3), array(8), array(5), array(8), array(8), array(6), array(2), array(5), array(4), array(1), array(1), array(8), array(1), array(3), array(3), array(1), array(6), array(1), array(8), array(5), array(0), array(0), array(1), array(7), array(0), array(5), array(1), array(8), array(4), array(0), array(6), array(2), array(5), array(3), array(0), array(6), array(6), array(3), array(3), array(8), array(6), array(2), array(8), array(2), array(0), array(1), array(4), array(6), array(4), array(8), array(6), array(7), array(8), array(2), array(1), array(8), array(6), array(3), array(0), array(4), array(7), array(2), array(6), array(6), array(9), array(2), array(0), array(8), array(6), array(9), array(5), array(4), array(4), array(7), array(8), array(5), array(4), array(4), array(0), array(3), array(5), array(0), array(3), array(8), array(0), array(3), array(6), array(0), array(1), array(0), array(9), array(5), array(3), array(9), array(7), array(0), array(2), array(0), array(6), array(8), array(2), array(7), array(7), array(0), array(2), array(3), array(8), array(2), array(0), array(7), array(8), array(4), array(4), array(5), array(5), array(2), array(8), array(8), array(0), array(6), array(5), array(9), array(0), array(1), array(8), array(1), array(3), array(2), array(0), array(4), array(6), array(6), array(0), array(8), array(6), array(9), array(5), array(8), array(5), array(0), array(3), array(7), array(5), array(8), array(7), array(2), array(1), array(1), array(0), array(6), array(0), array(1), array(3), array(0), array(1), array(1), array(3), array(2), array(7), array(6), array(2), array(4), array(3), array(0), array(2), array(6), array(3), array(6), array(2), array(8), array(8), array(6), array(9), array(7), array(4), array(3), array(3), array(0), array(1), array(7), array(2), array(2), array(0), array(0), array(9), array(4), array(6), array(3), array(1), array(0), array(0), array(0), array(0), array(4), array(6), array(9), array(5), array(6), array(5), array(5), array(4), array(2), array(4), array(3), array(5), array(1), array(1), array(3), array(3), array(2), array(8), array(9), array(0), array(6), array(8), array(0), array(4), array(2), array(5), array(0), array(0), array(7), array(5), array(8), array(8), array(3), array(4), array(4), array(3), array(4), array(8), array(8), array(0), array(9), array(0), array(1), array(2), array(6), array(6), array(2), array(0), array(9), array(4), array(0), array(7), array(2), array(5), array(6), array(5), array(7), array(1), array(5), array(8), array(3), array(0), array(9), array(6), array(5), array(5), array(6), array(3), array(8), array(3), array(3), array(7), array(8), array(4), array(1), array(6), array(0), array(4), array(6), array(3), array(9), array(3), array(8), array(7), array(7), array(6), array(4), array(4), array(8), array(1), array(6), array(1), array(5), array(0), array(6), array(3), array(6), array(6), array(9), array(1), array(9), array(4), array(3), array(2), array(5), array(1), array(1), array(6), array(6), array(4), array(1), array(1), array(0), array(3), array(6), array(5), array(0), array(9), array(3), array(2), array(7), array(8), array(6), array(2), array(5), array(6), array(1), array(5), array(9), array(3), array(9), array(8), array(9), array(2), array(6), array(6), array(5), array(2), array(3), array(9), array(3), array(7), array(2), array(7), array(7), array(8), array(9), array(2), array(9), array(5), array(5), array(1), array(5), array(6), array(0), array(8), array(9), array(9), array(6), array(6), array(6), array(0), array(3), array(7), array(8), array(0), array(0), array(4), array(9), array(3), array(0), array(8), array(6), array(8), array(1), array(6), array(9), array(2), array(1), array(7), array(7), array(2), array(3), array(5), array(3), array(6), array(0), array(6), array(2), array(0), array(9), array(6), array(8), array(1), array(5), array(0), array(3), array(8), array(8), array(0), array(8), array(3), array(1), array(3), array(9), array(3), array(9), array(5), array(8), array(3), array(1), array(1), array(5), array(6), array(0), array(1), array(1), array(5), array(7), array(9), array(7), array(6), array(2), array(0), array(6), array(0), array(2), array(8), array(8), array(5), array(8), array(0), array(8), array(2), array(6), array(2), array(4), array(1), array(1), array(7), array(3), array(5), array(9), array(3), array(2), array(0), array(7), array(5), array(0), array(0), array(5), array(8), array(1), array(1), array(8), array(7), array(0), array(1), array(7), array(6), array(9), array(1), array(5), array(4), array(5), array(3), array(4), array(9), array(2), array(6), array(1), array(6), array(8), array(5), array(0), array(2), array(1), array(9), array(9), array(3), array(8), array(2), array(6), array(9), array(0), array(5), array(9), array(4), array(1), array(8), array(4), array(7), array(7), array(6), array(5), array(9), array(2), array(7), array(0), array(8), array(2), array(0), array(8), array(9), array(1), array(8), array(1), array(4), array(4), array(5), array(5), array(2), array(7), array(6), array(6), array(3), array(6), array(6), array(2), array(5), array(8), array(8), array(0), array(6), array(5), array(0), array(1), array(4), array(2), array(3), array(6), array(0), array(2), array(2), array(0), array(7), array(6), array(8), array(1), array(1), array(0), array(0), array(6), array(4), array(6), array(7), array(1), array(3), array(2), array(5), array(9), array(7), array(9), array(8), array(8), array(6), array(4), array(3), array(0), array(4), array(6), array(4), array(1), array(0), array(6), array(5), array(0), array(9), array(6), array(9), array(4), array(7), array(4), array(5), array(8), array(1), array(6), array(2), array(8), array(2), array(3), array(6), array(1), array(2), array(5), array(1), array(8), array(3), array(0), array(1), array(9), array(7), array(4), array(5), array(2), array(8), array(2), array(1), array(5), array(7), array(3), array(8), array(5), array(5), array(2), array(3), array(6), array(3), array(6), array(0), array(5), array(3), array(0), array(7), array(2), array(5), array(2), array(1), array(5), array(3), array(1), array(3), array(1), array(2), array(4), array(9), array(5), array(1), array(3), array(2), array(9), array(5), array(8), array(6), array(7), array(4), array(1), array(1), array(6), array(1), array(6), array(1), array(1), array(1), array(4), array(9), array(4), array(9), array(1), array(0), array(1), array(6), array(7), array(4), array(3), array(1), array(2), array(2), array(2), array(8), array(6), array(5), array(5), array(6), array(1), array(2), array(8), array(2), array(0), array(2), array(2), array(4), array(4), array(9), array(8), array(8), array(8), array(6), array(2), array(5), array(3), array(8), array(0), array(8), array(7), array(3), array(8), array(5), array(4), array(4), array(0), array(3), array(7), array(4), array(6), array(8), array(9), array(7), array(0), array(4), array(4), array(3), array(3), array(8), array(6), array(1), array(7), array(1), array(1), array(6), array(7), array(3), array(6), array(7), array(4), array(2), array(8), array(1), array(4), array(5), array(6), array(3), array(2), array(4), array(9), array(9), array(8), array(4), array(4), array(6), array(4), array(4), array(4), array(4), array(3), array(4), array(5), array(1), array(4), array(0), array(3), array(2), array(0), array(2), array(6), array(6), array(1), array(9), array(2), array(5), array(5), array(1), array(4), array(8), array(9), array(6), array(7), array(0), array(3), array(1), array(4), array(5), array(2), array(0), array(4), array(0), array(9), array(3), array(5), array(4), array(8), array(3), array(3), array(2), array(5), array(5), array(7), array(2), array(3), array(0), array(5), array(1), array(1), array(9), array(4), array(2), array(5), array(3), array(7), array(1), array(5), array(9), array(0), array(2), array(4), array(4), array(1), array(3), array(4), array(8), array(4), array(6), array(4), array(4), array(1), array(6), array(6), array(0), array(0), array(3), array(2), array(3), array(3), array(3), array(6), array(9), array(3), array(9), array(5), array(1), array(2), array(7), array(9), array(0), array(5), array(4), array(3), array(0), array(6), array(9), array(4), array(6), array(8), array(2), array(9), array(3), array(1), array(4), array(6), array(6), array(9), array(7), array(8), array(5), array(3), array(1), array(2), array(2), array(8), array(2), array(0), array(6), array(4), array(6), array(2), array(4), array(1), array(0), array(3), array(7), array(1), array(8), array(4), array(0), array(0), array(2), array(6), array(0), array(9), array(5), array(9), array(2), array(5), array(6), array(7), array(8), array(6), array(0), array(0), array(6), array(1), array(3), array(4), array(7), array(6), array(0), array(8), array(4), array(1), array(4), array(8), array(1), array(6), array(5), array(0), array(7), array(8), array(7), array(0), array(0), array(6), array(6), array(3), array(8), array(7), array(4), array(8), array(6), array(4), array(0), array(2), array(4), array(8), array(9), array(1), array(7), array(1), array(8), array(6), array(4), array(3), array(7), array(3), array(6), array(2), array(0), array(3), array(4), array(8), array(1), array(4), array(1), array(3), array(2), array(2), array(8), array(8), array(2), array(4), array(1), array(1), array(6), array(1), array(4), array(7), array(2), array(3), array(5), array(1), array(6), array(0), array(9), array(3), array(8), array(8), array(7), array(9), array(6), array(3), array(3), array(3), array(6), array(4), array(6), array(2), array(8), array(9), array(8), array(6), array(4), array(0), array(8), array(9), array(7), array(6), array(2), array(3), array(2), array(0), array(4), array(1), array(1), array(2), array(6), array(4), array(8), array(4), array(9), array(4), array(4), array(0), array(1), array(8), array(8), array(9), array(6), array(4), array(3), array(9), array(1), array(4), array(6), array(8), array(9), array(3), array(3), array(4), array(5), array(4), array(0), array(7), array(7), array(3), array(6), array(8), array(1), array(3), array(8), array(4), array(3), array(5), array(5), array(1), array(2), array(6), array(5), array(9), array(4), array(7), array(6), array(2), array(1), array(3), array(0), array(8), array(4), array(2), array(9), array(7), array(8), array(0), array(1), array(2), array(8), array(8), array(7), array(5), array(8), array(8), array(1), array(7), array(0), array(1), array(8), array(2), array(6), array(9), array(7), array(3), array(7), array(6), array(3), array(9), array(7), array(5), array(4), array(1), array(4), array(2), array(6), array(2), array(3), array(1), array(1), array(8), array(5), array(4), array(3), array(0), array(7), array(8), array(2), array(9), array(5), array(0), array(4), array(4), array(3), array(5), array(3), array(0), array(7), array(8), array(0), array(0), array(0), array(5), array(7), array(1), array(6), array(3), array(0), array(6), array(4), array(6), array(4), array(7), array(1), array(2), array(6), array(9), array(2), array(8), array(8), array(3), array(6), array(6), array(5), array(5), array(6), array(8), array(0), array(1), array(2), array(5), array(1), array(2), array(9), array(8), array(0), array(3), array(7), array(7), array(2), array(2), array(1), array(2), array(8), array(9), array(5), array(6), array(8), array(8), array(9), array(4), array(4), array(9), array(2), array(3), array(3), array(1), array(1), array(6), array(1), array(1), array(4), array(3), array(6), array(6), array(2), array(1), array(6), array(9), array(6), array(2), array(2), array(6), array(5), array(3), array(8), array(5), array(7), array(8), array(7), array(6), array(8), array(3), array(3), array(5), array(9), array(9), array(4), array(6), array(0), array(3), array(3), array(2), array(2), array(6), array(8), array(3), array(8), array(0), array(1), array(0), array(5), array(4), array(9), array(6), array(2), array(2), array(3), array(4), array(8), array(4), array(7), array(2), array(3), array(6), array(0), array(4), array(6), array(7), array(4), array(2), array(5), array(4), array(0), array(6), array(7), array(4), array(7), array(6), array(5), array(1), array(2), array(2), array(9), array(1), array(0), array(4), array(6), array(5), array(3), array(5), array(8), array(0), array(0), array(8), array(0), array(6), array(5), array(6), array(5), array(6), array(7), array(1), array(2), array(3), array(0), array(9), array(6), array(9), array(4), array(6), array(1), array(6), array(7), array(9), array(0), array(4), array(3), array(7), array(8), array(1), array(8), array(1), array(9), array(0), array(1), array(6), array(1), array(5), array(1), array(8), array(0), array(1), array(3), array(3), array(0), array(8), array(6), array(1), array(9), array(8), array(9), array(9), array(9), array(9), array(6), array(8), array(3), array(8), array(8), array(9), array(4), array(7), array(0), array(0), array(9), array(4), array(9), array(9), array(5), array(0), array(5), array(8), array(2), array(2), array(8), array(7), array(4), array(3), array(8), array(9), array(1), array(6), array(4), array(8), array(6), array(4), array(8), array(1), array(2), array(6), array(5), array(5), array(3), array(0), array(1), array(3), array(5), array(6), array(1), array(7), array(0), array(0), array(5), array(3), array(6), array(5), array(5), array(0), array(6), array(2), array(6), array(2), array(6), array(1), array(4), array(0), array(5), array(6), array(4), array(6), array(2), array(8), array(2), array(0), array(0), array(6), array(9), array(2), array(1), array(5), array(0), array(5), array(6), array(1), array(9), array(3), array(0), array(6), array(2), array(6), array(0), array(4), array(7), array(7), array(5), array(0), array(5), array(6), array(8), array(5), array(4), array(0), array(0), array(9), array(6), array(5), array(0), array(1), array(9), array(8), array(8), array(1), array(3), array(3), array(6), array(4), array(1), array(5), array(5), array(6), array(2), array(8), array(6), array(6), array(9), array(6), array(4), array(0), array(8), array(2), array(1), array(0), array(7), array(9), array(0), array(4), array(2), array(7), array(3), array(9), array(9), array(4), array(2), array(1), array(0), array(5), array(8), array(2), array(1), array(4), array(8), array(4), array(8), array(4), array(2), array(2), array(6), array(8), array(1), array(7), array(4), array(5), array(6), array(6), array(8), array(7), array(5), array(3), array(1), array(3), array(6), array(7), array(8), array(7), array(6), array(5), array(1), array(8), array(2), array(8), array(3), array(6), array(8), array(3), array(4), array(6), array(1), array(9), array(0), array(5), array(6), array(8), array(6), array(4), array(5), array(2), array(9), array(4), array(3), array(2), array(2), array(0), array(3), array(7), array(2), array(3), array(4), array(5), array(3), array(0), array(7), array(2), array(7), array(9), array(4), array(3), array(7), array(4), array(8), array(8), array(3), array(3), array(4), array(1), array(1), array(7), array(1), array(4), array(1), array(4), array(1), array(8), array(4), array(2), array(2), array(0), array(6), array(2), array(6), array(9), array(4), array(3), array(7), array(0), array(6), array(6), array(5), array(2), array(0), array(1), array(8), array(9), array(3), array(5), array(1), array(8), array(3), array(6), array(3), array(7), array(2), array(9), array(1), array(8), array(3), array(3), array(5), array(8), array(6), array(7), array(6), array(8), array(9), array(4), array(1), array(4), array(7), array(9), array(6), array(2), array(9), array(0), array(6), array(9), array(4), array(5), array(8), array(1), array(8), array(9), array(3), array(4), array(6), array(7), array(7), array(2), array(9), array(5), array(6), array(5), array(0), array(3), array(6), array(7), array(1), array(9), array(4), array(1), array(2), array(8), array(3), array(9), array(8), array(6), array(4), array(8), array(3), array(4), array(6), array(8), array(5), array(1), array(4), array(0), array(3), array(0), array(6), array(7), array(6), array(4), array(7), array(4), array(0), array(4), array(7), array(4), array(5), array(5), array(4), array(8), array(2), array(0), array(9), array(8), array(3), array(1), array(3), array(8), array(5), array(0), array(9), array(5), array(3), array(6), array(6), array(7), array(8), array(7), array(8), array(1), array(2), array(1), array(4), array(9), array(8), array(6), array(3), array(2), array(5), array(5), array(4), array(9), array(9), array(9), array(1), array(1), array(6), array(2), array(1), array(1), array(3), array(2), array(9), array(0), array(5), array(0), array(7), array(8), array(2), array(6), array(8), array(3), array(4), array(3), array(6), array(8), array(2), array(2), array(7), array(2), array(2), array(1), array(1), array(9), array(4), array(6), array(7), array(6), array(5), array(3), array(9), array(6), array(3), array(0), array(9), array(3), array(0), array(2), array(3), array(8), array(0), array(1), array(3), array(4), array(0), array(2), array(1), array(5), array(6), array(1), array(8), array(6), array(7), array(8), array(5), array(9), array(7), array(6), array(0), array(1), array(4), array(5), array(1), array(4), array(2), array(7), array(3), array(4), array(6), array(3), array(4), array(7), array(1), array(3), array(3), array(7), array(4), array(4), array(2), array(0), array(8), array(5), array(5), array(9), array(5), array(9), array(6), array(7), array(4), array(0), array(3), array(6), array(8), array(7), array(2), array(9), array(6), array(6), array(0), array(6), array(7), array(2), array(4), array(9), array(4), array(7), array(8), array(5), array(7), array(2), array(4), array(8), array(1), array(0), array(1), array(0), array(4), array(5), array(2), array(0), array(0), array(1), array(4), array(5), array(6), array(2), array(9), array(2), array(3), array(9), array(9), array(4), array(5), array(0), array(3), array(0), array(2), array(3), array(9), array(6), array(2), array(6), array(5), array(0), array(6), array(8), array(9), array(2), array(2), array(9), array(3), array(5), array(0), array(8), array(9), array(6), array(6), array(8), array(0), array(9), array(7), array(4), array(9), array(2), array(6), array(1), array(4), array(6), array(3), array(7), array(0), array(5), array(2), array(0), array(1), array(6), array(1), array(0), array(2), array(6), array(2), array(2), array(3), array(2), array(9), array(3), array(2), array(9), array(9), array(5), array(1), array(4), array(5), array(3), array(1), array(6), array(1), array(8), array(5), array(2), array(2), array(5), array(2), array(3), array(3), array(9), array(0), array(5), array(1), array(6), array(5), array(6), array(6), array(8), array(3), array(0), array(1), array(5), array(2), array(5), array(7), array(2), array(5), array(9), array(3), array(6), array(1), array(6), array(6), array(3), array(3), array(0), array(8), array(0), array(6), array(2), array(8), array(1), array(0), array(3), array(6), array(3), array(3), array(1), array(0), array(6), array(3), array(0), array(7), array(2), array(1), array(2), array(9), array(2), array(4), array(7), array(2), array(3), array(5), array(0), array(4), array(3), array(3), array(9), array(3), array(8), array(6), array(6), array(9), array(1), array(6), array(1), array(2), array(9), array(9), array(7), array(9), array(8), array(8), array(1), array(1), array(3), array(6), array(2), array(6), array(3), array(3), array(2), array(1), array(4), array(4), array(0), array(6), array(5), array(1), array(8), array(0), array(6), array(6), array(5), array(4), array(6), array(6), array(6), array(0), array(0), array(1), array(5), array(6), array(3), array(0), array(3), array(5), array(9), array(3), array(4), array(7), array(5), array(3), array(2), array(7), array(5), array(8), array(3), array(0), array(9), array(1), array(6), array(9), array(7), array(5), array(2), array(7), array(3), array(1), array(0), array(2), array(2), array(7), array(2), array(4), array(2), array(8), array(1), array(4), array(4), array(9), array(1), array(3), array(3), array(6), array(1), array(5), array(1), array(8), array(4), array(5), array(0), array(9), array(8), array(2), array(4), array(3), array(6), array(5), array(4), array(7), array(0), array(3), array(9), array(3), array(6), array(7), array(4), array(5), array(7), array(4), array(7), array(8), array(8), array(6), array(3), array(6), array(7), array(4), array(2), array(0), array(1), array(1), array(2), array(2), array(9), array(6), array(6), array(5), array(4), array(7), array(8), array(8), array(2), array(7), array(8), array(1), array(3), array(3), array(7), array(4), array(8), array(4), array(8), array(3), array(9), array(2), array(0), array(5), array(5), array(0), array(5), array(0), array(6), array(1), array(0), array(2), array(5), array(1), array(9), array(4), array(9), array(3), array(7), array(1), array(5), array(2), array(1), array(6), array(6), array(1), array(0), array(2), array(7), array(9), array(2), array(7), array(5), array(0), array(4), array(5), array(8), array(0), array(7), array(1), array(4), array(6), array(6), array(2), array(1), array(6), array(2), array(1), array(3), array(0), array(9), array(7), array(4), array(8), array(6), array(6), array(9), array(6), array(1), array(8), array(9), array(5), array(0), array(8), array(9), array(7), array(7), array(1), array(8), array(2), array(2), array(5), array(8), array(7), array(9), array(9), array(1), array(3), array(4), array(8), array(0), array(6), array(2), array(3), array(8), array(4), array(4), array(1), array(3), array(1), array(8), array(0), array(9), array(4), array(1), array(9), array(3), array(6), array(7), array(3), array(8), array(6), array(3), array(2), array(7), array(7), array(8), array(6), array(2), array(5), array(3), array(4), array(1), array(8), array(0), array(0), array(4), array(6), array(3), array(1), array(1), array(1), array(6), array(9), array(4), array(7), array(8), array(8), array(1), array(2), array(4), array(8), array(5), array(6), array(3), array(6), array(4), array(3), array(2), array(5), array(3), array(4), array(9), array(3), array(7), array(3), array(8), array(8), array(0), array(5), array(3), array(0), array(5), array(1), array(5), array(0), array(9), array(6), array(1), array(4), array(2), array(6), array(4), array(7), array(0), array(4), array(2), array(8), array(6), array(1), array(1), array(7), array(0), array(9), array(2), array(5), array(4), array(5), array(4), array(6), array(3), array(3), array(6), array(3), array(0), array(1), array(9), array(5), array(2), array(5), array(7), array(9), array(1), array(6), array(6), array(0), array(6), array(6), array(9), array(5), array(3), array(8), array(3), array(8), array(9), array(6), array(2), array(9), array(3), array(3), array(4), array(6), array(4), array(2), array(7), array(0), array(3), array(8), array(5), array(6), array(6), array(3), array(6), array(9), array(1), array(2), array(4), array(1), array(0), array(0), array(2), array(1), array(4), array(1), array(0), array(4), array(1), array(7), array(7), array(0), array(1), array(7), array(8), array(8), array(3), array(2), array(0), array(8), array(3), array(0), array(6), array(2), array(2), array(8), array(6), array(1), array(1), array(3), array(7), array(4), array(3), array(0), array(4), array(0), array(1), array(0), array(1), array(4), array(3), array(8), array(7), array(7), array(5), array(6), array(0), array(2), array(3), array(4), array(4), array(8), array(5), array(4), array(8), array(9), array(3), array(9), array(6), array(8), array(3), array(6), array(2), array(0), array(1), array(4), array(4), array(0), array(1), array(8), array(2), array(4), array(3), array(1), array(2), array(7), array(4), array(6), array(3), array(3), array(8), array(5), array(6), array(0), array(4), array(8), array(8), array(0), array(3), array(6), array(3), array(2), array(6), array(9), array(3), array(9), array(8), array(4), array(8), array(6), array(5), array(5), array(6), array(2), array(1), array(2), array(6), array(6), array(7), array(5), array(8), array(0), array(0), array(6), array(1), array(1), array(0), array(0), array(6), array(6), array(2), array(5), array(9), array(4), array(6), array(0), array(3), array(6), array(4), array(0), array(3), array(4), array(1), array(4), array(3), array(4), array(0), array(5), array(5), array(2), array(4), array(2), array(7), array(8), array(1), array(5), array(1), array(9), array(7), array(5), array(0), array(4), array(3), array(1), array(2), array(8), array(7), array(9), array(8), array(3), array(6), array(9), array(5), array(5), array(9), array(8), array(1), array(3), array(0), array(5), array(6), array(8), array(1), array(4), array(4), array(6), array(9), array(6), array(1), array(9), array(2), array(7), array(5), array(0), array(7), array(0), array(1), array(6), array(7), array(8), array(6), array(3), array(9), array(4), array(8), array(2), array(2), array(6), array(3), array(7), array(2), array(5), array(0), array(8), array(7), array(0), array(6), array(1), array(9), array(5), array(6), array(6), array(3), array(4), array(6), array(0), array(0), array(3), array(0), array(6), array(8), array(6), array(7), array(5), array(3), array(6), array(2), array(9), array(6), array(8), array(1), array(3), array(8), array(5), array(9), array(0), array(0), array(3), array(4), array(0), array(4), array(7), array(6), array(0), array(6), array(8), array(8), array(2), array(2), array(4), array(3), array(1), array(1), array(5), array(7), array(3), array(4), array(8), array(2), array(5), array(2), array(9), array(0), array(0), array(3), array(0), array(5), array(8), array(6), array(2), array(1), array(8), array(3), array(7), array(1), array(6), array(3), array(9), array(0), array(3), array(0), array(2), array(5), array(4), array(4), array(5), array(2), array(4), array(1), array(6), array(2), array(7), array(5), array(5), array(8), array(2), array(1), array(3), array(4), array(0), array(9), array(7), array(5), array(8), array(7), array(3), array(8), array(1), array(0), array(3), array(2), array(3), array(6), array(4), array(3), array(1), array(1), array(4), array(4), array(7), array(4), array(8), array(6), array(9), array(4), array(4), array(6), array(3), array(9), array(6), array(4), array(6), array(1), array(1), array(4), array(5), array(3), array(7), array(9), array(1), array(5), array(5), array(2), array(6), array(7), array(2), array(6), array(3), array(3), array(9), array(0), array(2), array(5), array(9), array(9), array(6), array(4), array(5), array(6), array(9), array(6), array(9), array(0), array(1), array(3), array(3), array(2), array(5), array(2), array(3), array(4), array(1), array(1), array(9), array(3), array(5), array(5), array(1), array(2), array(1), array(4), array(6), array(1), array(0), array(7), array(4), array(7), array(8), array(4), array(5), array(6), array(0), array(3), array(6), array(7), array(3), array(4), array(3), array(6), array(9), array(7), array(6), array(7), array(9), array(3), array(3), array(0), array(8), array(9), array(5), array(4), array(1), array(3), array(9), array(5), array(0), array(3), array(1), array(0), array(8), array(5), array(8), array(3), array(2), array(6), array(6), array(9), array(9), array(4), array(0), array(5), array(8), array(1), array(8), array(7), array(0), array(6), array(6), array(4), array(9), array(4), array(5), array(8), array(5), array(6), array(6), array(8), array(2), array(4), array(7), array(4), array(9), array(6), array(8), array(1), array(8), array(6), array(8), array(1), array(5), array(6), array(8), array(6), array(7), array(2), array(5), array(4), array(0), array(4), array(3), array(7), array(3), array(6), array(4), array(2), array(1), array(1), array(1), array(9), array(6), array(6), array(8), array(3), array(2), array(7), array(9), array(8), array(6), array(5), array(6), array(4), array(2), array(3), array(2), array(9), array(9), array(4), array(2), array(7), array(2), array(2), array(7), array(3), array(6), array(4), array(8), array(8), array(6), array(8), array(9), array(9), array(6), array(5), array(0), array(9), array(0), array(5), array(9), array(5), array(7), array(9), array(2), array(0), array(7), array(9), array(3), array(3), array(0), array(6), array(2), array(2), array(2), array(7), array(4), array(8), array(4), array(1), array(6), array(7), array(6), array(1), array(6), array(6), array(0), array(2), array(0), array(8), array(2), array(3), array(2), array(5), array(8), array(8), array(6), array(4), array(5), array(9), array(3), array(0), array(2), array(9), array(2), array(4), array(5), array(5), array(7), array(6), array(8), array(9), array(2), array(5), array(7), array(2), array(6), array(1), array(4), array(2), array(1), array(8), array(6), array(3), array(9), array(6), array(0), array(9), array(6), array(2), array(7), array(3), array(6), array(5), array(1), array(2), array(4), array(3), array(1), array(2), array(6), array(9), array(4), array(8), array(5), array(8), array(4), array(1), array(6), array(1), array(7), array(1), array(8), array(3), array(9), array(4), array(3), array(3), array(5), array(6), array(6), array(2), array(1), array(6), array(9), array(3), array(5), array(3), array(7), array(4), array(8), array(6), array(4), array(7), array(8), array(2), array(2), array(9), array(7), array(6), array(6), array(0), array(2), array(5), array(9), array(9), array(0), array(3), array(8), array(3), array(4), array(8), array(5), array(7), array(3), array(4), array(9), array(3), array(5), array(6), array(0), array(8), array(9), array(4), array(2), array(4), array(3), array(1), array(4), array(8), array(4), array(9), array(8), array(5), array(3), array(4), array(4), array(6), array(1), array(8), array(2), array(8), array(8), array(2), array(0), array(5), array(8), array(8), array(8), array(3), array(3), array(4), array(3), array(2), array(8), array(1), array(0), array(4), array(2), array(3), array(6), array(5), array(5), array(4), array(9), array(5), array(9), array(3), array(3), array(9), array(3), array(6), array(3), array(9), array(1), array(2), array(0), array(6), array(7), array(2), array(0), array(4), array(9), array(2), array(0), array(1), array(0), array(5), array(6), array(6), array(8), array(6), array(8), array(5), array(7), array(0), array(5), array(4), array(7), array(0), array(9), array(6), array(6), array(9), array(6), array(6), array(4), array(1), array(6), array(6), array(9), array(6), array(3), array(9), array(5), array(0), array(5), array(0), array(6), array(7), array(0), array(6), array(5), array(3), array(3), array(6), array(5), array(6), array(8), array(6), array(6), array(0), array(6), array(9), array(4), array(1), array(3), array(4), array(3), array(1), array(2), array(1), array(2), array(6), array(8), array(5), array(8), array(5), array(5), array(8), array(5), array(4), array(2), array(2), array(7), array(0), array(9), array(1), array(3), array(7), array(6), array(0), array(6), array(4), array(6), array(1), array(8), array(0), array(5), array(3), array(7), array(6), array(5), array(6), array(7), array(0), array(8), array(8), array(0), array(8), array(3), array(7), array(2), array(0), array(3), array(4), array(7), array(9), array(3), array(6), array(5), array(8), array(8), array(6), array(7), array(0), array(0), array(8), array(2), array(6), array(3), array(0), array(5), array(2), array(4), array(4), array(6), array(8), array(0), array(1), array(6), array(3), array(1), array(3), array(9), array(1), array(1), array(0), array(7), array(7), array(1), array(2), array(7), array(0), array(6), array(4), array(9), array(6), array(4), array(4), array(5), array(3), array(1), array(6), array(5), array(8), array(3), array(9), array(5), array(2), array(3), array(4), array(5), array(9), array(0), array(5), array(2), array(8), array(3), array(7), array(6), array(8), array(9), array(0), array(4), array(0), array(0), array(3), array(9), array(3), array(7), array(4), array(7), array(0), array(8), array(3), array(8), array(1), array(2), array(4), array(2), array(1), array(8), array(8), array(1), array(5), array(2), array(3), array(9), array(2), array(5), array(1), array(5), array(4), array(6), array(8), array(0), array(2), array(7), array(5), array(0), array(1), array(4), array(9), array(2), array(3), array(5), array(9), array(5), array(4), array(9), array(9), array(0), array(3), array(5), array(7), array(9), array(3), array(2), array(0), array(2), array(6), array(9), array(6), array(5), array(9), array(6), array(9), array(4), array(7), array(4), array(8), array(8), array(4), array(3), array(4), array(1), array(6), array(3), array(0), array(5), array(9), array(7), array(5), array(2), array(3), array(4), array(6), array(3), array(6), array(3), array(4), array(5), array(2), array(5), array(1), array(2), array(6), array(9), array(8), array(5), array(6), array(9), array(6), array(4), array(4), array(1), array(1), array(5), array(3), array(5), array(7), array(4), array(7), array(0), array(4), array(6), array(5), array(3), array(5), array(6), array(6), array(5), array(8), array(2), array(7), array(1), array(9), array(1), array(0), array(0), array(6), array(2), array(0), array(4), array(5), array(6), array(3), array(4), array(5), array(3), array(5), array(6), array(0), array(0), array(4), array(7), array(7), array(3), array(3), array(3), array(5), array(9), array(0), array(7), array(6), array(0), array(3), array(7), array(9), array(1), array(3), array(0), array(2), array(2), array(2), array(6), array(3), array(6), array(2), array(1), array(2), array(6), array(9), array(2), array(6), array(5), array(2), array(4), array(9), array(6), array(3), array(3), array(3), array(4), array(2), array(9), array(8), array(9), array(0), array(0), array(4), array(3), array(8), array(7), array(8), array(6), array(7), array(7), array(1), array(3), array(4), array(8), array(2), array(7), array(4), array(5), array(1), array(3), array(8), array(6), array(9), array(0), array(9), array(1), array(9), array(7), array(9), array(1), array(7), array(3), array(3), array(2), array(8), array(9), array(0), array(0), array(0), array(1), array(8), array(0), array(6), array(3), array(4), array(5), array(6), array(4), array(4), array(8), array(3), array(3), array(5), array(6), array(0), array(6), array(6), array(0), array(2), array(0), array(4), array(4), array(2), array(9), array(7), array(4), array(6), array(3), array(9), array(4), array(8), array(2), array(6), array(6), array(0), array(8), array(5), array(9), array(6), array(6), array(0), array(0), array(2), array(4), array(4), array(4), array(7), array(0), array(3), array(9), array(2), array(2), array(4), array(6), array(5), array(0), array(5), array(2), array(6), array(9), array(9), array(0), array(9), array(9), array(7), array(4), array(0), array(7), array(3), array(4), array(4), array(4), array(2), array(2), array(5), array(5), array(2), array(8), array(7), array(4), array(3), array(8), array(5), array(5), array(7), array(4), array(6), array(7), array(8), array(3), array(8), array(2), array(6), array(8), array(0), array(6), array(6), array(4), array(2), array(0), array(1), array(4), array(7), array(9), array(8), array(4), array(3), array(5), array(4), array(5), array(0), array(6), array(8), array(1), array(8), array(4), array(4), array(6), array(4), array(8), array(9), array(0), array(7), array(0), array(6), array(9), array(2), array(3), array(3), array(3), array(1), array(9), array(8), array(7), array(5), array(1), array(7), array(2), array(9), array(8), array(9), array(4), array(2), array(9), array(6), array(5), array(8), array(6), array(3), array(3), array(1), array(5), array(9), array(1), array(1), array(2), array(7), array(6), array(0), array(9), array(9), array(2), array(1), array(0), array(6), array(4), array(9), array(3), array(0), array(8), array(0), array(8), array(6), array(3), array(3), array(4), array(5), array(3), array(2), array(3), array(0), array(8), array(1), array(5), array(6), array(4), array(3), array(0), array(3), array(1), array(2), array(9), array(6), array(5), array(9), array(4), array(5), array(0), array(3), array(8), array(9), array(3), array(1), array(6), array(5), array(0), array(5), array(0), array(7), array(5), array(9), array(8), array(2), array(8), array(9), array(5), array(2), array(1), array(1), array(7), array(1), array(5), array(6), array(8), array(4), array(9), array(6), array(4), array(6), array(5), array(9), array(7), array(4), array(6), array(6), array(4), array(1), array(2), array(5), array(9), array(1), array(7), array(7), array(1), array(0), array(8), array(9), array(6), array(5), array(0), array(3), array(2), array(6), array(0), array(3), array(4), array(6), array(9), array(8), array(8), array(6), array(2), array(4), array(9), array(7), array(6), array(0), array(6), array(9), array(9), array(7), array(1), array(7), array(6), array(5), array(6), array(9), array(8), array(3), array(7), array(5), array(1), array(1), array(0), array(5), array(2), array(6), array(1), array(1), array(6), array(7), array(8), array(8), array(7), array(1), array(9), array(8), array(5), array(3), array(1), array(1), array(5), array(4), array(3), array(3), array(6), array(2), array(3), array(6), array(0), array(7), array(3), array(6), array(6), array(0), array(6), array(1), array(3), array(6), array(2), array(0), array(7), array(5), array(3), array(6), array(0), array(0), array(2), array(4), array(8), array(5), array(6), array(3), array(1), array(7), array(4), array(9), array(6), array(7), array(0), array(1), array(1), array(5), array(6), array(7), array(6), array(1), array(7), array(2), array(7), array(3), array(2), array(6), array(5), array(5), array(7), array(9), array(3), array(3), array(7), array(4), array(5), array(5), array(9), array(0), array(2), array(3), array(6), array(3), array(5), array(5), array(6), array(0), array(0), array(0), array(6), array(5), array(2), array(7), array(6), array(3), array(6), array(6), array(8), array(3), array(9), array(6), array(2), array(9), array(4), array(0), array(3), array(8), array(0), array(9), array(5), array(4), array(0), array(8), array(9), array(6), array(2), array(5), array(2), array(2), array(2), array(6), array(3), array(5), array(5), array(1), array(9), array(6), array(0), array(6), array(9), array(6), array(3), array(3), array(3), array(3), array(0), array(6), array(2), array(2), array(0), array(8), array(6), array(8), array(9), array(5), array(1), array(7), array(7), array(1), array(8), array(9), array(7), array(2), array(1), array(9), array(3), array(7), array(4), array(5), array(9), array(3), array(0), array(6), array(8), array(6), array(1), array(9), array(5), array(2), array(7), array(6), array(3), array(7), array(7), array(4), array(7), array(3), array(5), array(1), array(4), array(9), array(2), array(4), array(1), array(6), array(0), array(0), array(6), array(4), array(6), array(0), array(6), array(6), array(8), array(2), array(3), array(4), array(5), array(6), array(2), array(9), array(6), array(9), array(8), array(3), array(9), array(1), array(6), array(4), array(3), array(3), array(9), array(0), array(6), array(2), array(4), array(9), array(2), array(2), array(9), array(8), array(0), array(6), array(8), array(0), array(5), array(6), array(1), array(1), array(3), array(2), array(1), array(8), array(1), array(2), array(3), array(2), array(8), array(4), array(4), array(3), array(2), array(0), array(2), array(3), array(5), array(0), array(7), array(9), array(0), array(7), array(0), array(0), array(8), array(8), array(9), array(9), array(2), array(4), array(6), array(0), array(9), array(2), array(9), array(8), array(5), array(9), array(4), array(5), array(3), array(2), array(2), array(5), array(2), array(2), array(9), array(9), array(4), array(9), array(3), array(7), array(4), array(9), array(0), array(8), array(8), array(7), array(5), array(6), array(3), array(2), array(4), array(2), array(9), array(0), array(4), array(3), array(9), array(1), array(3), array(8), array(8), array(1), array(3), array(7), array(8), array(3), array(3), array(7), array(8), array(1), array(9), array(9), array(7), array(2), array(6), array(8), array(1), array(2), array(9), array(3), array(7), array(1), array(1), array(7), array(6), array(5), array(6), array(8), array(9), array(3), array(3), array(4), array(0), array(0), array(3), array(6), array(9), array(8), array(9), array(1), array(4), array(7), array(0), array(6), array(0), array(3), array(7), array(0), array(1), array(8), array(1), array(1), array(3), array(8), array(0), array(9), array(3), array(6), array(6), array(6), array(6), array(0), array(8), array(7), array(3), array(3), array(4), array(1), array(5), array(7), array(7), array(3), array(9), array(5), array(3), array(5), array(8), array(2), array(3), array(1), array(1), array(7), array(1), array(0), array(6), array(0), array(9), array(1), array(7), array(3), array(4), array(6), array(8), array(1), array(8), array(6), array(4), array(2), array(0), array(1), array(4), array(2), array(4), array(9), array(8), array(6), array(3), array(8), array(4), array(4), array(1), array(9), array(7), array(5), array(4), array(7), array(5), array(1), array(3), array(5), array(9), array(7), array(6), array(7), array(0), array(6), array(2), array(3), array(5), array(4), array(5), array(7), array(1), array(5), array(9), array(2), array(0), array(3), array(8), array(3), array(4), array(3), array(5), array(1), array(6), array(0), array(5), array(1), array(1), array(0), array(2), array(1), array(9), array(5), array(6), array(5), array(5), array(6), array(4), array(5), array(8), array(2), array(6), array(5), array(0), array(0), array(9), array(4), array(9), array(2), array(8), array(2), array(4), array(0), array(5), array(7), array(4), array(8), array(6), array(9), array(0), array(0), array(6), array(8), array(3), array(4), array(2), array(5), array(8), array(0), array(3), array(7), array(5), array(5), array(1), array(0), array(1), array(3), array(6), array(5), array(1), array(0), array(2), array(9), array(4), array(5), array(7), array(1), array(6), array(6), array(3), array(0), array(7), array(5), array(3), array(2), array(4), array(0), array(2), array(8), array(7), array(3), array(2), array(6), array(3), array(2), array(7), array(2), array(7), array(6), array(0), array(6), array(3), array(3), array(1), array(8), array(1), array(0), array(5), array(3), array(3), array(6), array(1), array(9), array(2), array(6), array(2), array(2), array(1), array(7), array(7), array(1), array(8), array(8), array(4), array(0), array(2), array(4), array(2), array(6), array(1), array(1), array(6), array(8), array(9), array(8), array(2), array(0), array(4), array(0), array(2), array(6), array(4), array(8), array(8), array(6), array(2), array(8), array(7), array(8), array(1), array(9), array(0), array(6), array(8), array(0), array(4), array(6), array(9), array(7), array(5), array(9), array(3), array(9), array(3), array(2), array(0), array(3), array(0), array(8), array(3), array(8), array(9), array(4), array(9), array(4), array(4), array(0), array(1), array(6), array(7), array(0), array(1), array(5), array(7), array(2), array(4), array(9), array(8), array(0), array(6), array(9), array(1), array(2), array(5), array(4), array(1), array(6), array(4), array(4), array(0), array(1), array(5), array(6), array(8), array(3), array(5), array(9), array(7), array(1), array(6), array(6), array(6), array(8), array(5), array(9), array(7), array(2), array(5), array(5), array(0), array(7), array(0), array(3), array(1), array(0), array(8), array(4), array(6), array(4), array(1), array(9), array(3), array(6), array(8), array(6), array(0), array(0), array(0), array(7), array(1), array(0), array(4), array(1), array(6), array(0), array(0), array(1), array(6), array(0), array(9), array(2), array(1), array(7), array(3), array(9), array(7), array(0), array(5), array(1), array(6), array(8), array(9), array(7), array(4), array(3), array(3), array(6), array(3), array(3), array(3), array(8), array(3), array(4), array(7), array(2), array(9), array(5), array(6), array(3), array(6), array(0), array(4), array(2), array(9), array(8), array(8), array(2), array(2), array(6), array(0), array(5), array(8), array(2), array(3), array(5), array(6), array(6), array(7), array(3), array(4), array(7), array(1), array(0), array(8), array(3), array(0), array(7), array(6), array(9), array(6), array(1), array(5), array(9), array(4), array(9), array(9), array(1), array(1), array(0), array(5), array(1), array(1), array(9), array(7), array(9), array(1), array(6), array(2), array(4), array(5), array(2), array(1), array(5), array(8), array(1), array(5), array(6), array(9), array(3), array(2), array(1), array(9), array(1), array(0), array(9), array(4), array(6), array(9), array(9), array(4), array(3), array(9), array(9), array(5), array(5), array(2), array(1), array(3), array(2), array(2), array(9), array(8), array(4), array(7), array(1), array(0), array(7), array(6), array(9), array(8), array(6), array(5), array(1), array(4), array(8), array(9), array(3), array(3), array(3), array(6), array(6), array(4), array(5), array(8), array(7), array(7), array(6), array(0), array(1), array(9), array(0), array(3), array(3), array(3), array(5), array(4), array(2), array(1), array(6), array(0), array(1), array(9), array(6), array(7), array(4), array(6), array(2), array(7), array(8), array(6), array(8), array(6), array(0), array(9), array(3), array(2), array(7), array(5), array(6), array(5), array(4), array(3), array(4), array(2), array(2), array(3), array(6), array(1), array(3), array(2), array(6), array(4), array(7), array(4), array(8), array(4), array(4), array(3), array(8), array(4), array(8), array(7), array(0), array(6), array(3), array(0), array(7), array(7), array(6), array(5), array(0), array(7), array(5), array(7), array(0), array(0), array(5), array(7), array(6), array(4), array(3), array(4), array(6), array(1), array(4), array(1), array(9), array(2), array(3), array(7), array(9), array(2), array(9), array(3), array(0), array(7), array(5), array(1), array(6), array(6), array(4), array(3), array(0), array(1), array(2), array(1), array(0), array(1), array(2), array(8), array(9), array(8), array(9), array(4), array(1), array(1), array(8), array(8), array(0), array(3), array(4), array(9), array(6), array(8), array(8), array(2), array(0), array(6), array(4), array(1), array(5), array(0), array(8), array(8), array(1), array(8), array(5), array(4), array(6), array(9), array(6), array(8), array(2), array(3), array(4), array(0), array(8), array(2), array(5), array(8), array(2), array(8), array(6), array(8), array(2), array(8), array(4), array(0), array(8), array(6), array(6), array(0), array(1), array(5), array(0), array(7), array(4), array(9), array(6), array(4), array(6), array(4), array(3), array(4), array(3), array(7), array(1), array(0), array(4), array(4), array(4), array(4), array(0), array(6), array(5), array(0), array(9), array(9), array(9), array(2), array(0), array(6), array(3), array(4), array(6), array(6), array(0), array(5), array(0), array(4), array(2), array(7), array(0), array(8), array(1), array(3), array(4), array(4), array(9), array(5), array(3), array(0), array(2), array(3), array(7), array(9), array(0), array(7), array(7), array(3), array(3), array(6), array(8), array(8), array(5), array(8), array(1), array(5), array(2), array(3), array(3), array(3), array(0), array(1), array(7), array(9), array(4), array(7), array(6), array(2), array(5), array(3), array(6), array(8), array(6), array(1), array(3), array(6), array(0), array(6), array(4), array(7), array(8), array(9), array(2), array(7), array(8), array(9), array(8), array(4), array(0), array(6), array(6), array(9), array(8), array(4), array(3), array(9), array(5), array(3), array(6), array(7), array(3), array(3), array(1), array(6), array(6), array(7), array(7), array(2), array(3), array(8), array(8), array(4), array(6), array(4), array(2), array(4), array(0), array(6), array(5), array(4), array(9), array(8), array(2), array(8), array(0), array(4), array(9), array(4), array(4), array(8), array(8), array(6), array(6), array(6), array(4), array(9), array(8), array(5), array(8), array(3), array(2), array(4), array(7), array(8), array(4), array(3), array(8), array(6), array(3), array(5), array(1), array(1), array(9), array(4), array(8), array(5), array(4), array(4), array(5), array(6), array(2), array(9), array(3), array(2), array(7), array(9), array(3), array(9), array(9), array(4), array(6), array(0), array(6), array(2), array(9), array(5), array(8), array(2), array(3), array(1), array(6), array(8), array(4), array(5), array(9), array(0), array(5), array(5), array(7), array(5), array(7), array(1), array(5), array(8), array(3), array(4), array(2), array(3), array(6), array(0), array(1), array(3), array(0), array(1), array(7), array(0), array(2), array(1), array(1), array(8), array(7), array(7), array(2), array(8), array(4), array(9), array(5), array(7), array(8), array(8), array(3), array(4), array(3), array(2), array(8), array(1), array(6), array(5), array(4), array(9), array(2), array(8), array(5), array(9), array(2), array(0), array(9), array(6), array(4), array(5), array(6), array(4), array(9), array(5), array(3), array(2), array(3), array(9), array(4), array(5), array(3), array(1), array(6), array(6), array(4), array(8), array(3), array(1), array(1), array(6), array(5), array(8), array(3), array(6), array(4), array(7), array(4), array(3), array(2), array(3), array(3), array(4), array(2), array(1), array(8), array(3), array(9), array(7), array(2), array(8), array(5), array(4), array(1), array(5), array(6), array(1), array(9), array(8), array(0), array(6), array(4), array(8), array(4), array(3), array(6), array(5), array(5), array(1), array(9), array(6), array(4), array(3), array(7), array(8), array(0), array(8), array(5), array(7), array(9), array(1), array(1), array(6), array(8), array(4), array(7), array(5), array(8), array(1), array(0), array(8), array(9), array(8), array(6), array(5), array(7), array(5), array(3), array(9), array(5), array(3), array(3), array(3), array(6), array(3), array(0), array(6), array(9), array(1), array(6), array(0), array(9), array(4), array(4), array(0), array(6), array(7), array(2), array(6), array(0), array(8), array(0), array(1), array(4), array(9), array(7), array(8), array(5), array(8), array(9), array(7), array(3), array(8), array(6), array(9), array(4), array(0), array(2), array(6), array(1), array(6), array(3), array(9), array(0), array(4), array(9), array(4), array(0), array(3), array(7), array(9), array(6), array(1), array(1), array(7), array(6), array(4), array(3), array(7), array(1), array(0), array(4), array(2), array(7), array(1), array(7), array(2), array(3), array(7), array(2), array(4), array(7), array(9), array(6), array(6), array(4), array(8), array(4), array(4), array(2), array(7), array(7), array(0), array(6), array(7), array(7), array(6), array(3), array(8), array(5), array(0), array(8), array(2), array(7), array(8), array(9), array(7), array(3), array(6), array(8), array(5), array(9), array(6), array(5), array(0), array(8), array(3), array(0), array(2), array(3), array(5), array(1), array(4), array(4), array(1), array(9), array(7), array(0), array(9), array(5), array(8), array(9), array(0), array(2), array(3), array(6), array(8), array(7), array(1), array(3), array(1), array(3), array(3), array(6), array(3), array(3), array(1), array(8), array(1), array(0), array(0), array(3), array(7), array(1), array(7), array(3), array(2), array(0), array(9), array(5), array(0), array(6), array(0), array(6), array(8), array(1), array(0), array(3), array(3), array(3), array(5), array(3), array(5), array(7), array(6), array(1), array(2), array(6), array(6), array(8), array(0), array(2), array(2), array(5), array(4), array(7), array(2), array(6), array(8), array(5), array(8), array(9), array(5), array(4), array(6), array(5), array(0), array(5), array(5), array(1), array(1), array(1), array(2), array(6), array(1), array(6), array(8), array(0), array(2), array(8), array(1), array(0), array(8), array(8), array(3), array(6), array(4), array(0), array(9), array(3), array(7), array(1), array(2), array(0), array(9), array(1), array(2), array(6), array(5), array(9), array(8), array(8), array(9), array(8), array(7), array(7), array(0), array(4), array(1), array(0), array(9), array(6), array(8), array(5), array(6), array(9), array(4), array(1), array(0), array(2), array(4), array(9), array(0), array(1), array(3), array(4), array(3), array(3), array(6), array(4), array(0), array(1), array(3), array(8), array(0), array(9), array(7), array(1), array(0), array(5), array(3), array(1), array(7), array(0), array(9), array(8), array(9), array(7), array(6), array(5), array(4), array(6), array(0), array(0), array(4), array(0), array(0), array(3), array(1), array(5), array(4), array(7), array(0), array(7), array(2), array(1), array(7), array(5), array(5), array(5), array(9), array(4), array(1), array(4), array(7), array(4), array(3), array(8), array(2), array(0), array(6), array(1), array(5), array(8), array(1), array(5), array(1), array(8), array(2), array(3), array(9), array(4), array(8), array(7), array(2), array(4), array(7), array(1), array(9), array(5), array(8), array(6), array(9), array(3), array(3), array(3), array(1), array(2), array(2), array(3), array(1), array(7), array(8), array(9), array(9), array(1), array(3), array(0), array(6), array(7), array(3), array(3), array(7), array(4), array(4), array(9), array(3), array(7), array(9), array(9), array(6), array(0), array(0), array(2), array(9), array(5), array(8), array(2), array(6), array(0), array(9), array(6), array(6), array(6), array(2), array(0), array(1), array(6), array(3), array(0), array(3), array(2), array(4), array(3), array(7), array(1), array(5), array(8), array(0), array(9), array(9), array(3), array(3), array(1), array(6), array(4), array(9), array(2), array(5), array(4), array(8), array(1), array(4), array(1), array(7), array(0), array(3), array(7), array(1), array(5), array(3), array(0), array(2), array(9), array(8), array(6), array(6), array(8), array(5), array(1), array(2), array(4), array(1), array(1), array(4), array(6), array(4), array(1), array(6), array(5), array(1), array(4), array(9), array(8), array(6), array(2), array(7), array(5), array(1), array(0), array(0), array(8), array(3), array(9), array(0), array(9), array(2), array(6), array(3), array(0), array(4), array(4), array(7), array(2), array(2), array(1), array(9), array(7), array(7), array(5), array(3), array(9), array(5), array(6), array(8), array(6), array(6), array(6), array(7), array(4), array(1), array(6), array(4), array(7), array(2), array(3), array(1), array(3), array(7), array(6), array(7), array(1), array(2), array(6), array(6), array(5), array(6), array(4), array(6), array(5), array(3), array(8), array(6), array(5), array(6), array(8), array(1), array(4), array(1), array(2), array(6), array(9), array(3), array(6), array(3), array(8), array(7), array(8), array(5), array(1), array(1), array(9), array(2), array(6), array(6), array(7), array(1), array(4), array(7), array(3), array(9), array(4), array(5), array(6), array(5), array(9), array(5), array(1), array(4), array(0), array(4), array(3), array(8), array(2), array(4), array(8), array(4), array(2), array(4), array(2), array(7), array(0), array(3), array(6), array(8), array(6), array(7), array(0), array(3), array(1), array(8), array(2), array(7), array(3), array(9), array(9), array(2), array(7), array(1), array(4), array(0), array(8), array(3), array(2), array(4), array(3), array(0), array(8), array(7), array(9), array(2), array(8), array(1), array(3), array(0), array(1), array(1), array(7), array(8), array(9), array(6), array(6), array(7), array(2), array(0), array(6), array(1), array(2), array(7), array(9), array(2), array(6), array(4), array(9), array(5), array(9), array(1), array(3), array(2), array(8), array(2), array(6), array(5), array(5), array(8), array(4), array(4), array(1), array(5), array(6), array(1), array(2), array(0), array(0), array(6), array(4), array(1), array(4), array(2), array(0), array(8), array(3), array(7), array(6), array(2), array(6), array(5), array(9), array(8), array(3), array(1), array(2), array(5), array(2), array(1), array(0), array(9), array(5), array(8), array(4), array(9), array(9), array(9), array(2), array(4), array(5), array(4), array(2), array(2), array(3), array(1), array(2), array(3), array(0), array(8), array(8), array(9), array(2), array(1), array(3), array(7), array(4), array(2), array(8), array(3), array(4), array(6), array(3), array(2), array(5), array(6), array(8), array(8), array(2), array(9), array(1), array(8), array(7), array(5), array(8), array(5), array(3), array(7), array(3), array(6), array(2), array(4), array(3), array(9), array(3), array(1), array(0), array(0), array(3), array(5), array(1), array(5), array(5), array(3), array(8), array(8), array(9), array(6), array(8), array(2), array(8), array(5), array(4), array(0), array(9), array(6), array(6), array(9), array(2), array(8), array(4), array(0), array(0), array(6), array(4), array(8), array(4), array(6), array(2), array(4), array(9), array(6), array(2), array(3), array(6), array(6), array(4), array(2), array(3), array(8), array(1), array(5), array(1), array(7), array(8), array(8), array(6), array(6), array(1), array(2), array(5), array(2), array(0), array(8), array(9), array(0), array(2), array(4), array(0), array(4), array(3), array(1), array(7), array(5), array(4), array(2), array(3), array(3), array(8), array(9), array(3), array(2), array(6), array(8), array(1), array(2), array(2), array(4), array(7), array(8), array(5), array(6), array(7), array(0), array(8), array(9), array(2), array(3), array(4), array(5), array(1), array(3), array(5), array(3), array(8), array(6), array(6), array(6), array(1), array(5), array(9), array(7), array(8), array(0), array(2), array(6), array(0), array(5), array(8), array(8), array(3), array(6), array(9), array(6), array(5), array(5), array(0), array(8), array(8), array(9), array(6), array(6), array(1), array(4), array(0), array(4), array(8), array(9), array(8), array(5), array(8), array(1), array(3), array(4), array(3), array(6), array(9), array(0), array(1), array(4), array(9), array(9), array(2), array(3), array(7), array(5), array(4), array(5), array(8), array(5), array(6), array(7), array(9), array(8), array(0), array(8), array(0), array(4), array(0), array(5), array(9), array(8), array(2), array(8), array(6), array(5), array(4), array(2), array(6), array(6), array(0), array(5), array(9), array(1), array(6), array(7), array(8), array(1), array(5), array(4), array(4), array(8), array(4), array(8), array(2), array(1), array(0), array(6), array(7), array(6), array(4), array(1), array(1), array(3), array(4), array(6), array(0), array(6), array(5), array(3), array(4), array(6), array(2), array(7), array(4), array(6), array(0), array(8), array(3), array(9), array(0), array(4), array(9), array(3), array(4), array(4), array(4), array(3), array(5), array(0), array(9), array(1), array(4), array(7), array(9), array(1), array(4), array(8), array(0), array(3), array(3), array(0), array(4), array(4), array(5), array(4), array(0), array(7), array(8), array(6), array(6), array(8), array(3), array(5), array(0), array(3), array(3), array(4), array(3), array(4), array(0), array(0), array(6), array(8), array(0), array(7), array(2), array(2), array(6), array(7), array(5), array(8), array(9), array(2), array(5), array(6), array(9), array(1), array(0), array(9), array(5), array(5), array(5), array(2), array(3), array(9), array(9), array(0), array(4), array(8), array(6), array(8), array(6), array(1), array(7), array(0), array(2), array(0), array(5), array(9), array(5), array(2), array(4), array(9), array(4), array(7), array(6), array(2), array(7), array(0), array(4), array(4), array(5), array(8), array(8), array(7), array(6), array(2), array(5), array(0), array(5), array(7), array(7), array(4), array(5), array(6), array(7), array(4), array(9), array(4), array(1), array(3), array(6), array(4), array(9), array(2), array(3), array(3), array(5), array(1), array(8), array(9), array(6), array(2), array(9), array(3), array(6), array(0), array(0), array(3), array(7), array(9), array(3), array(3), array(7), array(9), array(6), array(7), array(7), array(5), array(6), array(4), array(7), array(3), array(9), array(2), array(4), array(5), array(3), array(1), array(3), array(0), array(1), array(5), array(7), array(3), array(9), array(2), array(4), array(7), array(6), array(0), array(4), array(0), array(9), array(8), array(3)]\n"
          ]
        }
      ]
    },
    {
      "cell_type": "markdown",
      "source": [
        "87.7 on kaggle with lr=0.01 and epoch 5"
      ],
      "metadata": {
        "id": "YpkqzvJCjeWq"
      }
    },
    {
      "cell_type": "code",
      "source": [
        "transform = transforms.Resize((32,32))\n",
        "## grey to rbg\n",
        "data_test_rbg = data_test.repeat(1,3, 1, 1)\n",
        "\n",
        "data_test_32 = transform(data_test)\n",
        "datas_rbg = datas.repeat(1,3, 1, 1)\n",
        "\n",
        "dataset_32_rbg = TensorDataset(transform(datas_rbg),targets)\n",
        "print(f\"Length of Data : {len(dataset_32)}\")\n",
        "\n",
        "\n",
        "all_data_batch_size=256\n",
        "\n",
        "all_dataloader_32_rbg = DataLoader(dataset_32_rbg, all_data_batch_size, shuffle = True )\n",
        "batch_size_train = 256\n",
        "batch_size_test = 1000\n",
        "validatoin_size = 0.1\n",
        "\n",
        "\n",
        "val_size = int(validatoin_size *len(datas))\n",
        "train_size = len(dataset_32) - val_size\n",
        "\n",
        "train_data_32_rbg,val_data_32_rbg = random_split(dataset_32_rbg,[train_size,val_size])\n",
        "print(f\"Length of Train Data : {len(train_data_32_rbg)}\")\n",
        "print(f\"Length of Validation Data : {len(val_data_32_rbg)}\")\n",
        "\n",
        "train_loader_32_rbg = DataLoader(train_data_32_rbg, batch_size_train, shuffle = True )\n",
        "test_loader_32_rbg = DataLoader(val_data_32_rbg, batch_size_test)"
      ],
      "metadata": {
        "colab": {
          "base_uri": "https://localhost:8080/"
        },
        "id": "SN3NO7AruGU1",
        "outputId": "d59a4a24-5815-440d-f5f6-11bde1fb5823"
      },
      "execution_count": null,
      "outputs": [
        {
          "output_type": "stream",
          "name": "stdout",
          "text": [
            "Length of Data : 60000\n",
            "Length of Train Data : 54000\n",
            "Length of Validation Data : 6000\n"
          ]
        }
      ]
    },
    {
      "cell_type": "code",
      "source": [
        "n_epochs = 1\n",
        "learning_rate = 0.005\n",
        "momentum = 0.5\n",
        "log_interval = 500"
      ],
      "metadata": {
        "id": "4mnqiIaCwUCr"
      },
      "execution_count": null,
      "outputs": []
    }
  ]
}